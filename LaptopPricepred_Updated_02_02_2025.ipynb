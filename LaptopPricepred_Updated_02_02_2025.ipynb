{
  "cells": [
    {
      "cell_type": "code",
      "execution_count": 3,
      "id": "82edeb04",
      "metadata": {
        "id": "82edeb04"
      },
      "outputs": [],
      "source": [
        "import numpy as np\n",
        "import pandas as pd\n",
        "import matplotlib.pyplot as plt"
      ]
    },
    {
      "cell_type": "code",
      "execution_count": 4,
      "id": "5e550b74",
      "metadata": {},
      "outputs": [
        {
          "name": "stdout",
          "output_type": "stream",
          "text": [
            "Defaulting to user installation because normal site-packages is not writeable\n",
            "Requirement already satisfied: matplotlib in c:\\users\\kavita.jain\\appdata\\roaming\\python\\python313\\site-packages (3.10.5)\n",
            "Requirement already satisfied: contourpy>=1.0.1 in c:\\users\\kavita.jain\\appdata\\roaming\\python\\python313\\site-packages (from matplotlib) (1.3.3)\n",
            "Requirement already satisfied: cycler>=0.10 in c:\\users\\kavita.jain\\appdata\\roaming\\python\\python313\\site-packages (from matplotlib) (0.12.1)\n",
            "Requirement already satisfied: fonttools>=4.22.0 in c:\\users\\kavita.jain\\appdata\\roaming\\python\\python313\\site-packages (from matplotlib) (4.59.0)\n",
            "Requirement already satisfied: kiwisolver>=1.3.1 in c:\\users\\kavita.jain\\appdata\\roaming\\python\\python313\\site-packages (from matplotlib) (1.4.8)\n",
            "Requirement already satisfied: numpy>=1.23 in c:\\users\\kavita.jain\\appdata\\roaming\\python\\python313\\site-packages (from matplotlib) (2.3.1)\n",
            "Requirement already satisfied: packaging>=20.0 in c:\\users\\kavita.jain\\appdata\\roaming\\python\\python313\\site-packages (from matplotlib) (25.0)\n",
            "Requirement already satisfied: pillow>=8 in c:\\users\\kavita.jain\\appdata\\roaming\\python\\python313\\site-packages (from matplotlib) (11.3.0)\n",
            "Requirement already satisfied: pyparsing>=2.3.1 in c:\\users\\kavita.jain\\appdata\\roaming\\python\\python313\\site-packages (from matplotlib) (3.2.3)\n",
            "Requirement already satisfied: python-dateutil>=2.7 in c:\\users\\kavita.jain\\appdata\\roaming\\python\\python313\\site-packages (from matplotlib) (2.9.0.post0)\n",
            "Requirement already satisfied: six>=1.5 in c:\\users\\kavita.jain\\appdata\\roaming\\python\\python313\\site-packages (from python-dateutil>=2.7->matplotlib) (1.17.0)\n"
          ]
        },
        {
          "name": "stderr",
          "output_type": "stream",
          "text": [
            "\n",
            "[notice] A new release of pip is available: 25.1.1 -> 25.2\n",
            "[notice] To update, run: python.exe -m pip install --upgrade pip\n"
          ]
        }
      ],
      "source": [
        "!pip install matplotlib"
      ]
    },
    {
      "cell_type": "code",
      "execution_count": 5,
      "id": "203583d9",
      "metadata": {
        "id": "203583d9"
      },
      "outputs": [],
      "source": [
        "df = pd.read_csv('laptop_data.csv')"
      ]
    },
    {
      "cell_type": "code",
      "execution_count": 6,
      "id": "5106314a",
      "metadata": {
        "colab": {
          "base_uri": "https://localhost:8080/",
          "height": 469
        },
        "collapsed": true,
        "id": "5106314a",
        "outputId": "1dd4a86e-04c3-492a-81b1-287ac273dd90"
      },
      "outputs": [
        {
          "data": {
            "text/html": [
              "<div>\n",
              "<style scoped>\n",
              "    .dataframe tbody tr th:only-of-type {\n",
              "        vertical-align: middle;\n",
              "    }\n",
              "\n",
              "    .dataframe tbody tr th {\n",
              "        vertical-align: top;\n",
              "    }\n",
              "\n",
              "    .dataframe thead th {\n",
              "        text-align: right;\n",
              "    }\n",
              "</style>\n",
              "<table border=\"1\" class=\"dataframe\">\n",
              "  <thead>\n",
              "    <tr style=\"text-align: right;\">\n",
              "      <th></th>\n",
              "      <th>Unnamed: 0</th>\n",
              "      <th>Company</th>\n",
              "      <th>TypeName</th>\n",
              "      <th>Inches</th>\n",
              "      <th>ScreenResolution</th>\n",
              "      <th>Cpu</th>\n",
              "      <th>Ram</th>\n",
              "      <th>Memory</th>\n",
              "      <th>Gpu</th>\n",
              "      <th>OpSys</th>\n",
              "      <th>Weight</th>\n",
              "      <th>Price</th>\n",
              "    </tr>\n",
              "  </thead>\n",
              "  <tbody>\n",
              "    <tr>\n",
              "      <th>0</th>\n",
              "      <td>0</td>\n",
              "      <td>Apple</td>\n",
              "      <td>Ultrabook</td>\n",
              "      <td>13.3</td>\n",
              "      <td>IPS Panel Retina Display 2560x1600</td>\n",
              "      <td>Intel Core i5 2.3GHz</td>\n",
              "      <td>8GB</td>\n",
              "      <td>128GB SSD</td>\n",
              "      <td>Intel Iris Plus Graphics 640</td>\n",
              "      <td>macOS</td>\n",
              "      <td>1.37kg</td>\n",
              "      <td>71378.6832</td>\n",
              "    </tr>\n",
              "    <tr>\n",
              "      <th>1</th>\n",
              "      <td>1</td>\n",
              "      <td>Apple</td>\n",
              "      <td>Ultrabook</td>\n",
              "      <td>13.3</td>\n",
              "      <td>1440x900</td>\n",
              "      <td>Intel Core i5 1.8GHz</td>\n",
              "      <td>8GB</td>\n",
              "      <td>128GB Flash Storage</td>\n",
              "      <td>Intel HD Graphics 6000</td>\n",
              "      <td>macOS</td>\n",
              "      <td>1.34kg</td>\n",
              "      <td>47895.5232</td>\n",
              "    </tr>\n",
              "    <tr>\n",
              "      <th>2</th>\n",
              "      <td>2</td>\n",
              "      <td>HP</td>\n",
              "      <td>Notebook</td>\n",
              "      <td>15.6</td>\n",
              "      <td>Full HD 1920x1080</td>\n",
              "      <td>Intel Core i5 7200U 2.5GHz</td>\n",
              "      <td>8GB</td>\n",
              "      <td>256GB SSD</td>\n",
              "      <td>Intel HD Graphics 620</td>\n",
              "      <td>No OS</td>\n",
              "      <td>1.86kg</td>\n",
              "      <td>30636.0000</td>\n",
              "    </tr>\n",
              "    <tr>\n",
              "      <th>3</th>\n",
              "      <td>3</td>\n",
              "      <td>Apple</td>\n",
              "      <td>Ultrabook</td>\n",
              "      <td>15.4</td>\n",
              "      <td>IPS Panel Retina Display 2880x1800</td>\n",
              "      <td>Intel Core i7 2.7GHz</td>\n",
              "      <td>16GB</td>\n",
              "      <td>512GB SSD</td>\n",
              "      <td>AMD Radeon Pro 455</td>\n",
              "      <td>macOS</td>\n",
              "      <td>1.83kg</td>\n",
              "      <td>135195.3360</td>\n",
              "    </tr>\n",
              "    <tr>\n",
              "      <th>4</th>\n",
              "      <td>4</td>\n",
              "      <td>Apple</td>\n",
              "      <td>Ultrabook</td>\n",
              "      <td>13.3</td>\n",
              "      <td>IPS Panel Retina Display 2560x1600</td>\n",
              "      <td>Intel Core i5 3.1GHz</td>\n",
              "      <td>8GB</td>\n",
              "      <td>256GB SSD</td>\n",
              "      <td>Intel Iris Plus Graphics 650</td>\n",
              "      <td>macOS</td>\n",
              "      <td>1.37kg</td>\n",
              "      <td>96095.8080</td>\n",
              "    </tr>\n",
              "  </tbody>\n",
              "</table>\n",
              "</div>"
            ],
            "text/plain": [
              "   Unnamed: 0 Company   TypeName  Inches                    ScreenResolution  \\\n",
              "0           0   Apple  Ultrabook    13.3  IPS Panel Retina Display 2560x1600   \n",
              "1           1   Apple  Ultrabook    13.3                            1440x900   \n",
              "2           2      HP   Notebook    15.6                   Full HD 1920x1080   \n",
              "3           3   Apple  Ultrabook    15.4  IPS Panel Retina Display 2880x1800   \n",
              "4           4   Apple  Ultrabook    13.3  IPS Panel Retina Display 2560x1600   \n",
              "\n",
              "                          Cpu   Ram               Memory  \\\n",
              "0        Intel Core i5 2.3GHz   8GB            128GB SSD   \n",
              "1        Intel Core i5 1.8GHz   8GB  128GB Flash Storage   \n",
              "2  Intel Core i5 7200U 2.5GHz   8GB            256GB SSD   \n",
              "3        Intel Core i7 2.7GHz  16GB            512GB SSD   \n",
              "4        Intel Core i5 3.1GHz   8GB            256GB SSD   \n",
              "\n",
              "                            Gpu  OpSys  Weight        Price  \n",
              "0  Intel Iris Plus Graphics 640  macOS  1.37kg   71378.6832  \n",
              "1        Intel HD Graphics 6000  macOS  1.34kg   47895.5232  \n",
              "2         Intel HD Graphics 620  No OS  1.86kg   30636.0000  \n",
              "3            AMD Radeon Pro 455  macOS  1.83kg  135195.3360  \n",
              "4  Intel Iris Plus Graphics 650  macOS  1.37kg   96095.8080  "
            ]
          },
          "execution_count": 6,
          "metadata": {},
          "output_type": "execute_result"
        }
      ],
      "source": [
        "df.head()"
      ]
    },
    {
      "cell_type": "code",
      "execution_count": 7,
      "id": "5df0e810",
      "metadata": {
        "colab": {
          "base_uri": "https://localhost:8080/"
        },
        "id": "5df0e810",
        "outputId": "39fa437f-2d9c-40fe-f204-ddd8163c1a9a"
      },
      "outputs": [
        {
          "data": {
            "text/plain": [
              "(1303, 12)"
            ]
          },
          "execution_count": 7,
          "metadata": {},
          "output_type": "execute_result"
        }
      ],
      "source": [
        "df.shape"
      ]
    },
    {
      "cell_type": "code",
      "execution_count": 8,
      "id": "2721be49",
      "metadata": {
        "colab": {
          "base_uri": "https://localhost:8080/"
        },
        "collapsed": true,
        "id": "2721be49",
        "outputId": "ce9fa03d-ef69-49c8-b867-7b1b3a6e3131"
      },
      "outputs": [
        {
          "name": "stdout",
          "output_type": "stream",
          "text": [
            "<class 'pandas.core.frame.DataFrame'>\n",
            "RangeIndex: 1303 entries, 0 to 1302\n",
            "Data columns (total 12 columns):\n",
            " #   Column            Non-Null Count  Dtype  \n",
            "---  ------            --------------  -----  \n",
            " 0   Unnamed: 0        1303 non-null   int64  \n",
            " 1   Company           1303 non-null   object \n",
            " 2   TypeName          1303 non-null   object \n",
            " 3   Inches            1303 non-null   float64\n",
            " 4   ScreenResolution  1303 non-null   object \n",
            " 5   Cpu               1303 non-null   object \n",
            " 6   Ram               1303 non-null   object \n",
            " 7   Memory            1303 non-null   object \n",
            " 8   Gpu               1303 non-null   object \n",
            " 9   OpSys             1303 non-null   object \n",
            " 10  Weight            1303 non-null   object \n",
            " 11  Price             1303 non-null   float64\n",
            "dtypes: float64(2), int64(1), object(9)\n",
            "memory usage: 122.3+ KB\n"
          ]
        }
      ],
      "source": [
        "df.info()"
      ]
    },
    {
      "cell_type": "code",
      "execution_count": 9,
      "id": "d623a6c1",
      "metadata": {
        "colab": {
          "base_uri": "https://localhost:8080/"
        },
        "id": "d623a6c1",
        "outputId": "11805e82-7b17-405b-a3f1-d1d433b6be33"
      },
      "outputs": [
        {
          "data": {
            "text/plain": [
              "np.int64(0)"
            ]
          },
          "execution_count": 9,
          "metadata": {},
          "output_type": "execute_result"
        }
      ],
      "source": [
        "df.duplicated().sum()"
      ]
    },
    {
      "cell_type": "code",
      "execution_count": 10,
      "id": "a3e5e8f5",
      "metadata": {
        "colab": {
          "base_uri": "https://localhost:8080/",
          "height": 460
        },
        "id": "a3e5e8f5",
        "outputId": "d542d998-0927-41bd-89fc-d044d34d8765"
      },
      "outputs": [
        {
          "data": {
            "text/plain": [
              "Unnamed: 0          0\n",
              "Company             0\n",
              "TypeName            0\n",
              "Inches              0\n",
              "ScreenResolution    0\n",
              "Cpu                 0\n",
              "Ram                 0\n",
              "Memory              0\n",
              "Gpu                 0\n",
              "OpSys               0\n",
              "Weight              0\n",
              "Price               0\n",
              "dtype: int64"
            ]
          },
          "execution_count": 10,
          "metadata": {},
          "output_type": "execute_result"
        }
      ],
      "source": [
        "df.isnull().sum()"
      ]
    },
    {
      "cell_type": "code",
      "execution_count": 11,
      "id": "7da78c39",
      "metadata": {
        "id": "7da78c39"
      },
      "outputs": [],
      "source": [
        "df.drop(columns=['Unnamed: 0'],inplace=True)"
      ]
    },
    {
      "cell_type": "code",
      "execution_count": 12,
      "id": "533fe856",
      "metadata": {
        "colab": {
          "base_uri": "https://localhost:8080/",
          "height": 451
        },
        "id": "533fe856",
        "outputId": "1f0d39f2-3509-4e2e-c5bd-25cb3a4a1518"
      },
      "outputs": [
        {
          "data": {
            "text/html": [
              "<div>\n",
              "<style scoped>\n",
              "    .dataframe tbody tr th:only-of-type {\n",
              "        vertical-align: middle;\n",
              "    }\n",
              "\n",
              "    .dataframe tbody tr th {\n",
              "        vertical-align: top;\n",
              "    }\n",
              "\n",
              "    .dataframe thead th {\n",
              "        text-align: right;\n",
              "    }\n",
              "</style>\n",
              "<table border=\"1\" class=\"dataframe\">\n",
              "  <thead>\n",
              "    <tr style=\"text-align: right;\">\n",
              "      <th></th>\n",
              "      <th>Company</th>\n",
              "      <th>TypeName</th>\n",
              "      <th>Inches</th>\n",
              "      <th>ScreenResolution</th>\n",
              "      <th>Cpu</th>\n",
              "      <th>Ram</th>\n",
              "      <th>Memory</th>\n",
              "      <th>Gpu</th>\n",
              "      <th>OpSys</th>\n",
              "      <th>Weight</th>\n",
              "      <th>Price</th>\n",
              "    </tr>\n",
              "  </thead>\n",
              "  <tbody>\n",
              "    <tr>\n",
              "      <th>0</th>\n",
              "      <td>Apple</td>\n",
              "      <td>Ultrabook</td>\n",
              "      <td>13.3</td>\n",
              "      <td>IPS Panel Retina Display 2560x1600</td>\n",
              "      <td>Intel Core i5 2.3GHz</td>\n",
              "      <td>8GB</td>\n",
              "      <td>128GB SSD</td>\n",
              "      <td>Intel Iris Plus Graphics 640</td>\n",
              "      <td>macOS</td>\n",
              "      <td>1.37kg</td>\n",
              "      <td>71378.6832</td>\n",
              "    </tr>\n",
              "    <tr>\n",
              "      <th>1</th>\n",
              "      <td>Apple</td>\n",
              "      <td>Ultrabook</td>\n",
              "      <td>13.3</td>\n",
              "      <td>1440x900</td>\n",
              "      <td>Intel Core i5 1.8GHz</td>\n",
              "      <td>8GB</td>\n",
              "      <td>128GB Flash Storage</td>\n",
              "      <td>Intel HD Graphics 6000</td>\n",
              "      <td>macOS</td>\n",
              "      <td>1.34kg</td>\n",
              "      <td>47895.5232</td>\n",
              "    </tr>\n",
              "    <tr>\n",
              "      <th>2</th>\n",
              "      <td>HP</td>\n",
              "      <td>Notebook</td>\n",
              "      <td>15.6</td>\n",
              "      <td>Full HD 1920x1080</td>\n",
              "      <td>Intel Core i5 7200U 2.5GHz</td>\n",
              "      <td>8GB</td>\n",
              "      <td>256GB SSD</td>\n",
              "      <td>Intel HD Graphics 620</td>\n",
              "      <td>No OS</td>\n",
              "      <td>1.86kg</td>\n",
              "      <td>30636.0000</td>\n",
              "    </tr>\n",
              "    <tr>\n",
              "      <th>3</th>\n",
              "      <td>Apple</td>\n",
              "      <td>Ultrabook</td>\n",
              "      <td>15.4</td>\n",
              "      <td>IPS Panel Retina Display 2880x1800</td>\n",
              "      <td>Intel Core i7 2.7GHz</td>\n",
              "      <td>16GB</td>\n",
              "      <td>512GB SSD</td>\n",
              "      <td>AMD Radeon Pro 455</td>\n",
              "      <td>macOS</td>\n",
              "      <td>1.83kg</td>\n",
              "      <td>135195.3360</td>\n",
              "    </tr>\n",
              "    <tr>\n",
              "      <th>4</th>\n",
              "      <td>Apple</td>\n",
              "      <td>Ultrabook</td>\n",
              "      <td>13.3</td>\n",
              "      <td>IPS Panel Retina Display 2560x1600</td>\n",
              "      <td>Intel Core i5 3.1GHz</td>\n",
              "      <td>8GB</td>\n",
              "      <td>256GB SSD</td>\n",
              "      <td>Intel Iris Plus Graphics 650</td>\n",
              "      <td>macOS</td>\n",
              "      <td>1.37kg</td>\n",
              "      <td>96095.8080</td>\n",
              "    </tr>\n",
              "  </tbody>\n",
              "</table>\n",
              "</div>"
            ],
            "text/plain": [
              "  Company   TypeName  Inches                    ScreenResolution  \\\n",
              "0   Apple  Ultrabook    13.3  IPS Panel Retina Display 2560x1600   \n",
              "1   Apple  Ultrabook    13.3                            1440x900   \n",
              "2      HP   Notebook    15.6                   Full HD 1920x1080   \n",
              "3   Apple  Ultrabook    15.4  IPS Panel Retina Display 2880x1800   \n",
              "4   Apple  Ultrabook    13.3  IPS Panel Retina Display 2560x1600   \n",
              "\n",
              "                          Cpu   Ram               Memory  \\\n",
              "0        Intel Core i5 2.3GHz   8GB            128GB SSD   \n",
              "1        Intel Core i5 1.8GHz   8GB  128GB Flash Storage   \n",
              "2  Intel Core i5 7200U 2.5GHz   8GB            256GB SSD   \n",
              "3        Intel Core i7 2.7GHz  16GB            512GB SSD   \n",
              "4        Intel Core i5 3.1GHz   8GB            256GB SSD   \n",
              "\n",
              "                            Gpu  OpSys  Weight        Price  \n",
              "0  Intel Iris Plus Graphics 640  macOS  1.37kg   71378.6832  \n",
              "1        Intel HD Graphics 6000  macOS  1.34kg   47895.5232  \n",
              "2         Intel HD Graphics 620  No OS  1.86kg   30636.0000  \n",
              "3            AMD Radeon Pro 455  macOS  1.83kg  135195.3360  \n",
              "4  Intel Iris Plus Graphics 650  macOS  1.37kg   96095.8080  "
            ]
          },
          "execution_count": 12,
          "metadata": {},
          "output_type": "execute_result"
        }
      ],
      "source": [
        "df.head()"
      ]
    },
    {
      "cell_type": "code",
      "execution_count": 13,
      "id": "b0c543e1",
      "metadata": {
        "id": "b0c543e1"
      },
      "outputs": [],
      "source": [
        "df['Ram'] = df['Ram'].str.replace('GB','')\n",
        "df['Weight'] = df['Weight'].str.replace('kg','')"
      ]
    },
    {
      "cell_type": "code",
      "execution_count": 14,
      "id": "291e2927",
      "metadata": {
        "colab": {
          "base_uri": "https://localhost:8080/",
          "height": 431
        },
        "id": "291e2927",
        "outputId": "6356ef72-01d7-4887-c711-452c185eaa8b"
      },
      "outputs": [
        {
          "data": {
            "text/html": [
              "<div>\n",
              "<style scoped>\n",
              "    .dataframe tbody tr th:only-of-type {\n",
              "        vertical-align: middle;\n",
              "    }\n",
              "\n",
              "    .dataframe tbody tr th {\n",
              "        vertical-align: top;\n",
              "    }\n",
              "\n",
              "    .dataframe thead th {\n",
              "        text-align: right;\n",
              "    }\n",
              "</style>\n",
              "<table border=\"1\" class=\"dataframe\">\n",
              "  <thead>\n",
              "    <tr style=\"text-align: right;\">\n",
              "      <th></th>\n",
              "      <th>Company</th>\n",
              "      <th>TypeName</th>\n",
              "      <th>Inches</th>\n",
              "      <th>ScreenResolution</th>\n",
              "      <th>Cpu</th>\n",
              "      <th>Ram</th>\n",
              "      <th>Memory</th>\n",
              "      <th>Gpu</th>\n",
              "      <th>OpSys</th>\n",
              "      <th>Weight</th>\n",
              "      <th>Price</th>\n",
              "    </tr>\n",
              "  </thead>\n",
              "  <tbody>\n",
              "    <tr>\n",
              "      <th>0</th>\n",
              "      <td>Apple</td>\n",
              "      <td>Ultrabook</td>\n",
              "      <td>13.3</td>\n",
              "      <td>IPS Panel Retina Display 2560x1600</td>\n",
              "      <td>Intel Core i5 2.3GHz</td>\n",
              "      <td>8</td>\n",
              "      <td>128GB SSD</td>\n",
              "      <td>Intel Iris Plus Graphics 640</td>\n",
              "      <td>macOS</td>\n",
              "      <td>1.37</td>\n",
              "      <td>71378.6832</td>\n",
              "    </tr>\n",
              "    <tr>\n",
              "      <th>1</th>\n",
              "      <td>Apple</td>\n",
              "      <td>Ultrabook</td>\n",
              "      <td>13.3</td>\n",
              "      <td>1440x900</td>\n",
              "      <td>Intel Core i5 1.8GHz</td>\n",
              "      <td>8</td>\n",
              "      <td>128GB Flash Storage</td>\n",
              "      <td>Intel HD Graphics 6000</td>\n",
              "      <td>macOS</td>\n",
              "      <td>1.34</td>\n",
              "      <td>47895.5232</td>\n",
              "    </tr>\n",
              "    <tr>\n",
              "      <th>2</th>\n",
              "      <td>HP</td>\n",
              "      <td>Notebook</td>\n",
              "      <td>15.6</td>\n",
              "      <td>Full HD 1920x1080</td>\n",
              "      <td>Intel Core i5 7200U 2.5GHz</td>\n",
              "      <td>8</td>\n",
              "      <td>256GB SSD</td>\n",
              "      <td>Intel HD Graphics 620</td>\n",
              "      <td>No OS</td>\n",
              "      <td>1.86</td>\n",
              "      <td>30636.0000</td>\n",
              "    </tr>\n",
              "    <tr>\n",
              "      <th>3</th>\n",
              "      <td>Apple</td>\n",
              "      <td>Ultrabook</td>\n",
              "      <td>15.4</td>\n",
              "      <td>IPS Panel Retina Display 2880x1800</td>\n",
              "      <td>Intel Core i7 2.7GHz</td>\n",
              "      <td>16</td>\n",
              "      <td>512GB SSD</td>\n",
              "      <td>AMD Radeon Pro 455</td>\n",
              "      <td>macOS</td>\n",
              "      <td>1.83</td>\n",
              "      <td>135195.3360</td>\n",
              "    </tr>\n",
              "    <tr>\n",
              "      <th>4</th>\n",
              "      <td>Apple</td>\n",
              "      <td>Ultrabook</td>\n",
              "      <td>13.3</td>\n",
              "      <td>IPS Panel Retina Display 2560x1600</td>\n",
              "      <td>Intel Core i5 3.1GHz</td>\n",
              "      <td>8</td>\n",
              "      <td>256GB SSD</td>\n",
              "      <td>Intel Iris Plus Graphics 650</td>\n",
              "      <td>macOS</td>\n",
              "      <td>1.37</td>\n",
              "      <td>96095.8080</td>\n",
              "    </tr>\n",
              "  </tbody>\n",
              "</table>\n",
              "</div>"
            ],
            "text/plain": [
              "  Company   TypeName  Inches                    ScreenResolution  \\\n",
              "0   Apple  Ultrabook    13.3  IPS Panel Retina Display 2560x1600   \n",
              "1   Apple  Ultrabook    13.3                            1440x900   \n",
              "2      HP   Notebook    15.6                   Full HD 1920x1080   \n",
              "3   Apple  Ultrabook    15.4  IPS Panel Retina Display 2880x1800   \n",
              "4   Apple  Ultrabook    13.3  IPS Panel Retina Display 2560x1600   \n",
              "\n",
              "                          Cpu Ram               Memory  \\\n",
              "0        Intel Core i5 2.3GHz   8            128GB SSD   \n",
              "1        Intel Core i5 1.8GHz   8  128GB Flash Storage   \n",
              "2  Intel Core i5 7200U 2.5GHz   8            256GB SSD   \n",
              "3        Intel Core i7 2.7GHz  16            512GB SSD   \n",
              "4        Intel Core i5 3.1GHz   8            256GB SSD   \n",
              "\n",
              "                            Gpu  OpSys Weight        Price  \n",
              "0  Intel Iris Plus Graphics 640  macOS   1.37   71378.6832  \n",
              "1        Intel HD Graphics 6000  macOS   1.34   47895.5232  \n",
              "2         Intel HD Graphics 620  No OS   1.86   30636.0000  \n",
              "3            AMD Radeon Pro 455  macOS   1.83  135195.3360  \n",
              "4  Intel Iris Plus Graphics 650  macOS   1.37   96095.8080  "
            ]
          },
          "execution_count": 14,
          "metadata": {},
          "output_type": "execute_result"
        }
      ],
      "source": [
        "df.head()"
      ]
    },
    {
      "cell_type": "code",
      "execution_count": 15,
      "id": "9d4c27a5",
      "metadata": {
        "id": "9d4c27a5"
      },
      "outputs": [],
      "source": [
        "df['Ram'] = df['Ram'].astype('int32')\n",
        "df['Weight'] = df['Weight'].astype('float32')"
      ]
    },
    {
      "cell_type": "code",
      "execution_count": 16,
      "id": "356bdba8",
      "metadata": {
        "colab": {
          "base_uri": "https://localhost:8080/"
        },
        "id": "356bdba8",
        "outputId": "cbbe316c-9634-4c0d-9b46-d20018e3dca2"
      },
      "outputs": [
        {
          "name": "stdout",
          "output_type": "stream",
          "text": [
            "<class 'pandas.core.frame.DataFrame'>\n",
            "RangeIndex: 1303 entries, 0 to 1302\n",
            "Data columns (total 11 columns):\n",
            " #   Column            Non-Null Count  Dtype  \n",
            "---  ------            --------------  -----  \n",
            " 0   Company           1303 non-null   object \n",
            " 1   TypeName          1303 non-null   object \n",
            " 2   Inches            1303 non-null   float64\n",
            " 3   ScreenResolution  1303 non-null   object \n",
            " 4   Cpu               1303 non-null   object \n",
            " 5   Ram               1303 non-null   int32  \n",
            " 6   Memory            1303 non-null   object \n",
            " 7   Gpu               1303 non-null   object \n",
            " 8   OpSys             1303 non-null   object \n",
            " 9   Weight            1303 non-null   float32\n",
            " 10  Price             1303 non-null   float64\n",
            "dtypes: float32(1), float64(2), int32(1), object(7)\n",
            "memory usage: 101.9+ KB\n"
          ]
        }
      ],
      "source": [
        "df.info()"
      ]
    },
    {
      "cell_type": "code",
      "execution_count": 19,
      "id": "51e9c4c5",
      "metadata": {
        "id": "51e9c4c5"
      },
      "outputs": [],
      "source": [
        "import seaborn as sns"
      ]
    },
    {
      "cell_type": "code",
      "execution_count": 18,
      "id": "647793cf",
      "metadata": {},
      "outputs": [
        {
          "name": "stdout",
          "output_type": "stream",
          "text": [
            "Defaulting to user installation because normal site-packages is not writeable\n",
            "Collecting seaborn\n",
            "  Downloading seaborn-0.13.2-py3-none-any.whl.metadata (5.4 kB)\n",
            "Requirement already satisfied: numpy!=1.24.0,>=1.20 in c:\\users\\kavita.jain\\appdata\\roaming\\python\\python313\\site-packages (from seaborn) (2.3.1)\n",
            "Requirement already satisfied: pandas>=1.2 in c:\\users\\kavita.jain\\appdata\\roaming\\python\\python313\\site-packages (from seaborn) (2.3.0)\n",
            "Requirement already satisfied: matplotlib!=3.6.1,>=3.4 in c:\\users\\kavita.jain\\appdata\\roaming\\python\\python313\\site-packages (from seaborn) (3.10.5)\n",
            "Requirement already satisfied: contourpy>=1.0.1 in c:\\users\\kavita.jain\\appdata\\roaming\\python\\python313\\site-packages (from matplotlib!=3.6.1,>=3.4->seaborn) (1.3.3)\n",
            "Requirement already satisfied: cycler>=0.10 in c:\\users\\kavita.jain\\appdata\\roaming\\python\\python313\\site-packages (from matplotlib!=3.6.1,>=3.4->seaborn) (0.12.1)\n",
            "Requirement already satisfied: fonttools>=4.22.0 in c:\\users\\kavita.jain\\appdata\\roaming\\python\\python313\\site-packages (from matplotlib!=3.6.1,>=3.4->seaborn) (4.59.0)\n",
            "Requirement already satisfied: kiwisolver>=1.3.1 in c:\\users\\kavita.jain\\appdata\\roaming\\python\\python313\\site-packages (from matplotlib!=3.6.1,>=3.4->seaborn) (1.4.8)\n",
            "Requirement already satisfied: packaging>=20.0 in c:\\users\\kavita.jain\\appdata\\roaming\\python\\python313\\site-packages (from matplotlib!=3.6.1,>=3.4->seaborn) (25.0)\n",
            "Requirement already satisfied: pillow>=8 in c:\\users\\kavita.jain\\appdata\\roaming\\python\\python313\\site-packages (from matplotlib!=3.6.1,>=3.4->seaborn) (11.3.0)\n",
            "Requirement already satisfied: pyparsing>=2.3.1 in c:\\users\\kavita.jain\\appdata\\roaming\\python\\python313\\site-packages (from matplotlib!=3.6.1,>=3.4->seaborn) (3.2.3)\n",
            "Requirement already satisfied: python-dateutil>=2.7 in c:\\users\\kavita.jain\\appdata\\roaming\\python\\python313\\site-packages (from matplotlib!=3.6.1,>=3.4->seaborn) (2.9.0.post0)\n",
            "Requirement already satisfied: pytz>=2020.1 in c:\\users\\kavita.jain\\appdata\\roaming\\python\\python313\\site-packages (from pandas>=1.2->seaborn) (2025.2)\n",
            "Requirement already satisfied: tzdata>=2022.7 in c:\\users\\kavita.jain\\appdata\\roaming\\python\\python313\\site-packages (from pandas>=1.2->seaborn) (2025.2)\n",
            "Requirement already satisfied: six>=1.5 in c:\\users\\kavita.jain\\appdata\\roaming\\python\\python313\\site-packages (from python-dateutil>=2.7->matplotlib!=3.6.1,>=3.4->seaborn) (1.17.0)\n",
            "Downloading seaborn-0.13.2-py3-none-any.whl (294 kB)\n",
            "Installing collected packages: seaborn\n",
            "Successfully installed seaborn-0.13.2\n"
          ]
        },
        {
          "name": "stderr",
          "output_type": "stream",
          "text": [
            "\n",
            "[notice] A new release of pip is available: 25.1.1 -> 25.2\n",
            "[notice] To update, run: python.exe -m pip install --upgrade pip\n"
          ]
        }
      ],
      "source": [
        "!pip install seaborn"
      ]
    },
    {
      "cell_type": "code",
      "execution_count": 20,
      "id": "37e41400",
      "metadata": {
        "colab": {
          "base_uri": "https://localhost:8080/",
          "height": 673
        },
        "id": "37e41400",
        "outputId": "e0366de9-5097-4333-dc07-4f4b7b80fed0"
      },
      "outputs": [
        {
          "data": {
            "text/plain": [
              "<Axes: xlabel='Price', ylabel='Count'>"
            ]
          },
          "execution_count": 20,
          "metadata": {},
          "output_type": "execute_result"
        },
        {
          "data": {
            "image/png": "[encoded data removed]",
            "text/plain": [
              "<Figure size 640x480 with 1 Axes>"
            ]
          },
          "metadata": {},
          "output_type": "display_data"
        }
      ],
      "source": [
        "sns.histplot(df['Price'])"
      ]
    },
    {
      "cell_type": "code",
      "execution_count": 21,
      "id": "505d0590",
      "metadata": {
        "colab": {
          "base_uri": "https://localhost:8080/",
          "height": 524
        },
        "id": "505d0590",
        "outputId": "6dc5b72a-eaa2-4b3a-80f4-dd4c0ca757c2"
      },
      "outputs": [
        {
          "data": {
            "text/plain": [
              "<Axes: xlabel='Company'>"
            ]
          },
          "execution_count": 21,
          "metadata": {},
          "output_type": "execute_result"
        },
        {
          "data": {
            "image/png": "[encoded data removed]",
            "text/plain": [
              "<Figure size 640x480 with 1 Axes>"
            ]
          },
          "metadata": {},
          "output_type": "display_data"
        }
      ],
      "source": [
        "df['Company'].value_counts().plot(kind='bar')"
      ]
    },
    {
      "cell_type": "code",
      "execution_count": 22,
      "id": "894b0057",
      "metadata": {
        "colab": {
          "base_uri": "https://localhost:8080/",
          "height": 507
        },
        "id": "894b0057",
        "outputId": "c472fb91-336f-4b8a-a28f-3a6340c78e55"
      },
      "outputs": [
        {
          "data": {
            "image/png": "[encoded data removed]",
            "text/plain": [
              "<Figure size 640x480 with 1 Axes>"
            ]
          },
          "metadata": {},
          "output_type": "display_data"
        }
      ],
      "source": [
        "sns.barplot(x=df['Company'],y=df['Price'])\n",
        "plt.xticks(rotation='vertical')\n",
        "plt.show()"
      ]
    },
    {
      "cell_type": "code",
      "execution_count": 23,
      "id": "b2f90ba1",
      "metadata": {
        "colab": {
          "base_uri": "https://localhost:8080/",
          "height": 576
        },
        "id": "b2f90ba1",
        "outputId": "01aa7277-f806-4a40-9a31-e5dc24114054"
      },
      "outputs": [
        {
          "data": {
            "text/plain": [
              "<Axes: xlabel='TypeName'>"
            ]
          },
          "execution_count": 23,
          "metadata": {},
          "output_type": "execute_result"
        },
        {
          "data": {
            "image/png": "[encoded data removed]",
            "text/plain": [
              "<Figure size 640x480 with 1 Axes>"
            ]
          },
          "metadata": {},
          "output_type": "display_data"
        }
      ],
      "source": [
        "df['TypeName'].value_counts().plot(kind='bar')"
      ]
    },
    {
      "cell_type": "code",
      "execution_count": 24,
      "id": "110dbb85",
      "metadata": {
        "colab": {
          "base_uri": "https://localhost:8080/",
          "height": 559
        },
        "id": "110dbb85",
        "outputId": "f5eb661c-448f-4af8-8aaf-bedcfd406955"
      },
      "outputs": [
        {
          "data": {
            "image/png": "[encoded data removed]",
            "text/plain": [
              "<Figure size 640x480 with 1 Axes>"
            ]
          },
          "metadata": {},
          "output_type": "display_data"
        }
      ],
      "source": [
        "sns.barplot(x=df['TypeName'],y=df['Price'])\n",
        "plt.xticks(rotation='vertical')\n",
        "plt.show()"
      ]
    },
    {
      "cell_type": "code",
      "execution_count": 25,
      "id": "8ba1598a",
      "metadata": {
        "colab": {
          "base_uri": "https://localhost:8080/",
          "height": 657
        },
        "id": "8ba1598a",
        "outputId": "b277f4de-25b6-434d-f8b5-b8db99f8eea3"
      },
      "outputs": [
        {
          "data": {
            "text/plain": [
              "<Axes: xlabel='Inches', ylabel='Count'>"
            ]
          },
          "execution_count": 25,
          "metadata": {},
          "output_type": "execute_result"
        },
        {
          "data": {
            "image/png": "[encoded data removed]",
            "text/plain": [
              "<Figure size 640x480 with 1 Axes>"
            ]
          },
          "metadata": {},
          "output_type": "display_data"
        }
      ],
      "source": [
        "sns.histplot(df['Inches'])"
      ]
    },
    {
      "cell_type": "code",
      "execution_count": 26,
      "id": "114dabbf",
      "metadata": {
        "colab": {
          "base_uri": "https://localhost:8080/",
          "height": 466
        },
        "id": "114dabbf",
        "outputId": "f7eb5230-55bb-4c76-eb86-bb0531bf5f34"
      },
      "outputs": [
        {
          "data": {
            "text/plain": [
              "<Axes: xlabel='Inches', ylabel='Price'>"
            ]
          },
          "execution_count": 26,
          "metadata": {},
          "output_type": "execute_result"
        },
        {
          "data": {
            "image/png": "[encoded data removed]",
            "text/plain": [
              "<Figure size 640x480 with 1 Axes>"
            ]
          },
          "metadata": {},
          "output_type": "display_data"
        }
      ],
      "source": [
        "sns.scatterplot(x=df['Inches'],y=df['Price'])"
      ]
    },
    {
      "cell_type": "code",
      "execution_count": 27,
      "id": "46a2daff",
      "metadata": {
        "colab": {
          "base_uri": "https://localhost:8080/",
          "height": 1000
        },
        "id": "46a2daff",
        "outputId": "1ae4e2c9-9256-4da4-e6b6-fe91ed4f0dab"
      },
      "outputs": [
        {
          "data": {
            "text/plain": [
              "ScreenResolution\n",
              "Full HD 1920x1080                                507\n",
              "1366x768                                         281\n",
              "IPS Panel Full HD 1920x1080                      230\n",
              "IPS Panel Full HD / Touchscreen 1920x1080         53\n",
              "Full HD / Touchscreen 1920x1080                   47\n",
              "1600x900                                          23\n",
              "Touchscreen 1366x768                              16\n",
              "Quad HD+ / Touchscreen 3200x1800                  15\n",
              "IPS Panel 4K Ultra HD 3840x2160                   12\n",
              "IPS Panel 4K Ultra HD / Touchscreen 3840x2160     11\n",
              "4K Ultra HD / Touchscreen 3840x2160               10\n",
              "IPS Panel 1366x768                                 7\n",
              "Touchscreen 2560x1440                              7\n",
              "4K Ultra HD 3840x2160                              7\n",
              "IPS Panel Retina Display 2304x1440                 6\n",
              "IPS Panel Retina Display 2560x1600                 6\n",
              "Touchscreen 2256x1504                              6\n",
              "IPS Panel Quad HD+ / Touchscreen 3200x1800         6\n",
              "IPS Panel Touchscreen 2560x1440                    5\n",
              "IPS Panel Retina Display 2880x1800                 4\n",
              "1440x900                                           4\n",
              "IPS Panel Touchscreen 1920x1200                    4\n",
              "IPS Panel 2560x1440                                4\n",
              "IPS Panel Quad HD+ 2560x1440                       3\n",
              "IPS Panel Touchscreen 1366x768                     3\n",
              "Quad HD+ 3200x1800                                 3\n",
              "1920x1080                                          3\n",
              "2560x1440                                          3\n",
              "Touchscreen 2400x1600                              3\n",
              "IPS Panel Quad HD+ 3200x1800                       2\n",
              "IPS Panel Full HD 2160x1440                        2\n",
              "IPS Panel Touchscreen / 4K Ultra HD 3840x2160      2\n",
              "IPS Panel Full HD 1366x768                         1\n",
              "Touchscreen / Quad HD+ 3200x1800                   1\n",
              "IPS Panel Retina Display 2736x1824                 1\n",
              "IPS Panel Full HD 2560x1440                        1\n",
              "IPS Panel Full HD 1920x1200                        1\n",
              "Touchscreen / Full HD 1920x1080                    1\n",
              "Touchscreen / 4K Ultra HD 3840x2160                1\n",
              "IPS Panel Touchscreen 2400x1600                    1\n",
              "Name: count, dtype: int64"
            ]
          },
          "execution_count": 27,
          "metadata": {},
          "output_type": "execute_result"
        }
      ],
      "source": [
        "df['ScreenResolution'].value_counts()"
      ]
    },
    {
      "cell_type": "code",
      "execution_count": 28,
      "id": "4e4f26f5",
      "metadata": {
        "id": "4e4f26f5"
      },
      "outputs": [],
      "source": [
        "df['Touchscreen'] = df['ScreenResolution'].apply(lambda x:1 if 'Touchscreen' in x else 0)"
      ]
    },
    {
      "cell_type": "code",
      "execution_count": 29,
      "id": "07992d2e",
      "metadata": {
        "colab": {
          "base_uri": "https://localhost:8080/",
          "height": 486
        },
        "id": "07992d2e",
        "outputId": "5ce7f1ec-8ef2-4034-910c-75dbf2fa7a2e"
      },
      "outputs": [
        {
          "data": {
            "text/html": [
              "<div>\n",
              "<style scoped>\n",
              "    .dataframe tbody tr th:only-of-type {\n",
              "        vertical-align: middle;\n",
              "    }\n",
              "\n",
              "    .dataframe tbody tr th {\n",
              "        vertical-align: top;\n",
              "    }\n",
              "\n",
              "    .dataframe thead th {\n",
              "        text-align: right;\n",
              "    }\n",
              "</style>\n",
              "<table border=\"1\" class=\"dataframe\">\n",
              "  <thead>\n",
              "    <tr style=\"text-align: right;\">\n",
              "      <th></th>\n",
              "      <th>Company</th>\n",
              "      <th>TypeName</th>\n",
              "      <th>Inches</th>\n",
              "      <th>ScreenResolution</th>\n",
              "      <th>Cpu</th>\n",
              "      <th>Ram</th>\n",
              "      <th>Memory</th>\n",
              "      <th>Gpu</th>\n",
              "      <th>OpSys</th>\n",
              "      <th>Weight</th>\n",
              "      <th>Price</th>\n",
              "      <th>Touchscreen</th>\n",
              "    </tr>\n",
              "  </thead>\n",
              "  <tbody>\n",
              "    <tr>\n",
              "      <th>588</th>\n",
              "      <td>Lenovo</td>\n",
              "      <td>Notebook</td>\n",
              "      <td>15.6</td>\n",
              "      <td>Touchscreen 1366x768</td>\n",
              "      <td>Intel Core i7 8550U 1.8GHz</td>\n",
              "      <td>12</td>\n",
              "      <td>1TB HDD</td>\n",
              "      <td>Intel HD Graphics 620</td>\n",
              "      <td>Windows 10</td>\n",
              "      <td>2.20</td>\n",
              "      <td>32447.52</td>\n",
              "      <td>1</td>\n",
              "    </tr>\n",
              "    <tr>\n",
              "      <th>113</th>\n",
              "      <td>HP</td>\n",
              "      <td>Notebook</td>\n",
              "      <td>14.0</td>\n",
              "      <td>IPS Panel 1366x768</td>\n",
              "      <td>Intel Core i5 8250U 1.6GHz</td>\n",
              "      <td>4</td>\n",
              "      <td>500GB HDD</td>\n",
              "      <td>Intel UHD Graphics 620</td>\n",
              "      <td>Windows 10</td>\n",
              "      <td>1.63</td>\n",
              "      <td>38468.16</td>\n",
              "      <td>0</td>\n",
              "    </tr>\n",
              "    <tr>\n",
              "      <th>1125</th>\n",
              "      <td>Lenovo</td>\n",
              "      <td>2 in 1 Convertible</td>\n",
              "      <td>14.0</td>\n",
              "      <td>IPS Panel Full HD / Touchscreen 1920x1080</td>\n",
              "      <td>Intel Core i7 6500U 2.5GHz</td>\n",
              "      <td>8</td>\n",
              "      <td>256GB SSD</td>\n",
              "      <td>Intel HD Graphics 520</td>\n",
              "      <td>Windows 10</td>\n",
              "      <td>1.80</td>\n",
              "      <td>88924.32</td>\n",
              "      <td>1</td>\n",
              "    </tr>\n",
              "    <tr>\n",
              "      <th>416</th>\n",
              "      <td>Dell</td>\n",
              "      <td>Notebook</td>\n",
              "      <td>13.3</td>\n",
              "      <td>1366x768</td>\n",
              "      <td>Intel Core i3 6006U 2GHz</td>\n",
              "      <td>4</td>\n",
              "      <td>128GB SSD</td>\n",
              "      <td>Intel HD Graphics 520</td>\n",
              "      <td>Windows 10</td>\n",
              "      <td>1.65</td>\n",
              "      <td>36709.92</td>\n",
              "      <td>0</td>\n",
              "    </tr>\n",
              "    <tr>\n",
              "      <th>313</th>\n",
              "      <td>Acer</td>\n",
              "      <td>Notebook</td>\n",
              "      <td>15.6</td>\n",
              "      <td>Full HD 1920x1080</td>\n",
              "      <td>AMD A8-Series 7410 2.2GHz</td>\n",
              "      <td>8</td>\n",
              "      <td>256GB SSD</td>\n",
              "      <td>AMD Radeon R5</td>\n",
              "      <td>Windows 10</td>\n",
              "      <td>2.23</td>\n",
              "      <td>24988.32</td>\n",
              "      <td>0</td>\n",
              "    </tr>\n",
              "  </tbody>\n",
              "</table>\n",
              "</div>"
            ],
            "text/plain": [
              "     Company            TypeName  Inches  \\\n",
              "588   Lenovo            Notebook    15.6   \n",
              "113       HP            Notebook    14.0   \n",
              "1125  Lenovo  2 in 1 Convertible    14.0   \n",
              "416     Dell            Notebook    13.3   \n",
              "313     Acer            Notebook    15.6   \n",
              "\n",
              "                               ScreenResolution                         Cpu  \\\n",
              "588                        Touchscreen 1366x768  Intel Core i7 8550U 1.8GHz   \n",
              "113                          IPS Panel 1366x768  Intel Core i5 8250U 1.6GHz   \n",
              "1125  IPS Panel Full HD / Touchscreen 1920x1080  Intel Core i7 6500U 2.5GHz   \n",
              "416                                    1366x768    Intel Core i3 6006U 2GHz   \n",
              "313                           Full HD 1920x1080   AMD A8-Series 7410 2.2GHz   \n",
              "\n",
              "      Ram     Memory                     Gpu       OpSys  Weight     Price  \\\n",
              "588    12    1TB HDD   Intel HD Graphics 620  Windows 10    2.20  32447.52   \n",
              "113     4  500GB HDD  Intel UHD Graphics 620  Windows 10    1.63  38468.16   \n",
              "1125    8  256GB SSD   Intel HD Graphics 520  Windows 10    1.80  88924.32   \n",
              "416     4  128GB SSD   Intel HD Graphics 520  Windows 10    1.65  36709.92   \n",
              "313     8  256GB SSD           AMD Radeon R5  Windows 10    2.23  24988.32   \n",
              "\n",
              "      Touchscreen  \n",
              "588             1  \n",
              "113             0  \n",
              "1125            1  \n",
              "416             0  \n",
              "313             0  "
            ]
          },
          "execution_count": 29,
          "metadata": {},
          "output_type": "execute_result"
        }
      ],
      "source": [
        "df.sample(5)"
      ]
    },
    {
      "cell_type": "code",
      "execution_count": 30,
      "id": "2fa50fd6",
      "metadata": {
        "colab": {
          "base_uri": "https://localhost:8080/",
          "height": 461
        },
        "id": "2fa50fd6",
        "outputId": "f14d9262-5313-4e14-a0ce-69d0207bd287"
      },
      "outputs": [
        {
          "data": {
            "text/plain": [
              "<Axes: xlabel='Touchscreen'>"
            ]
          },
          "execution_count": 30,
          "metadata": {},
          "output_type": "execute_result"
        },
        {
          "data": {
            "image/png": "[encoded data removed]",
            "text/plain": [
              "<Figure size 640x480 with 1 Axes>"
            ]
          },
          "metadata": {},
          "output_type": "display_data"
        }
      ],
      "source": [
        "df['Touchscreen'].value_counts().plot(kind='bar')"
      ]
    },
    {
      "cell_type": "code",
      "execution_count": 31,
      "id": "d1b428b4",
      "metadata": {
        "colab": {
          "base_uri": "https://localhost:8080/",
          "height": 466
        },
        "id": "d1b428b4",
        "outputId": "acd30f4f-5828-4f13-ebce-65bbd7666934"
      },
      "outputs": [
        {
          "data": {
            "text/plain": [
              "<Axes: xlabel='Touchscreen', ylabel='Price'>"
            ]
          },
          "execution_count": 31,
          "metadata": {},
          "output_type": "execute_result"
        },
        {
          "data": {
            "image/png": "[encoded data removed]",
            "text/plain": [
              "<Figure size 640x480 with 1 Axes>"
            ]
          },
          "metadata": {},
          "output_type": "display_data"
        }
      ],
      "source": [
        "sns.barplot(x=df['Touchscreen'],y=df['Price'])"
      ]
    },
    {
      "cell_type": "code",
      "execution_count": 32,
      "id": "8580c689",
      "metadata": {
        "id": "8580c689"
      },
      "outputs": [],
      "source": [
        "df['Ips'] = df['ScreenResolution'].apply(lambda x:1 if 'IPS' in x else 0)"
      ]
    },
    {
      "cell_type": "code",
      "execution_count": 33,
      "id": "4fb51139",
      "metadata": {
        "colab": {
          "base_uri": "https://localhost:8080/",
          "height": 451
        },
        "id": "4fb51139",
        "outputId": "6ac571e1-b882-4cca-b8b7-2a2621505277"
      },
      "outputs": [
        {
          "data": {
            "text/html": [
              "<div>\n",
              "<style scoped>\n",
              "    .dataframe tbody tr th:only-of-type {\n",
              "        vertical-align: middle;\n",
              "    }\n",
              "\n",
              "    .dataframe tbody tr th {\n",
              "        vertical-align: top;\n",
              "    }\n",
              "\n",
              "    .dataframe thead th {\n",
              "        text-align: right;\n",
              "    }\n",
              "</style>\n",
              "<table border=\"1\" class=\"dataframe\">\n",
              "  <thead>\n",
              "    <tr style=\"text-align: right;\">\n",
              "      <th></th>\n",
              "      <th>Company</th>\n",
              "      <th>TypeName</th>\n",
              "      <th>Inches</th>\n",
              "      <th>ScreenResolution</th>\n",
              "      <th>Cpu</th>\n",
              "      <th>Ram</th>\n",
              "      <th>Memory</th>\n",
              "      <th>Gpu</th>\n",
              "      <th>OpSys</th>\n",
              "      <th>Weight</th>\n",
              "      <th>Price</th>\n",
              "      <th>Touchscreen</th>\n",
              "      <th>Ips</th>\n",
              "    </tr>\n",
              "  </thead>\n",
              "  <tbody>\n",
              "    <tr>\n",
              "      <th>0</th>\n",
              "      <td>Apple</td>\n",
              "      <td>Ultrabook</td>\n",
              "      <td>13.3</td>\n",
              "      <td>IPS Panel Retina Display 2560x1600</td>\n",
              "      <td>Intel Core i5 2.3GHz</td>\n",
              "      <td>8</td>\n",
              "      <td>128GB SSD</td>\n",
              "      <td>Intel Iris Plus Graphics 640</td>\n",
              "      <td>macOS</td>\n",
              "      <td>1.37</td>\n",
              "      <td>71378.6832</td>\n",
              "      <td>0</td>\n",
              "      <td>1</td>\n",
              "    </tr>\n",
              "    <tr>\n",
              "      <th>1</th>\n",
              "      <td>Apple</td>\n",
              "      <td>Ultrabook</td>\n",
              "      <td>13.3</td>\n",
              "      <td>1440x900</td>\n",
              "      <td>Intel Core i5 1.8GHz</td>\n",
              "      <td>8</td>\n",
              "      <td>128GB Flash Storage</td>\n",
              "      <td>Intel HD Graphics 6000</td>\n",
              "      <td>macOS</td>\n",
              "      <td>1.34</td>\n",
              "      <td>47895.5232</td>\n",
              "      <td>0</td>\n",
              "      <td>0</td>\n",
              "    </tr>\n",
              "    <tr>\n",
              "      <th>2</th>\n",
              "      <td>HP</td>\n",
              "      <td>Notebook</td>\n",
              "      <td>15.6</td>\n",
              "      <td>Full HD 1920x1080</td>\n",
              "      <td>Intel Core i5 7200U 2.5GHz</td>\n",
              "      <td>8</td>\n",
              "      <td>256GB SSD</td>\n",
              "      <td>Intel HD Graphics 620</td>\n",
              "      <td>No OS</td>\n",
              "      <td>1.86</td>\n",
              "      <td>30636.0000</td>\n",
              "      <td>0</td>\n",
              "      <td>0</td>\n",
              "    </tr>\n",
              "    <tr>\n",
              "      <th>3</th>\n",
              "      <td>Apple</td>\n",
              "      <td>Ultrabook</td>\n",
              "      <td>15.4</td>\n",
              "      <td>IPS Panel Retina Display 2880x1800</td>\n",
              "      <td>Intel Core i7 2.7GHz</td>\n",
              "      <td>16</td>\n",
              "      <td>512GB SSD</td>\n",
              "      <td>AMD Radeon Pro 455</td>\n",
              "      <td>macOS</td>\n",
              "      <td>1.83</td>\n",
              "      <td>135195.3360</td>\n",
              "      <td>0</td>\n",
              "      <td>1</td>\n",
              "    </tr>\n",
              "    <tr>\n",
              "      <th>4</th>\n",
              "      <td>Apple</td>\n",
              "      <td>Ultrabook</td>\n",
              "      <td>13.3</td>\n",
              "      <td>IPS Panel Retina Display 2560x1600</td>\n",
              "      <td>Intel Core i5 3.1GHz</td>\n",
              "      <td>8</td>\n",
              "      <td>256GB SSD</td>\n",
              "      <td>Intel Iris Plus Graphics 650</td>\n",
              "      <td>macOS</td>\n",
              "      <td>1.37</td>\n",
              "      <td>96095.8080</td>\n",
              "      <td>0</td>\n",
              "      <td>1</td>\n",
              "    </tr>\n",
              "  </tbody>\n",
              "</table>\n",
              "</div>"
            ],
            "text/plain": [
              "  Company   TypeName  Inches                    ScreenResolution  \\\n",
              "0   Apple  Ultrabook    13.3  IPS Panel Retina Display 2560x1600   \n",
              "1   Apple  Ultrabook    13.3                            1440x900   \n",
              "2      HP   Notebook    15.6                   Full HD 1920x1080   \n",
              "3   Apple  Ultrabook    15.4  IPS Panel Retina Display 2880x1800   \n",
              "4   Apple  Ultrabook    13.3  IPS Panel Retina Display 2560x1600   \n",
              "\n",
              "                          Cpu  Ram               Memory  \\\n",
              "0        Intel Core i5 2.3GHz    8            128GB SSD   \n",
              "1        Intel Core i5 1.8GHz    8  128GB Flash Storage   \n",
              "2  Intel Core i5 7200U 2.5GHz    8            256GB SSD   \n",
              "3        Intel Core i7 2.7GHz   16            512GB SSD   \n",
              "4        Intel Core i5 3.1GHz    8            256GB SSD   \n",
              "\n",
              "                            Gpu  OpSys  Weight        Price  Touchscreen  Ips  \n",
              "0  Intel Iris Plus Graphics 640  macOS    1.37   71378.6832            0    1  \n",
              "1        Intel HD Graphics 6000  macOS    1.34   47895.5232            0    0  \n",
              "2         Intel HD Graphics 620  No OS    1.86   30636.0000            0    0  \n",
              "3            AMD Radeon Pro 455  macOS    1.83  135195.3360            0    1  \n",
              "4  Intel Iris Plus Graphics 650  macOS    1.37   96095.8080            0    1  "
            ]
          },
          "execution_count": 33,
          "metadata": {},
          "output_type": "execute_result"
        }
      ],
      "source": [
        "df.head()"
      ]
    },
    {
      "cell_type": "code",
      "execution_count": 34,
      "id": "44ef7296",
      "metadata": {
        "colab": {
          "base_uri": "https://localhost:8080/",
          "height": 461
        },
        "id": "44ef7296",
        "outputId": "f0311b2c-c823-429b-b33b-caa3a4c81cc5"
      },
      "outputs": [
        {
          "data": {
            "text/plain": [
              "<Axes: xlabel='Ips'>"
            ]
          },
          "execution_count": 34,
          "metadata": {},
          "output_type": "execute_result"
        },
        {
          "data": {
            "image/png": "[encoded data removed]",
            "text/plain": [
              "<Figure size 640x480 with 1 Axes>"
            ]
          },
          "metadata": {},
          "output_type": "display_data"
        }
      ],
      "source": [
        "df['Ips'].value_counts().plot(kind='bar')"
      ]
    },
    {
      "cell_type": "code",
      "execution_count": 35,
      "id": "b8fd50ed",
      "metadata": {
        "colab": {
          "base_uri": "https://localhost:8080/",
          "height": 466
        },
        "id": "b8fd50ed",
        "outputId": "71b4f644-2570-4ee0-afc9-e19ad3242e0a"
      },
      "outputs": [
        {
          "data": {
            "text/plain": [
              "<Axes: xlabel='Ips', ylabel='Price'>"
            ]
          },
          "execution_count": 35,
          "metadata": {},
          "output_type": "execute_result"
        },
        {
          "data": {
            "image/png": "[encoded data removed]",
            "text/plain": [
              "<Figure size 640x480 with 1 Axes>"
            ]
          },
          "metadata": {},
          "output_type": "display_data"
        }
      ],
      "source": [
        "sns.barplot(x=df['Ips'],y=df['Price'])"
      ]
    },
    {
      "cell_type": "code",
      "execution_count": 36,
      "id": "b0cee465",
      "metadata": {
        "id": "b0cee465"
      },
      "outputs": [],
      "source": [
        "new = df['ScreenResolution'].str.split('x',n=1,expand=True)"
      ]
    },
    {
      "cell_type": "code",
      "execution_count": 37,
      "id": "a84439f0",
      "metadata": {
        "id": "a84439f0"
      },
      "outputs": [],
      "source": [
        "df['X_res'] = new[0]\n",
        "df['Y_res'] = new[1]"
      ]
    },
    {
      "cell_type": "code",
      "execution_count": 38,
      "id": "8a36d2c6",
      "metadata": {
        "colab": {
          "base_uri": "https://localhost:8080/",
          "height": 521
        },
        "id": "8a36d2c6",
        "outputId": "c2b5a40c-0530-4d96-ad16-14877204a32f"
      },
      "outputs": [
        {
          "data": {
            "text/html": [
              "<div>\n",
              "<style scoped>\n",
              "    .dataframe tbody tr th:only-of-type {\n",
              "        vertical-align: middle;\n",
              "    }\n",
              "\n",
              "    .dataframe tbody tr th {\n",
              "        vertical-align: top;\n",
              "    }\n",
              "\n",
              "    .dataframe thead th {\n",
              "        text-align: right;\n",
              "    }\n",
              "</style>\n",
              "<table border=\"1\" class=\"dataframe\">\n",
              "  <thead>\n",
              "    <tr style=\"text-align: right;\">\n",
              "      <th></th>\n",
              "      <th>Company</th>\n",
              "      <th>TypeName</th>\n",
              "      <th>Inches</th>\n",
              "      <th>ScreenResolution</th>\n",
              "      <th>Cpu</th>\n",
              "      <th>Ram</th>\n",
              "      <th>Memory</th>\n",
              "      <th>Gpu</th>\n",
              "      <th>OpSys</th>\n",
              "      <th>Weight</th>\n",
              "      <th>Price</th>\n",
              "      <th>Touchscreen</th>\n",
              "      <th>Ips</th>\n",
              "      <th>X_res</th>\n",
              "      <th>Y_res</th>\n",
              "    </tr>\n",
              "  </thead>\n",
              "  <tbody>\n",
              "    <tr>\n",
              "      <th>725</th>\n",
              "      <td>Lenovo</td>\n",
              "      <td>Notebook</td>\n",
              "      <td>15.6</td>\n",
              "      <td>1366x768</td>\n",
              "      <td>Intel Core i5 7200U 2.5GHz</td>\n",
              "      <td>4</td>\n",
              "      <td>1TB HDD</td>\n",
              "      <td>Intel HD Graphics 620</td>\n",
              "      <td>No OS</td>\n",
              "      <td>1.90</td>\n",
              "      <td>26101.872</td>\n",
              "      <td>0</td>\n",
              "      <td>0</td>\n",
              "      <td>1366</td>\n",
              "      <td>768</td>\n",
              "    </tr>\n",
              "    <tr>\n",
              "      <th>795</th>\n",
              "      <td>Lenovo</td>\n",
              "      <td>2 in 1 Convertible</td>\n",
              "      <td>14.0</td>\n",
              "      <td>IPS Panel Touchscreen 2560x1440</td>\n",
              "      <td>Intel Core i5 7200U 2.5GHz</td>\n",
              "      <td>8</td>\n",
              "      <td>256GB SSD</td>\n",
              "      <td>Intel HD Graphics 620</td>\n",
              "      <td>Windows 10</td>\n",
              "      <td>1.42</td>\n",
              "      <td>124142.400</td>\n",
              "      <td>1</td>\n",
              "      <td>1</td>\n",
              "      <td>IPS Panel Touchscreen 2560</td>\n",
              "      <td>1440</td>\n",
              "    </tr>\n",
              "    <tr>\n",
              "      <th>489</th>\n",
              "      <td>Asus</td>\n",
              "      <td>Ultrabook</td>\n",
              "      <td>12.5</td>\n",
              "      <td>Full HD 1920x1080</td>\n",
              "      <td>Intel Core i7 7500U 2.7GHz</td>\n",
              "      <td>16</td>\n",
              "      <td>512GB SSD</td>\n",
              "      <td>Intel HD Graphics 620</td>\n",
              "      <td>Windows 10</td>\n",
              "      <td>0.91</td>\n",
              "      <td>103896.000</td>\n",
              "      <td>0</td>\n",
              "      <td>0</td>\n",
              "      <td>Full HD 1920</td>\n",
              "      <td>1080</td>\n",
              "    </tr>\n",
              "    <tr>\n",
              "      <th>972</th>\n",
              "      <td>Dell</td>\n",
              "      <td>Gaming</td>\n",
              "      <td>17.3</td>\n",
              "      <td>Full HD 1920x1080</td>\n",
              "      <td>Intel Core i7 6700HQ 2.6GHz</td>\n",
              "      <td>32</td>\n",
              "      <td>256GB SSD +  1TB HDD</td>\n",
              "      <td>Nvidia GeForce GTX 1070</td>\n",
              "      <td>Windows 10</td>\n",
              "      <td>4.42</td>\n",
              "      <td>149184.000</td>\n",
              "      <td>0</td>\n",
              "      <td>0</td>\n",
              "      <td>Full HD 1920</td>\n",
              "      <td>1080</td>\n",
              "    </tr>\n",
              "    <tr>\n",
              "      <th>963</th>\n",
              "      <td>Toshiba</td>\n",
              "      <td>Ultrabook</td>\n",
              "      <td>12.5</td>\n",
              "      <td>Full HD / Touchscreen 1920x1080</td>\n",
              "      <td>Intel Core i7 7500U 2.7GHz</td>\n",
              "      <td>8</td>\n",
              "      <td>512GB SSD</td>\n",
              "      <td>Intel HD Graphics 620</td>\n",
              "      <td>Windows 10</td>\n",
              "      <td>1.10</td>\n",
              "      <td>95371.200</td>\n",
              "      <td>1</td>\n",
              "      <td>0</td>\n",
              "      <td>Full HD / Touchscreen 1920</td>\n",
              "      <td>1080</td>\n",
              "    </tr>\n",
              "  </tbody>\n",
              "</table>\n",
              "</div>"
            ],
            "text/plain": [
              "     Company            TypeName  Inches                 ScreenResolution  \\\n",
              "725   Lenovo            Notebook    15.6                         1366x768   \n",
              "795   Lenovo  2 in 1 Convertible    14.0  IPS Panel Touchscreen 2560x1440   \n",
              "489     Asus           Ultrabook    12.5                Full HD 1920x1080   \n",
              "972     Dell              Gaming    17.3                Full HD 1920x1080   \n",
              "963  Toshiba           Ultrabook    12.5  Full HD / Touchscreen 1920x1080   \n",
              "\n",
              "                             Cpu  Ram                Memory  \\\n",
              "725   Intel Core i5 7200U 2.5GHz    4               1TB HDD   \n",
              "795   Intel Core i5 7200U 2.5GHz    8             256GB SSD   \n",
              "489   Intel Core i7 7500U 2.7GHz   16             512GB SSD   \n",
              "972  Intel Core i7 6700HQ 2.6GHz   32  256GB SSD +  1TB HDD   \n",
              "963   Intel Core i7 7500U 2.7GHz    8             512GB SSD   \n",
              "\n",
              "                         Gpu       OpSys  Weight       Price  Touchscreen  \\\n",
              "725    Intel HD Graphics 620       No OS    1.90   26101.872            0   \n",
              "795    Intel HD Graphics 620  Windows 10    1.42  124142.400            1   \n",
              "489    Intel HD Graphics 620  Windows 10    0.91  103896.000            0   \n",
              "972  Nvidia GeForce GTX 1070  Windows 10    4.42  149184.000            0   \n",
              "963    Intel HD Graphics 620  Windows 10    1.10   95371.200            1   \n",
              "\n",
              "     Ips                       X_res Y_res  \n",
              "725    0                        1366   768  \n",
              "795    1  IPS Panel Touchscreen 2560  1440  \n",
              "489    0                Full HD 1920  1080  \n",
              "972    0                Full HD 1920  1080  \n",
              "963    0  Full HD / Touchscreen 1920  1080  "
            ]
          },
          "execution_count": 38,
          "metadata": {},
          "output_type": "execute_result"
        }
      ],
      "source": [
        "df.sample(5)"
      ]
    },
    {
      "cell_type": "code",
      "execution_count": 39,
      "id": "7e34b4df",
      "metadata": {
        "id": "7e34b4df"
      },
      "outputs": [],
      "source": [
        "df['X_res'] = df['X_res'].str.replace(',','').str.findall(r'(\\d+\\.?\\d+)').apply(lambda x:x[0])"
      ]
    },
    {
      "cell_type": "code",
      "execution_count": 40,
      "id": "ea8467a9",
      "metadata": {
        "colab": {
          "base_uri": "https://localhost:8080/",
          "height": 451
        },
        "id": "ea8467a9",
        "outputId": "c0d79268-b567-4f49-817f-2f47c7a13981"
      },
      "outputs": [
        {
          "data": {
            "text/html": [
              "<div>\n",
              "<style scoped>\n",
              "    .dataframe tbody tr th:only-of-type {\n",
              "        vertical-align: middle;\n",
              "    }\n",
              "\n",
              "    .dataframe tbody tr th {\n",
              "        vertical-align: top;\n",
              "    }\n",
              "\n",
              "    .dataframe thead th {\n",
              "        text-align: right;\n",
              "    }\n",
              "</style>\n",
              "<table border=\"1\" class=\"dataframe\">\n",
              "  <thead>\n",
              "    <tr style=\"text-align: right;\">\n",
              "      <th></th>\n",
              "      <th>Company</th>\n",
              "      <th>TypeName</th>\n",
              "      <th>Inches</th>\n",
              "      <th>ScreenResolution</th>\n",
              "      <th>Cpu</th>\n",
              "      <th>Ram</th>\n",
              "      <th>Memory</th>\n",
              "      <th>Gpu</th>\n",
              "      <th>OpSys</th>\n",
              "      <th>Weight</th>\n",
              "      <th>Price</th>\n",
              "      <th>Touchscreen</th>\n",
              "      <th>Ips</th>\n",
              "      <th>X_res</th>\n",
              "      <th>Y_res</th>\n",
              "    </tr>\n",
              "  </thead>\n",
              "  <tbody>\n",
              "    <tr>\n",
              "      <th>0</th>\n",
              "      <td>Apple</td>\n",
              "      <td>Ultrabook</td>\n",
              "      <td>13.3</td>\n",
              "      <td>IPS Panel Retina Display 2560x1600</td>\n",
              "      <td>Intel Core i5 2.3GHz</td>\n",
              "      <td>8</td>\n",
              "      <td>128GB SSD</td>\n",
              "      <td>Intel Iris Plus Graphics 640</td>\n",
              "      <td>macOS</td>\n",
              "      <td>1.37</td>\n",
              "      <td>71378.6832</td>\n",
              "      <td>0</td>\n",
              "      <td>1</td>\n",
              "      <td>2560</td>\n",
              "      <td>1600</td>\n",
              "    </tr>\n",
              "    <tr>\n",
              "      <th>1</th>\n",
              "      <td>Apple</td>\n",
              "      <td>Ultrabook</td>\n",
              "      <td>13.3</td>\n",
              "      <td>1440x900</td>\n",
              "      <td>Intel Core i5 1.8GHz</td>\n",
              "      <td>8</td>\n",
              "      <td>128GB Flash Storage</td>\n",
              "      <td>Intel HD Graphics 6000</td>\n",
              "      <td>macOS</td>\n",
              "      <td>1.34</td>\n",
              "      <td>47895.5232</td>\n",
              "      <td>0</td>\n",
              "      <td>0</td>\n",
              "      <td>1440</td>\n",
              "      <td>900</td>\n",
              "    </tr>\n",
              "    <tr>\n",
              "      <th>2</th>\n",
              "      <td>HP</td>\n",
              "      <td>Notebook</td>\n",
              "      <td>15.6</td>\n",
              "      <td>Full HD 1920x1080</td>\n",
              "      <td>Intel Core i5 7200U 2.5GHz</td>\n",
              "      <td>8</td>\n",
              "      <td>256GB SSD</td>\n",
              "      <td>Intel HD Graphics 620</td>\n",
              "      <td>No OS</td>\n",
              "      <td>1.86</td>\n",
              "      <td>30636.0000</td>\n",
              "      <td>0</td>\n",
              "      <td>0</td>\n",
              "      <td>1920</td>\n",
              "      <td>1080</td>\n",
              "    </tr>\n",
              "    <tr>\n",
              "      <th>3</th>\n",
              "      <td>Apple</td>\n",
              "      <td>Ultrabook</td>\n",
              "      <td>15.4</td>\n",
              "      <td>IPS Panel Retina Display 2880x1800</td>\n",
              "      <td>Intel Core i7 2.7GHz</td>\n",
              "      <td>16</td>\n",
              "      <td>512GB SSD</td>\n",
              "      <td>AMD Radeon Pro 455</td>\n",
              "      <td>macOS</td>\n",
              "      <td>1.83</td>\n",
              "      <td>135195.3360</td>\n",
              "      <td>0</td>\n",
              "      <td>1</td>\n",
              "      <td>2880</td>\n",
              "      <td>1800</td>\n",
              "    </tr>\n",
              "    <tr>\n",
              "      <th>4</th>\n",
              "      <td>Apple</td>\n",
              "      <td>Ultrabook</td>\n",
              "      <td>13.3</td>\n",
              "      <td>IPS Panel Retina Display 2560x1600</td>\n",
              "      <td>Intel Core i5 3.1GHz</td>\n",
              "      <td>8</td>\n",
              "      <td>256GB SSD</td>\n",
              "      <td>Intel Iris Plus Graphics 650</td>\n",
              "      <td>macOS</td>\n",
              "      <td>1.37</td>\n",
              "      <td>96095.8080</td>\n",
              "      <td>0</td>\n",
              "      <td>1</td>\n",
              "      <td>2560</td>\n",
              "      <td>1600</td>\n",
              "    </tr>\n",
              "  </tbody>\n",
              "</table>\n",
              "</div>"
            ],
            "text/plain": [
              "  Company   TypeName  Inches                    ScreenResolution  \\\n",
              "0   Apple  Ultrabook    13.3  IPS Panel Retina Display 2560x1600   \n",
              "1   Apple  Ultrabook    13.3                            1440x900   \n",
              "2      HP   Notebook    15.6                   Full HD 1920x1080   \n",
              "3   Apple  Ultrabook    15.4  IPS Panel Retina Display 2880x1800   \n",
              "4   Apple  Ultrabook    13.3  IPS Panel Retina Display 2560x1600   \n",
              "\n",
              "                          Cpu  Ram               Memory  \\\n",
              "0        Intel Core i5 2.3GHz    8            128GB SSD   \n",
              "1        Intel Core i5 1.8GHz    8  128GB Flash Storage   \n",
              "2  Intel Core i5 7200U 2.5GHz    8            256GB SSD   \n",
              "3        Intel Core i7 2.7GHz   16            512GB SSD   \n",
              "4        Intel Core i5 3.1GHz    8            256GB SSD   \n",
              "\n",
              "                            Gpu  OpSys  Weight        Price  Touchscreen  Ips  \\\n",
              "0  Intel Iris Plus Graphics 640  macOS    1.37   71378.6832            0    1   \n",
              "1        Intel HD Graphics 6000  macOS    1.34   47895.5232            0    0   \n",
              "2         Intel HD Graphics 620  No OS    1.86   30636.0000            0    0   \n",
              "3            AMD Radeon Pro 455  macOS    1.83  135195.3360            0    1   \n",
              "4  Intel Iris Plus Graphics 650  macOS    1.37   96095.8080            0    1   \n",
              "\n",
              "  X_res Y_res  \n",
              "0  2560  1600  \n",
              "1  1440   900  \n",
              "2  1920  1080  \n",
              "3  2880  1800  \n",
              "4  2560  1600  "
            ]
          },
          "execution_count": 40,
          "metadata": {},
          "output_type": "execute_result"
        }
      ],
      "source": [
        "df.head()"
      ]
    },
    {
      "cell_type": "code",
      "execution_count": 41,
      "id": "dcb9da28",
      "metadata": {
        "id": "dcb9da28"
      },
      "outputs": [],
      "source": [
        "df['X_res'] = df['X_res'].astype('int')\n",
        "df['Y_res'] = df['Y_res'].astype('int')"
      ]
    },
    {
      "cell_type": "code",
      "execution_count": 42,
      "id": "e9020c73",
      "metadata": {
        "colab": {
          "base_uri": "https://localhost:8080/"
        },
        "id": "e9020c73",
        "outputId": "9a6d9aca-fb45-4b17-ef7d-8eb1bbec231f"
      },
      "outputs": [
        {
          "name": "stdout",
          "output_type": "stream",
          "text": [
            "<class 'pandas.core.frame.DataFrame'>\n",
            "RangeIndex: 1303 entries, 0 to 1302\n",
            "Data columns (total 15 columns):\n",
            " #   Column            Non-Null Count  Dtype  \n",
            "---  ------            --------------  -----  \n",
            " 0   Company           1303 non-null   object \n",
            " 1   TypeName          1303 non-null   object \n",
            " 2   Inches            1303 non-null   float64\n",
            " 3   ScreenResolution  1303 non-null   object \n",
            " 4   Cpu               1303 non-null   object \n",
            " 5   Ram               1303 non-null   int32  \n",
            " 6   Memory            1303 non-null   object \n",
            " 7   Gpu               1303 non-null   object \n",
            " 8   OpSys             1303 non-null   object \n",
            " 9   Weight            1303 non-null   float32\n",
            " 10  Price             1303 non-null   float64\n",
            " 11  Touchscreen       1303 non-null   int64  \n",
            " 12  Ips               1303 non-null   int64  \n",
            " 13  X_res             1303 non-null   int64  \n",
            " 14  Y_res             1303 non-null   int64  \n",
            "dtypes: float32(1), float64(2), int32(1), int64(4), object(7)\n",
            "memory usage: 142.6+ KB\n"
          ]
        }
      ],
      "source": [
        "df.info()"
      ]
    },
    {
      "cell_type": "code",
      "execution_count": 43,
      "id": "YM46x-R00yXY",
      "metadata": {
        "colab": {
          "base_uri": "https://localhost:8080/"
        },
        "collapsed": true,
        "id": "YM46x-R00yXY",
        "outputId": "f8b3f5cb-b776-4548-e901-5fbdac8c880b"
      },
      "outputs": [
        {
          "name": "stdout",
          "output_type": "stream",
          "text": [
            "Company              object\n",
            "TypeName             object\n",
            "Inches              float64\n",
            "ScreenResolution     object\n",
            "Cpu                  object\n",
            "Ram                   int32\n",
            "Memory               object\n",
            "Gpu                  object\n",
            "OpSys                object\n",
            "Weight              float32\n",
            "Price               float64\n",
            "Touchscreen           int64\n",
            "Ips                   int64\n",
            "X_res                 int64\n",
            "Y_res                 int64\n",
            "dtype: object\n"
          ]
        }
      ],
      "source": [
        "print(df.dtypes)\n"
      ]
    },
    {
      "cell_type": "code",
      "execution_count": 44,
      "id": "9O2s_pOE1C2_",
      "metadata": {
        "colab": {
          "base_uri": "https://localhost:8080/"
        },
        "collapsed": true,
        "id": "9O2s_pOE1C2_",
        "outputId": "64877989-989b-4ea3-b444-280cc92dcef3"
      },
      "outputs": [
        {
          "name": "stdout",
          "output_type": "stream",
          "text": [
            "[ 71378.6832  47895.5232  30636.     135195.336   96095.808   21312.\n",
            " 114017.6016  61735.536   79653.6     41025.6     20986.992   18381.0672\n",
            " 130001.6016  26581.392   67260.672   80908.344   39693.6    152274.24\n",
            "  26586.72    52161.12    10224.432   53226.72    13746.24    43636.32\n",
            "  35111.52    22305.1392  58554.72    42624.      69157.44    47738.88\n",
            "  13053.0672  10602.72    23389.92    99580.32    53173.44    13266.72\n",
            "  19553.76    26037.4032  46833.12    20725.92    79866.72    27864.9072\n",
            "  36336.96    75604.32    19660.32    69210.72    34045.92    24828.48\n",
            "  16996.32    44808.48    21231.5472  58767.84    20459.52    40908.384\n",
            "  31232.2032 130482.72    22111.2     31914.72    50136.48    36763.2\n",
            " 105654.24    23373.4032  12201.12    29250.72    50562.72    58021.92\n",
            "  50882.4     46353.6     58341.6     27652.32    45554.4     28238.4\n",
            "  52054.56    58403.4048  80452.8     45820.8     21258.72    21045.6\n",
            "  71874.72    37242.72    31914.1872  77202.72    87858.72    36709.92\n",
            "  63776.16    63669.6     55890.72    45128.16    31962.672   25840.8\n",
            "  30742.56    66546.72    38308.32    18594.72    34472.16    59620.32\n",
            "  71395.2     22105.872   63563.04    78854.4     67239.36    73473.12\n",
            "  74538.72    38468.16    86793.12    74538.1872  57755.52    60223.9824\n",
            "  30049.92    59567.04    25521.12   119427.12    33513.12    67718.88\n",
            "  24029.28    13799.52    43263.36    14811.3072  74378.88    49443.84\n",
            "  34045.3872  23922.72    47099.52    30476.16    31861.44    52640.64\n",
            "  13445.7408  49976.64    34898.4     59461.5456  46300.32    32074.56\n",
            " 107305.92    18328.32   108105.12    23816.16    66560.5728  47898.72\n",
            "  26533.44   100699.2     57648.96    32980.32    70063.2     21471.84\n",
            "  42890.4     38787.84    57489.12    18541.44    95850.72    19367.8128\n",
            "  56502.9072  45501.12    40173.12    16463.52    26053.92    49177.44\n",
            "  24455.52   149130.72    43316.64    98514.72    42251.04    63882.72\n",
            "  82530.72   127712.16    41505.12    52693.92    57808.8    150462.72\n",
            "  13852.8     53274.672   37189.44    44701.92    48697.92   324954.72\n",
            "  51095.52    55677.6     98301.6     26267.04    39533.76    93186.72\n",
            " 162770.4     74485.44   103842.72    31808.16    74964.96    49650.5664\n",
            "  31381.92    54931.68    61218.72    68145.12    36089.208   72620.64\n",
            "  42304.32   130873.7952  44328.96    45768.0528  40972.32    47472.48\n",
            "  67612.32    21258.1872  17582.4     45767.52    20779.2    207259.2\n",
            "  45074.88    61005.6     47365.92    52480.8     29783.52   159786.72\n",
            "  35964.     108691.2     24988.32    37402.56    23757.552   56423.52\n",
            " 133146.72    90522.72    60845.76    23656.32    35004.96    30103.2\n",
            "  42570.72    24881.76    54239.04    46886.4    104370.192   39164.5296\n",
            "  37992.3696  45234.72    22803.84    44169.12    30849.12    50669.28\n",
            "  58448.16    62817.12    35112.0528  63243.36    97449.12    39373.92\n",
            " 153705.3408  78215.04    27119.52   113060.16    34578.72    67399.2\n",
            "  19180.2672 105228.      55571.04   111834.72    14652.      44968.32\n",
            "  24503.472   52214.4     68837.76    58288.32    48058.56    15557.76\n",
            "  55938.672   71128.8    140605.92    50243.04    71075.52    67559.04\n",
            "  60952.32    14651.4672  60885.72    14646.672   38148.48    84129.12\n",
            "  60153.12    14865.12    85672.1088  19980.      35324.64   108020.9376\n",
            "  69477.12    75071.52    92615.0256  74751.84    51729.552   17155.6272\n",
            "  29696.6736  76030.56    50349.6     43103.52    93240.      22697.28\n",
            " 117162.72    46300.8528  26053.3872  29463.84    15238.08    63456.48\n",
            "  21498.48    88178.4     93181.392  121584.96    72940.32   113752.8\n",
            " 133679.52    55357.92    84768.48    36975.7872  41498.1936  65510.9568\n",
            " 144495.36   139860.      16303.68    81465.12    60978.96   119826.72\n",
            "  99793.44    93080.16    89510.4     21791.52    16221.096  102564.\n",
            " 103523.04    42038.4528  31909.392   79920.      28768.536   64755.4464\n",
            " 101178.72    61751.52    60867.072  106506.72    15930.72    14332.32\n",
            "  53812.8    130269.6     90309.6     18488.16   126912.96    39906.72\n",
            "  76137.12    23539.104  106187.04    54757.9872 137941.92    81731.52\n",
            "  71661.6    109010.88    34093.872   28984.32    23176.8    111355.2\n",
            "  16197.12    40439.52    98994.24    61485.12    67932.      98133.768\n",
            "  39427.2    128298.24    72673.92    89084.16    31254.048   38681.28\n",
            "  13261.392  124568.64    95797.44   103896.      53918.8272  71928.\n",
            "  47893.392   48538.08    18115.2     32979.7872  85194.72    14119.2\n",
            "  65214.72    32660.64    70489.44    44542.08    64961.1072  74589.336\n",
            "  13053.6     27783.9216 158135.04    80133.12    68184.0144  31168.8\n",
            "  73366.56   160520.3856  42486.0048  39207.1536  42517.44    37589.04\n",
            "  41824.8     24634.008   21152.16    92121.12    59513.2272 143802.72\n",
            "  28992.312   68198.4     11934.72    13586.4     30310.992   32921.712\n",
            "  33566.4    104695.2     52747.2     99153.5472  44222.4     36496.8\n",
            "  99367.2    141884.64   145401.12    39907.2528  53733.9456  81912.1392\n",
            "  15717.6    125154.72    79813.44    89137.44    32447.52    94305.6\n",
            "  32127.84    28185.12   107892.      78534.72    88977.6     93932.64\n",
            "  64948.32    35616.6144  17529.12    24775.2    122490.72   261018.72\n",
            "  46833.6528  23650.992   19127.52    62231.04    30316.32    74005.92\n",
            " 120831.5808  20193.12    59886.72    78055.2     41345.28    49656.96\n",
            "  12733.92    24935.04    34046.4528  96969.6    101232.      78801.12\n",
            "  48304.7136  93635.3376 127818.72    59087.52    27753.552  130536.\n",
            "  62284.32    23976.      14598.72    48964.32   138474.72    64628.64\n",
            "  84395.52    37775.52    77250.672   63499.104   19441.872   56689.92\n",
            "  60472.8     63722.88   167691.8736  65481.12    22324.32    28504.8\n",
            "  28717.92    79215.1056  67026.24    21951.36    99519.048   43580.376\n",
            "  55091.52    68944.32    26373.6     53168.112  109277.28   149916.6\n",
            "  32639.8608  29073.2976  16943.04   101657.7072 137995.2     51841.44\n",
            "  35644.32   100006.56    22857.12    33110.856   42357.6     98834.4\n",
            "  34898.9328  15877.44    76012.4448  45664.6896  63936.      89864.1792\n",
            "  44574.048  194972.832   71847.0144  26101.872   31409.6256 103096.8\n",
            "  34632.      51148.8    128884.32   111593.8944  21887.424   64308.96\n",
            "  35431.2     81784.8    175770.72    60031.1088 233845.92    25308.\n",
            "  58394.88    45282.672   83170.08   152859.7872  55837.44    99047.52\n",
            "  83063.52    25059.7152  62938.0656  54345.6     66280.32   126273.6\n",
            "  33886.08   154458.72    31003.632  191211.264  125208.      93985.92\n",
            " 100752.48    71341.92    10810.512  104961.6     62071.2    124142.4\n",
            "  43156.8    110017.872   39640.32    41558.4     89457.12   128671.2\n",
            "  51202.08    42081.0768  20512.8    133467.4656  40226.4     58075.2\n",
            "  99900.      72354.24    18914.4    292986.72    63190.08    87912.\n",
            " 147832.2864  17316.      31435.2    163723.5792  48484.8     38041.3872\n",
            "  99633.6     32767.2     54665.28   121318.56    46087.2    101391.84\n",
            "  41931.36   136343.52    45323.1648  68464.8     54185.76   119347.2\n",
            "  94731.84    56210.4     73952.64    39160.8     90043.2     49816.8\n",
            "  48618.      90576.      36486.144   24279.696   72988.272   15824.16\n",
            " 141138.72    78588.      49497.12    47952.      32713.92   107257.968\n",
            " 109170.72   104588.1072  79014.24    42037.92    64202.4    165168.\n",
            "  54291.7872  46939.68    59668.8048  36496.2672  69103.6272  97236.\n",
            "  38889.072   37725.4368  15392.592   58874.4     88924.32    29762.208\n",
            "  87325.92   146946.24    78438.816   94572.      77788.8     79333.3872\n",
            " 168045.12    41292.      93772.8     53759.52    95371.2     45101.52\n",
            "  24808.2336  43956.     167778.72    37029.6    104587.5744 149184.\n",
            "  62870.4    109218.672   53386.56    48751.2     42943.68    63349.92\n",
            " 101658.24    14418.6336  61272.      20246.4    111301.92    67132.8\n",
            "  29144.16    58607.4672  55904.5728  36443.52    81997.92    84715.2\n",
            " 100550.5488  64468.8     41025.0672  79387.2    118761.12    42410.3472\n",
            "  63159.7104  55754.3232  56476.8     86526.72    57542.4     65480.5872\n",
            "  91908.      56633.976   53839.9728  11231.424   75924.      55922.688\n",
            "  53280.     112065.9552  78268.32    82351.6992 122010.6672  15339.312\n",
            " 139593.6    120093.12    37570.392   96916.32    57009.6     52746.6672\n",
            " 102777.12    77682.24   211788.      42517.9728  70809.12    69264.\n",
            "  25679.8944  91294.7472  28771.2     50083.2    172627.2     34433.2656\n",
            "  39960.      54931.1472  20619.36    20965.1472  18434.3472  43601.688\n",
            "  34035.264   26640.      60480.792   62176.1616  11135.52    75289.968\n",
            "  80516.2032  46193.76    21205.44    40980.312  104908.32   146519.4672\n",
            "  54825.12   118601.28    69929.4672  10442.88    80612.64    27899.0064\n",
            " 100965.6    109244.2464  14811.84    40066.56    32820.48   210424.032\n",
            "  41771.52   115709.2416 130003.2     60888.384  122381.496   53807.472\n",
            " 124621.92    18061.92   119916.2304  25515.2592  79536.384   42010.7472\n",
            " 108744.48    94252.32    25414.0272  74059.2     36177.12    69530.4\n",
            " 114731.5536  87219.36    44275.68    47686.1328  17742.24    48431.52\n",
            "  36816.48    61964.64    70702.56    19607.04   114552.      14492.16\n",
            " 109165.392  142790.4    103842.1872   9270.72    67772.16    78647.1408\n",
            "  91288.3536  78694.56    27804.7008 186426.72    24988.8528  85141.44\n",
            "  25467.84   117119.5632  39267.36    31838.5296  19276.704   85248.\n",
            "  46620.     123876.      30529.44    96596.64    17262.72    57116.16\n",
            "  23655.7872  26107.2     47685.6     44382.7728  38841.12    15397.92\n",
            "  29303.4672  42943.1472  38378.6496  33992.64    40705.92  ]\n"
          ]
        }
      ],
      "source": [
        "print(df['Price'].unique())\n"
      ]
    },
    {
      "cell_type": "code",
      "execution_count": 45,
      "id": "dbd95a94",
      "metadata": {
        "id": "dbd95a94"
      },
      "outputs": [],
      "source": [
        "df['ppi'] = (((df['X_res']**2) + (df['Y_res']**2))**0.5/df['Inches']).astype('float')"
      ]
    },
    {
      "cell_type": "code",
      "execution_count": 46,
      "id": "43a9d35d",
      "metadata": {
        "id": "43a9d35d"
      },
      "outputs": [],
      "source": [
        "df.drop(columns=['ScreenResolution'],inplace=True)"
      ]
    },
    {
      "cell_type": "code",
      "execution_count": 47,
      "id": "5a9b5380",
      "metadata": {
        "colab": {
          "base_uri": "https://localhost:8080/",
          "height": 451
        },
        "id": "5a9b5380",
        "outputId": "38752262-5544-4c99-ba96-a8a0e50378bd"
      },
      "outputs": [
        {
          "data": {
            "text/html": [
              "<div>\n",
              "<style scoped>\n",
              "    .dataframe tbody tr th:only-of-type {\n",
              "        vertical-align: middle;\n",
              "    }\n",
              "\n",
              "    .dataframe tbody tr th {\n",
              "        vertical-align: top;\n",
              "    }\n",
              "\n",
              "    .dataframe thead th {\n",
              "        text-align: right;\n",
              "    }\n",
              "</style>\n",
              "<table border=\"1\" class=\"dataframe\">\n",
              "  <thead>\n",
              "    <tr style=\"text-align: right;\">\n",
              "      <th></th>\n",
              "      <th>Company</th>\n",
              "      <th>TypeName</th>\n",
              "      <th>Inches</th>\n",
              "      <th>Cpu</th>\n",
              "      <th>Ram</th>\n",
              "      <th>Memory</th>\n",
              "      <th>Gpu</th>\n",
              "      <th>OpSys</th>\n",
              "      <th>Weight</th>\n",
              "      <th>Price</th>\n",
              "      <th>Touchscreen</th>\n",
              "      <th>Ips</th>\n",
              "      <th>X_res</th>\n",
              "      <th>Y_res</th>\n",
              "      <th>ppi</th>\n",
              "    </tr>\n",
              "  </thead>\n",
              "  <tbody>\n",
              "    <tr>\n",
              "      <th>0</th>\n",
              "      <td>Apple</td>\n",
              "      <td>Ultrabook</td>\n",
              "      <td>13.3</td>\n",
              "      <td>Intel Core i5 2.3GHz</td>\n",
              "      <td>8</td>\n",
              "      <td>128GB SSD</td>\n",
              "      <td>Intel Iris Plus Graphics 640</td>\n",
              "      <td>macOS</td>\n",
              "      <td>1.37</td>\n",
              "      <td>71378.6832</td>\n",
              "      <td>0</td>\n",
              "      <td>1</td>\n",
              "      <td>2560</td>\n",
              "      <td>1600</td>\n",
              "      <td>226.983005</td>\n",
              "    </tr>\n",
              "    <tr>\n",
              "      <th>1</th>\n",
              "      <td>Apple</td>\n",
              "      <td>Ultrabook</td>\n",
              "      <td>13.3</td>\n",
              "      <td>Intel Core i5 1.8GHz</td>\n",
              "      <td>8</td>\n",
              "      <td>128GB Flash Storage</td>\n",
              "      <td>Intel HD Graphics 6000</td>\n",
              "      <td>macOS</td>\n",
              "      <td>1.34</td>\n",
              "      <td>47895.5232</td>\n",
              "      <td>0</td>\n",
              "      <td>0</td>\n",
              "      <td>1440</td>\n",
              "      <td>900</td>\n",
              "      <td>127.677940</td>\n",
              "    </tr>\n",
              "    <tr>\n",
              "      <th>2</th>\n",
              "      <td>HP</td>\n",
              "      <td>Notebook</td>\n",
              "      <td>15.6</td>\n",
              "      <td>Intel Core i5 7200U 2.5GHz</td>\n",
              "      <td>8</td>\n",
              "      <td>256GB SSD</td>\n",
              "      <td>Intel HD Graphics 620</td>\n",
              "      <td>No OS</td>\n",
              "      <td>1.86</td>\n",
              "      <td>30636.0000</td>\n",
              "      <td>0</td>\n",
              "      <td>0</td>\n",
              "      <td>1920</td>\n",
              "      <td>1080</td>\n",
              "      <td>141.211998</td>\n",
              "    </tr>\n",
              "    <tr>\n",
              "      <th>3</th>\n",
              "      <td>Apple</td>\n",
              "      <td>Ultrabook</td>\n",
              "      <td>15.4</td>\n",
              "      <td>Intel Core i7 2.7GHz</td>\n",
              "      <td>16</td>\n",
              "      <td>512GB SSD</td>\n",
              "      <td>AMD Radeon Pro 455</td>\n",
              "      <td>macOS</td>\n",
              "      <td>1.83</td>\n",
              "      <td>135195.3360</td>\n",
              "      <td>0</td>\n",
              "      <td>1</td>\n",
              "      <td>2880</td>\n",
              "      <td>1800</td>\n",
              "      <td>220.534624</td>\n",
              "    </tr>\n",
              "    <tr>\n",
              "      <th>4</th>\n",
              "      <td>Apple</td>\n",
              "      <td>Ultrabook</td>\n",
              "      <td>13.3</td>\n",
              "      <td>Intel Core i5 3.1GHz</td>\n",
              "      <td>8</td>\n",
              "      <td>256GB SSD</td>\n",
              "      <td>Intel Iris Plus Graphics 650</td>\n",
              "      <td>macOS</td>\n",
              "      <td>1.37</td>\n",
              "      <td>96095.8080</td>\n",
              "      <td>0</td>\n",
              "      <td>1</td>\n",
              "      <td>2560</td>\n",
              "      <td>1600</td>\n",
              "      <td>226.983005</td>\n",
              "    </tr>\n",
              "  </tbody>\n",
              "</table>\n",
              "</div>"
            ],
            "text/plain": [
              "  Company   TypeName  Inches                         Cpu  Ram  \\\n",
              "0   Apple  Ultrabook    13.3        Intel Core i5 2.3GHz    8   \n",
              "1   Apple  Ultrabook    13.3        Intel Core i5 1.8GHz    8   \n",
              "2      HP   Notebook    15.6  Intel Core i5 7200U 2.5GHz    8   \n",
              "3   Apple  Ultrabook    15.4        Intel Core i7 2.7GHz   16   \n",
              "4   Apple  Ultrabook    13.3        Intel Core i5 3.1GHz    8   \n",
              "\n",
              "                Memory                           Gpu  OpSys  Weight  \\\n",
              "0            128GB SSD  Intel Iris Plus Graphics 640  macOS    1.37   \n",
              "1  128GB Flash Storage        Intel HD Graphics 6000  macOS    1.34   \n",
              "2            256GB SSD         Intel HD Graphics 620  No OS    1.86   \n",
              "3            512GB SSD            AMD Radeon Pro 455  macOS    1.83   \n",
              "4            256GB SSD  Intel Iris Plus Graphics 650  macOS    1.37   \n",
              "\n",
              "         Price  Touchscreen  Ips  X_res  Y_res         ppi  \n",
              "0   71378.6832            0    1   2560   1600  226.983005  \n",
              "1   47895.5232            0    0   1440    900  127.677940  \n",
              "2   30636.0000            0    0   1920   1080  141.211998  \n",
              "3  135195.3360            0    1   2880   1800  220.534624  \n",
              "4   96095.8080            0    1   2560   1600  226.983005  "
            ]
          },
          "execution_count": 47,
          "metadata": {},
          "output_type": "execute_result"
        }
      ],
      "source": [
        "df.head()"
      ]
    },
    {
      "cell_type": "code",
      "execution_count": 48,
      "id": "ef361f90",
      "metadata": {
        "id": "ef361f90"
      },
      "outputs": [],
      "source": [
        "df.drop(columns=['Inches','X_res','Y_res'],inplace=True)"
      ]
    },
    {
      "cell_type": "code",
      "execution_count": 49,
      "id": "2d327aa0",
      "metadata": {
        "colab": {
          "base_uri": "https://localhost:8080/",
          "height": 451
        },
        "id": "2d327aa0",
        "outputId": "d8c7d742-9a61-419d-c141-d513d4dbc257"
      },
      "outputs": [
        {
          "data": {
            "text/html": [
              "<div>\n",
              "<style scoped>\n",
              "    .dataframe tbody tr th:only-of-type {\n",
              "        vertical-align: middle;\n",
              "    }\n",
              "\n",
              "    .dataframe tbody tr th {\n",
              "        vertical-align: top;\n",
              "    }\n",
              "\n",
              "    .dataframe thead th {\n",
              "        text-align: right;\n",
              "    }\n",
              "</style>\n",
              "<table border=\"1\" class=\"dataframe\">\n",
              "  <thead>\n",
              "    <tr style=\"text-align: right;\">\n",
              "      <th></th>\n",
              "      <th>Company</th>\n",
              "      <th>TypeName</th>\n",
              "      <th>Cpu</th>\n",
              "      <th>Ram</th>\n",
              "      <th>Memory</th>\n",
              "      <th>Gpu</th>\n",
              "      <th>OpSys</th>\n",
              "      <th>Weight</th>\n",
              "      <th>Price</th>\n",
              "      <th>Touchscreen</th>\n",
              "      <th>Ips</th>\n",
              "      <th>ppi</th>\n",
              "    </tr>\n",
              "  </thead>\n",
              "  <tbody>\n",
              "    <tr>\n",
              "      <th>0</th>\n",
              "      <td>Apple</td>\n",
              "      <td>Ultrabook</td>\n",
              "      <td>Intel Core i5 2.3GHz</td>\n",
              "      <td>8</td>\n",
              "      <td>128GB SSD</td>\n",
              "      <td>Intel Iris Plus Graphics 640</td>\n",
              "      <td>macOS</td>\n",
              "      <td>1.37</td>\n",
              "      <td>71378.6832</td>\n",
              "      <td>0</td>\n",
              "      <td>1</td>\n",
              "      <td>226.983005</td>\n",
              "    </tr>\n",
              "    <tr>\n",
              "      <th>1</th>\n",
              "      <td>Apple</td>\n",
              "      <td>Ultrabook</td>\n",
              "      <td>Intel Core i5 1.8GHz</td>\n",
              "      <td>8</td>\n",
              "      <td>128GB Flash Storage</td>\n",
              "      <td>Intel HD Graphics 6000</td>\n",
              "      <td>macOS</td>\n",
              "      <td>1.34</td>\n",
              "      <td>47895.5232</td>\n",
              "      <td>0</td>\n",
              "      <td>0</td>\n",
              "      <td>127.677940</td>\n",
              "    </tr>\n",
              "    <tr>\n",
              "      <th>2</th>\n",
              "      <td>HP</td>\n",
              "      <td>Notebook</td>\n",
              "      <td>Intel Core i5 7200U 2.5GHz</td>\n",
              "      <td>8</td>\n",
              "      <td>256GB SSD</td>\n",
              "      <td>Intel HD Graphics 620</td>\n",
              "      <td>No OS</td>\n",
              "      <td>1.86</td>\n",
              "      <td>30636.0000</td>\n",
              "      <td>0</td>\n",
              "      <td>0</td>\n",
              "      <td>141.211998</td>\n",
              "    </tr>\n",
              "    <tr>\n",
              "      <th>3</th>\n",
              "      <td>Apple</td>\n",
              "      <td>Ultrabook</td>\n",
              "      <td>Intel Core i7 2.7GHz</td>\n",
              "      <td>16</td>\n",
              "      <td>512GB SSD</td>\n",
              "      <td>AMD Radeon Pro 455</td>\n",
              "      <td>macOS</td>\n",
              "      <td>1.83</td>\n",
              "      <td>135195.3360</td>\n",
              "      <td>0</td>\n",
              "      <td>1</td>\n",
              "      <td>220.534624</td>\n",
              "    </tr>\n",
              "    <tr>\n",
              "      <th>4</th>\n",
              "      <td>Apple</td>\n",
              "      <td>Ultrabook</td>\n",
              "      <td>Intel Core i5 3.1GHz</td>\n",
              "      <td>8</td>\n",
              "      <td>256GB SSD</td>\n",
              "      <td>Intel Iris Plus Graphics 650</td>\n",
              "      <td>macOS</td>\n",
              "      <td>1.37</td>\n",
              "      <td>96095.8080</td>\n",
              "      <td>0</td>\n",
              "      <td>1</td>\n",
              "      <td>226.983005</td>\n",
              "    </tr>\n",
              "  </tbody>\n",
              "</table>\n",
              "</div>"
            ],
            "text/plain": [
              "  Company   TypeName                         Cpu  Ram               Memory  \\\n",
              "0   Apple  Ultrabook        Intel Core i5 2.3GHz    8            128GB SSD   \n",
              "1   Apple  Ultrabook        Intel Core i5 1.8GHz    8  128GB Flash Storage   \n",
              "2      HP   Notebook  Intel Core i5 7200U 2.5GHz    8            256GB SSD   \n",
              "3   Apple  Ultrabook        Intel Core i7 2.7GHz   16            512GB SSD   \n",
              "4   Apple  Ultrabook        Intel Core i5 3.1GHz    8            256GB SSD   \n",
              "\n",
              "                            Gpu  OpSys  Weight        Price  Touchscreen  Ips  \\\n",
              "0  Intel Iris Plus Graphics 640  macOS    1.37   71378.6832            0    1   \n",
              "1        Intel HD Graphics 6000  macOS    1.34   47895.5232            0    0   \n",
              "2         Intel HD Graphics 620  No OS    1.86   30636.0000            0    0   \n",
              "3            AMD Radeon Pro 455  macOS    1.83  135195.3360            0    1   \n",
              "4  Intel Iris Plus Graphics 650  macOS    1.37   96095.8080            0    1   \n",
              "\n",
              "          ppi  \n",
              "0  226.983005  \n",
              "1  127.677940  \n",
              "2  141.211998  \n",
              "3  220.534624  \n",
              "4  226.983005  "
            ]
          },
          "execution_count": 49,
          "metadata": {},
          "output_type": "execute_result"
        }
      ],
      "source": [
        "df.head()"
      ]
    },
    {
      "cell_type": "code",
      "execution_count": 50,
      "id": "81f9ec40",
      "metadata": {
        "colab": {
          "base_uri": "https://localhost:8080/",
          "height": 489
        },
        "id": "81f9ec40",
        "outputId": "136dd336-3144-4014-8ffe-680446f8d653"
      },
      "outputs": [
        {
          "data": {
            "text/plain": [
              "Cpu\n",
              "Intel Core i5 7200U 2.5GHz       190\n",
              "Intel Core i7 7700HQ 2.8GHz      146\n",
              "Intel Core i7 7500U 2.7GHz       134\n",
              "Intel Core i7 8550U 1.8GHz        73\n",
              "Intel Core i5 8250U 1.6GHz        72\n",
              "                                ... \n",
              "Intel Core i5 7200U 2.70GHz        1\n",
              "Intel Core M M7-6Y75 1.2GHz        1\n",
              "Intel Core M 6Y54 1.1GHz           1\n",
              "AMD E-Series 9000 2.2GHz           1\n",
              "Samsung Cortex A72&A53 2.0GHz      1\n",
              "Name: count, Length: 118, dtype: int64"
            ]
          },
          "execution_count": 50,
          "metadata": {},
          "output_type": "execute_result"
        }
      ],
      "source": [
        "df['Cpu'].value_counts()"
      ]
    },
    {
      "cell_type": "code",
      "execution_count": 51,
      "id": "34ce8f2c",
      "metadata": {
        "id": "34ce8f2c"
      },
      "outputs": [],
      "source": [
        "df['Cpu Name'] = df['Cpu'].apply(lambda x:\" \".join(x.split()[0:3]))"
      ]
    },
    {
      "cell_type": "code",
      "execution_count": 52,
      "id": "8928f81c",
      "metadata": {
        "colab": {
          "base_uri": "https://localhost:8080/",
          "height": 469
        },
        "id": "8928f81c",
        "outputId": "0e3128ac-7dc0-4abf-d6f9-08e96c20c1e2"
      },
      "outputs": [
        {
          "data": {
            "text/html": [
              "<div>\n",
              "<style scoped>\n",
              "    .dataframe tbody tr th:only-of-type {\n",
              "        vertical-align: middle;\n",
              "    }\n",
              "\n",
              "    .dataframe tbody tr th {\n",
              "        vertical-align: top;\n",
              "    }\n",
              "\n",
              "    .dataframe thead th {\n",
              "        text-align: right;\n",
              "    }\n",
              "</style>\n",
              "<table border=\"1\" class=\"dataframe\">\n",
              "  <thead>\n",
              "    <tr style=\"text-align: right;\">\n",
              "      <th></th>\n",
              "      <th>Company</th>\n",
              "      <th>TypeName</th>\n",
              "      <th>Cpu</th>\n",
              "      <th>Ram</th>\n",
              "      <th>Memory</th>\n",
              "      <th>Gpu</th>\n",
              "      <th>OpSys</th>\n",
              "      <th>Weight</th>\n",
              "      <th>Price</th>\n",
              "      <th>Touchscreen</th>\n",
              "      <th>Ips</th>\n",
              "      <th>ppi</th>\n",
              "      <th>Cpu Name</th>\n",
              "    </tr>\n",
              "  </thead>\n",
              "  <tbody>\n",
              "    <tr>\n",
              "      <th>0</th>\n",
              "      <td>Apple</td>\n",
              "      <td>Ultrabook</td>\n",
              "      <td>Intel Core i5 2.3GHz</td>\n",
              "      <td>8</td>\n",
              "      <td>128GB SSD</td>\n",
              "      <td>Intel Iris Plus Graphics 640</td>\n",
              "      <td>macOS</td>\n",
              "      <td>1.37</td>\n",
              "      <td>71378.6832</td>\n",
              "      <td>0</td>\n",
              "      <td>1</td>\n",
              "      <td>226.983005</td>\n",
              "      <td>Intel Core i5</td>\n",
              "    </tr>\n",
              "    <tr>\n",
              "      <th>1</th>\n",
              "      <td>Apple</td>\n",
              "      <td>Ultrabook</td>\n",
              "      <td>Intel Core i5 1.8GHz</td>\n",
              "      <td>8</td>\n",
              "      <td>128GB Flash Storage</td>\n",
              "      <td>Intel HD Graphics 6000</td>\n",
              "      <td>macOS</td>\n",
              "      <td>1.34</td>\n",
              "      <td>47895.5232</td>\n",
              "      <td>0</td>\n",
              "      <td>0</td>\n",
              "      <td>127.677940</td>\n",
              "      <td>Intel Core i5</td>\n",
              "    </tr>\n",
              "    <tr>\n",
              "      <th>2</th>\n",
              "      <td>HP</td>\n",
              "      <td>Notebook</td>\n",
              "      <td>Intel Core i5 7200U 2.5GHz</td>\n",
              "      <td>8</td>\n",
              "      <td>256GB SSD</td>\n",
              "      <td>Intel HD Graphics 620</td>\n",
              "      <td>No OS</td>\n",
              "      <td>1.86</td>\n",
              "      <td>30636.0000</td>\n",
              "      <td>0</td>\n",
              "      <td>0</td>\n",
              "      <td>141.211998</td>\n",
              "      <td>Intel Core i5</td>\n",
              "    </tr>\n",
              "    <tr>\n",
              "      <th>3</th>\n",
              "      <td>Apple</td>\n",
              "      <td>Ultrabook</td>\n",
              "      <td>Intel Core i7 2.7GHz</td>\n",
              "      <td>16</td>\n",
              "      <td>512GB SSD</td>\n",
              "      <td>AMD Radeon Pro 455</td>\n",
              "      <td>macOS</td>\n",
              "      <td>1.83</td>\n",
              "      <td>135195.3360</td>\n",
              "      <td>0</td>\n",
              "      <td>1</td>\n",
              "      <td>220.534624</td>\n",
              "      <td>Intel Core i7</td>\n",
              "    </tr>\n",
              "    <tr>\n",
              "      <th>4</th>\n",
              "      <td>Apple</td>\n",
              "      <td>Ultrabook</td>\n",
              "      <td>Intel Core i5 3.1GHz</td>\n",
              "      <td>8</td>\n",
              "      <td>256GB SSD</td>\n",
              "      <td>Intel Iris Plus Graphics 650</td>\n",
              "      <td>macOS</td>\n",
              "      <td>1.37</td>\n",
              "      <td>96095.8080</td>\n",
              "      <td>0</td>\n",
              "      <td>1</td>\n",
              "      <td>226.983005</td>\n",
              "      <td>Intel Core i5</td>\n",
              "    </tr>\n",
              "  </tbody>\n",
              "</table>\n",
              "</div>"
            ],
            "text/plain": [
              "  Company   TypeName                         Cpu  Ram               Memory  \\\n",
              "0   Apple  Ultrabook        Intel Core i5 2.3GHz    8            128GB SSD   \n",
              "1   Apple  Ultrabook        Intel Core i5 1.8GHz    8  128GB Flash Storage   \n",
              "2      HP   Notebook  Intel Core i5 7200U 2.5GHz    8            256GB SSD   \n",
              "3   Apple  Ultrabook        Intel Core i7 2.7GHz   16            512GB SSD   \n",
              "4   Apple  Ultrabook        Intel Core i5 3.1GHz    8            256GB SSD   \n",
              "\n",
              "                            Gpu  OpSys  Weight        Price  Touchscreen  Ips  \\\n",
              "0  Intel Iris Plus Graphics 640  macOS    1.37   71378.6832            0    1   \n",
              "1        Intel HD Graphics 6000  macOS    1.34   47895.5232            0    0   \n",
              "2         Intel HD Graphics 620  No OS    1.86   30636.0000            0    0   \n",
              "3            AMD Radeon Pro 455  macOS    1.83  135195.3360            0    1   \n",
              "4  Intel Iris Plus Graphics 650  macOS    1.37   96095.8080            0    1   \n",
              "\n",
              "          ppi       Cpu Name  \n",
              "0  226.983005  Intel Core i5  \n",
              "1  127.677940  Intel Core i5  \n",
              "2  141.211998  Intel Core i5  \n",
              "3  220.534624  Intel Core i7  \n",
              "4  226.983005  Intel Core i5  "
            ]
          },
          "execution_count": 52,
          "metadata": {},
          "output_type": "execute_result"
        }
      ],
      "source": [
        "df.head()"
      ]
    },
    {
      "cell_type": "code",
      "execution_count": 53,
      "id": "5a23ed7d",
      "metadata": {
        "id": "5a23ed7d"
      },
      "outputs": [],
      "source": [
        "def fetch_processor(text):\n",
        "    if text == 'Intel Core i7' or text == 'Intel Core i5' or text == 'Intel Core i3':\n",
        "        return text\n",
        "    else:\n",
        "        if text.split()[0] == 'Intel':\n",
        "            return 'Other Intel Processor'\n",
        "        else:\n",
        "            return 'AMD Processor'"
      ]
    },
    {
      "cell_type": "code",
      "execution_count": 54,
      "id": "224c21db",
      "metadata": {
        "id": "224c21db"
      },
      "outputs": [],
      "source": [
        "df['Cpu brand'] = df['Cpu Name'].apply(fetch_processor)"
      ]
    },
    {
      "cell_type": "code",
      "execution_count": 55,
      "id": "c3c72072",
      "metadata": {
        "colab": {
          "base_uri": "https://localhost:8080/",
          "height": 469
        },
        "id": "c3c72072",
        "outputId": "102e32fe-714c-40f5-abd2-369b724cf7f8"
      },
      "outputs": [
        {
          "data": {
            "text/html": [
              "<div>\n",
              "<style scoped>\n",
              "    .dataframe tbody tr th:only-of-type {\n",
              "        vertical-align: middle;\n",
              "    }\n",
              "\n",
              "    .dataframe tbody tr th {\n",
              "        vertical-align: top;\n",
              "    }\n",
              "\n",
              "    .dataframe thead th {\n",
              "        text-align: right;\n",
              "    }\n",
              "</style>\n",
              "<table border=\"1\" class=\"dataframe\">\n",
              "  <thead>\n",
              "    <tr style=\"text-align: right;\">\n",
              "      <th></th>\n",
              "      <th>Company</th>\n",
              "      <th>TypeName</th>\n",
              "      <th>Cpu</th>\n",
              "      <th>Ram</th>\n",
              "      <th>Memory</th>\n",
              "      <th>Gpu</th>\n",
              "      <th>OpSys</th>\n",
              "      <th>Weight</th>\n",
              "      <th>Price</th>\n",
              "      <th>Touchscreen</th>\n",
              "      <th>Ips</th>\n",
              "      <th>ppi</th>\n",
              "      <th>Cpu Name</th>\n",
              "      <th>Cpu brand</th>\n",
              "    </tr>\n",
              "  </thead>\n",
              "  <tbody>\n",
              "    <tr>\n",
              "      <th>0</th>\n",
              "      <td>Apple</td>\n",
              "      <td>Ultrabook</td>\n",
              "      <td>Intel Core i5 2.3GHz</td>\n",
              "      <td>8</td>\n",
              "      <td>128GB SSD</td>\n",
              "      <td>Intel Iris Plus Graphics 640</td>\n",
              "      <td>macOS</td>\n",
              "      <td>1.37</td>\n",
              "      <td>71378.6832</td>\n",
              "      <td>0</td>\n",
              "      <td>1</td>\n",
              "      <td>226.983005</td>\n",
              "      <td>Intel Core i5</td>\n",
              "      <td>Intel Core i5</td>\n",
              "    </tr>\n",
              "    <tr>\n",
              "      <th>1</th>\n",
              "      <td>Apple</td>\n",
              "      <td>Ultrabook</td>\n",
              "      <td>Intel Core i5 1.8GHz</td>\n",
              "      <td>8</td>\n",
              "      <td>128GB Flash Storage</td>\n",
              "      <td>Intel HD Graphics 6000</td>\n",
              "      <td>macOS</td>\n",
              "      <td>1.34</td>\n",
              "      <td>47895.5232</td>\n",
              "      <td>0</td>\n",
              "      <td>0</td>\n",
              "      <td>127.677940</td>\n",
              "      <td>Intel Core i5</td>\n",
              "      <td>Intel Core i5</td>\n",
              "    </tr>\n",
              "    <tr>\n",
              "      <th>2</th>\n",
              "      <td>HP</td>\n",
              "      <td>Notebook</td>\n",
              "      <td>Intel Core i5 7200U 2.5GHz</td>\n",
              "      <td>8</td>\n",
              "      <td>256GB SSD</td>\n",
              "      <td>Intel HD Graphics 620</td>\n",
              "      <td>No OS</td>\n",
              "      <td>1.86</td>\n",
              "      <td>30636.0000</td>\n",
              "      <td>0</td>\n",
              "      <td>0</td>\n",
              "      <td>141.211998</td>\n",
              "      <td>Intel Core i5</td>\n",
              "      <td>Intel Core i5</td>\n",
              "    </tr>\n",
              "    <tr>\n",
              "      <th>3</th>\n",
              "      <td>Apple</td>\n",
              "      <td>Ultrabook</td>\n",
              "      <td>Intel Core i7 2.7GHz</td>\n",
              "      <td>16</td>\n",
              "      <td>512GB SSD</td>\n",
              "      <td>AMD Radeon Pro 455</td>\n",
              "      <td>macOS</td>\n",
              "      <td>1.83</td>\n",
              "      <td>135195.3360</td>\n",
              "      <td>0</td>\n",
              "      <td>1</td>\n",
              "      <td>220.534624</td>\n",
              "      <td>Intel Core i7</td>\n",
              "      <td>Intel Core i7</td>\n",
              "    </tr>\n",
              "    <tr>\n",
              "      <th>4</th>\n",
              "      <td>Apple</td>\n",
              "      <td>Ultrabook</td>\n",
              "      <td>Intel Core i5 3.1GHz</td>\n",
              "      <td>8</td>\n",
              "      <td>256GB SSD</td>\n",
              "      <td>Intel Iris Plus Graphics 650</td>\n",
              "      <td>macOS</td>\n",
              "      <td>1.37</td>\n",
              "      <td>96095.8080</td>\n",
              "      <td>0</td>\n",
              "      <td>1</td>\n",
              "      <td>226.983005</td>\n",
              "      <td>Intel Core i5</td>\n",
              "      <td>Intel Core i5</td>\n",
              "    </tr>\n",
              "  </tbody>\n",
              "</table>\n",
              "</div>"
            ],
            "text/plain": [
              "  Company   TypeName                         Cpu  Ram               Memory  \\\n",
              "0   Apple  Ultrabook        Intel Core i5 2.3GHz    8            128GB SSD   \n",
              "1   Apple  Ultrabook        Intel Core i5 1.8GHz    8  128GB Flash Storage   \n",
              "2      HP   Notebook  Intel Core i5 7200U 2.5GHz    8            256GB SSD   \n",
              "3   Apple  Ultrabook        Intel Core i7 2.7GHz   16            512GB SSD   \n",
              "4   Apple  Ultrabook        Intel Core i5 3.1GHz    8            256GB SSD   \n",
              "\n",
              "                            Gpu  OpSys  Weight        Price  Touchscreen  Ips  \\\n",
              "0  Intel Iris Plus Graphics 640  macOS    1.37   71378.6832            0    1   \n",
              "1        Intel HD Graphics 6000  macOS    1.34   47895.5232            0    0   \n",
              "2         Intel HD Graphics 620  No OS    1.86   30636.0000            0    0   \n",
              "3            AMD Radeon Pro 455  macOS    1.83  135195.3360            0    1   \n",
              "4  Intel Iris Plus Graphics 650  macOS    1.37   96095.8080            0    1   \n",
              "\n",
              "          ppi       Cpu Name      Cpu brand  \n",
              "0  226.983005  Intel Core i5  Intel Core i5  \n",
              "1  127.677940  Intel Core i5  Intel Core i5  \n",
              "2  141.211998  Intel Core i5  Intel Core i5  \n",
              "3  220.534624  Intel Core i7  Intel Core i7  \n",
              "4  226.983005  Intel Core i5  Intel Core i5  "
            ]
          },
          "execution_count": 55,
          "metadata": {},
          "output_type": "execute_result"
        }
      ],
      "source": [
        "df.head()"
      ]
    },
    {
      "cell_type": "code",
      "execution_count": 56,
      "id": "bdc8ec9f",
      "metadata": {
        "colab": {
          "base_uri": "https://localhost:8080/",
          "height": 598
        },
        "id": "bdc8ec9f",
        "outputId": "90aa03c4-d4ea-4078-cd4b-e86e4143e404"
      },
      "outputs": [
        {
          "data": {
            "text/plain": [
              "<Axes: xlabel='Cpu brand'>"
            ]
          },
          "execution_count": 56,
          "metadata": {},
          "output_type": "execute_result"
        },
        {
          "data": {
            "image/png": "[encoded data removed]",
            "text/plain": [
              "<Figure size 640x480 with 1 Axes>"
            ]
          },
          "metadata": {},
          "output_type": "display_data"
        }
      ],
      "source": [
        "df['Cpu brand'].value_counts().plot(kind='bar')"
      ]
    },
    {
      "cell_type": "code",
      "execution_count": 57,
      "id": "1a8350f0",
      "metadata": {
        "colab": {
          "base_uri": "https://localhost:8080/",
          "height": 581
        },
        "id": "1a8350f0",
        "outputId": "aa4bb9ce-5b29-4af3-fc33-e193e175a7ba"
      },
      "outputs": [
        {
          "data": {
            "image/png": "[encoded data removed]",
            "text/plain": [
              "<Figure size 640x480 with 1 Axes>"
            ]
          },
          "metadata": {},
          "output_type": "display_data"
        }
      ],
      "source": [
        "sns.barplot(x=df['Cpu brand'],y=df['Price'])\n",
        "plt.xticks(rotation='vertical')\n",
        "plt.show()"
      ]
    },
    {
      "cell_type": "code",
      "execution_count": 58,
      "id": "fc54795b",
      "metadata": {
        "id": "fc54795b"
      },
      "outputs": [],
      "source": [
        "df.drop(columns=['Cpu','Cpu Name'],inplace=True)"
      ]
    },
    {
      "cell_type": "code",
      "execution_count": 59,
      "id": "367e9992",
      "metadata": {
        "colab": {
          "base_uri": "https://localhost:8080/",
          "height": 451
        },
        "id": "367e9992",
        "outputId": "f2fc602a-d3be-472c-ef31-89f0c38128df"
      },
      "outputs": [
        {
          "data": {
            "text/html": [
              "<div>\n",
              "<style scoped>\n",
              "    .dataframe tbody tr th:only-of-type {\n",
              "        vertical-align: middle;\n",
              "    }\n",
              "\n",
              "    .dataframe tbody tr th {\n",
              "        vertical-align: top;\n",
              "    }\n",
              "\n",
              "    .dataframe thead th {\n",
              "        text-align: right;\n",
              "    }\n",
              "</style>\n",
              "<table border=\"1\" class=\"dataframe\">\n",
              "  <thead>\n",
              "    <tr style=\"text-align: right;\">\n",
              "      <th></th>\n",
              "      <th>Company</th>\n",
              "      <th>TypeName</th>\n",
              "      <th>Ram</th>\n",
              "      <th>Memory</th>\n",
              "      <th>Gpu</th>\n",
              "      <th>OpSys</th>\n",
              "      <th>Weight</th>\n",
              "      <th>Price</th>\n",
              "      <th>Touchscreen</th>\n",
              "      <th>Ips</th>\n",
              "      <th>ppi</th>\n",
              "      <th>Cpu brand</th>\n",
              "    </tr>\n",
              "  </thead>\n",
              "  <tbody>\n",
              "    <tr>\n",
              "      <th>0</th>\n",
              "      <td>Apple</td>\n",
              "      <td>Ultrabook</td>\n",
              "      <td>8</td>\n",
              "      <td>128GB SSD</td>\n",
              "      <td>Intel Iris Plus Graphics 640</td>\n",
              "      <td>macOS</td>\n",
              "      <td>1.37</td>\n",
              "      <td>71378.6832</td>\n",
              "      <td>0</td>\n",
              "      <td>1</td>\n",
              "      <td>226.983005</td>\n",
              "      <td>Intel Core i5</td>\n",
              "    </tr>\n",
              "    <tr>\n",
              "      <th>1</th>\n",
              "      <td>Apple</td>\n",
              "      <td>Ultrabook</td>\n",
              "      <td>8</td>\n",
              "      <td>128GB Flash Storage</td>\n",
              "      <td>Intel HD Graphics 6000</td>\n",
              "      <td>macOS</td>\n",
              "      <td>1.34</td>\n",
              "      <td>47895.5232</td>\n",
              "      <td>0</td>\n",
              "      <td>0</td>\n",
              "      <td>127.677940</td>\n",
              "      <td>Intel Core i5</td>\n",
              "    </tr>\n",
              "    <tr>\n",
              "      <th>2</th>\n",
              "      <td>HP</td>\n",
              "      <td>Notebook</td>\n",
              "      <td>8</td>\n",
              "      <td>256GB SSD</td>\n",
              "      <td>Intel HD Graphics 620</td>\n",
              "      <td>No OS</td>\n",
              "      <td>1.86</td>\n",
              "      <td>30636.0000</td>\n",
              "      <td>0</td>\n",
              "      <td>0</td>\n",
              "      <td>141.211998</td>\n",
              "      <td>Intel Core i5</td>\n",
              "    </tr>\n",
              "    <tr>\n",
              "      <th>3</th>\n",
              "      <td>Apple</td>\n",
              "      <td>Ultrabook</td>\n",
              "      <td>16</td>\n",
              "      <td>512GB SSD</td>\n",
              "      <td>AMD Radeon Pro 455</td>\n",
              "      <td>macOS</td>\n",
              "      <td>1.83</td>\n",
              "      <td>135195.3360</td>\n",
              "      <td>0</td>\n",
              "      <td>1</td>\n",
              "      <td>220.534624</td>\n",
              "      <td>Intel Core i7</td>\n",
              "    </tr>\n",
              "    <tr>\n",
              "      <th>4</th>\n",
              "      <td>Apple</td>\n",
              "      <td>Ultrabook</td>\n",
              "      <td>8</td>\n",
              "      <td>256GB SSD</td>\n",
              "      <td>Intel Iris Plus Graphics 650</td>\n",
              "      <td>macOS</td>\n",
              "      <td>1.37</td>\n",
              "      <td>96095.8080</td>\n",
              "      <td>0</td>\n",
              "      <td>1</td>\n",
              "      <td>226.983005</td>\n",
              "      <td>Intel Core i5</td>\n",
              "    </tr>\n",
              "  </tbody>\n",
              "</table>\n",
              "</div>"
            ],
            "text/plain": [
              "  Company   TypeName  Ram               Memory                           Gpu  \\\n",
              "0   Apple  Ultrabook    8            128GB SSD  Intel Iris Plus Graphics 640   \n",
              "1   Apple  Ultrabook    8  128GB Flash Storage        Intel HD Graphics 6000   \n",
              "2      HP   Notebook    8            256GB SSD         Intel HD Graphics 620   \n",
              "3   Apple  Ultrabook   16            512GB SSD            AMD Radeon Pro 455   \n",
              "4   Apple  Ultrabook    8            256GB SSD  Intel Iris Plus Graphics 650   \n",
              "\n",
              "   OpSys  Weight        Price  Touchscreen  Ips         ppi      Cpu brand  \n",
              "0  macOS    1.37   71378.6832            0    1  226.983005  Intel Core i5  \n",
              "1  macOS    1.34   47895.5232            0    0  127.677940  Intel Core i5  \n",
              "2  No OS    1.86   30636.0000            0    0  141.211998  Intel Core i5  \n",
              "3  macOS    1.83  135195.3360            0    1  220.534624  Intel Core i7  \n",
              "4  macOS    1.37   96095.8080            0    1  226.983005  Intel Core i5  "
            ]
          },
          "execution_count": 59,
          "metadata": {},
          "output_type": "execute_result"
        }
      ],
      "source": [
        "df.head()"
      ]
    },
    {
      "cell_type": "code",
      "execution_count": 60,
      "id": "b6cd52b7",
      "metadata": {
        "colab": {
          "base_uri": "https://localhost:8080/",
          "height": 470
        },
        "id": "b6cd52b7",
        "outputId": "3350ac51-1cdc-4494-d489-c169ccdc154a"
      },
      "outputs": [
        {
          "data": {
            "text/plain": [
              "<Axes: xlabel='Ram'>"
            ]
          },
          "execution_count": 60,
          "metadata": {},
          "output_type": "execute_result"
        },
        {
          "data": {
            "image/png": "[encoded data removed]",
            "text/plain": [
              "<Figure size 640x480 with 1 Axes>"
            ]
          },
          "metadata": {},
          "output_type": "display_data"
        }
      ],
      "source": [
        "df['Ram'].value_counts().plot(kind='bar')"
      ]
    },
    {
      "cell_type": "code",
      "execution_count": 61,
      "id": "ca0e2e0b",
      "metadata": {
        "colab": {
          "base_uri": "https://localhost:8080/",
          "height": 453
        },
        "id": "ca0e2e0b",
        "outputId": "66669f8b-d397-4c1d-fd74-4c8451330ffe"
      },
      "outputs": [
        {
          "data": {
            "image/png": "[encoded data removed]",
            "text/plain": [
              "<Figure size 640x480 with 1 Axes>"
            ]
          },
          "metadata": {},
          "output_type": "display_data"
        }
      ],
      "source": [
        "sns.barplot(x=df['Ram'],y=df['Price'])\n",
        "plt.xticks(rotation='vertical')\n",
        "plt.show()"
      ]
    },
    {
      "cell_type": "code",
      "execution_count": 62,
      "id": "c4a1224b",
      "metadata": {
        "colab": {
          "base_uri": "https://localhost:8080/",
          "height": 1000
        },
        "id": "c4a1224b",
        "outputId": "997d4546-302e-4ecc-efc1-0e10fa72c34d"
      },
      "outputs": [
        {
          "data": {
            "text/plain": [
              "Memory\n",
              "256GB SSD                        412\n",
              "1TB HDD                          223\n",
              "500GB HDD                        132\n",
              "512GB SSD                        118\n",
              "128GB SSD +  1TB HDD              94\n",
              "128GB SSD                         76\n",
              "256GB SSD +  1TB HDD              73\n",
              "32GB Flash Storage                38\n",
              "2TB HDD                           16\n",
              "64GB Flash Storage                15\n",
              "1TB SSD                           14\n",
              "512GB SSD +  1TB HDD              14\n",
              "256GB SSD +  2TB HDD              10\n",
              "1.0TB Hybrid                       9\n",
              "256GB Flash Storage                8\n",
              "16GB Flash Storage                 7\n",
              "32GB SSD                           6\n",
              "180GB SSD                          5\n",
              "128GB Flash Storage                4\n",
              "16GB SSD                           3\n",
              "512GB SSD +  2TB HDD               3\n",
              "128GB SSD +  2TB HDD               2\n",
              "256GB SSD +  256GB SSD             2\n",
              "512GB Flash Storage                2\n",
              "1TB SSD +  1TB HDD                 2\n",
              "256GB SSD +  500GB HDD             2\n",
              "64GB SSD                           1\n",
              "512GB SSD +  512GB SSD             1\n",
              "64GB Flash Storage +  1TB HDD      1\n",
              "1TB HDD +  1TB HDD                 1\n",
              "512GB SSD +  256GB SSD             1\n",
              "32GB HDD                           1\n",
              "128GB HDD                          1\n",
              "240GB SSD                          1\n",
              "8GB SSD                            1\n",
              "508GB Hybrid                       1\n",
              "1.0TB HDD                          1\n",
              "512GB SSD +  1.0TB Hybrid          1\n",
              "256GB SSD +  1.0TB Hybrid          1\n",
              "Name: count, dtype: int64"
            ]
          },
          "execution_count": 62,
          "metadata": {},
          "output_type": "execute_result"
        }
      ],
      "source": [
        "df['Memory'].value_counts()"
      ]
    },
    {
      "cell_type": "code",
      "execution_count": 63,
      "id": "0I8KwXFP3IJu",
      "metadata": {
        "id": "0I8KwXFP3IJu"
      },
      "outputs": [],
      "source": [
        "# Clean up the Memory column\n",
        "df[\"Memory\"] = df[\"Memory\"].astype(str).replace(r'\\.0', '', regex=True)\n",
        "df[\"Memory\"] = df[\"Memory\"].str.replace('GB', '')\n",
        "df[\"Memory\"] = df[\"Memory\"].str.replace('TB', '000')\n",
        "\n",
        "# Split the Memory information by '+'\n",
        "new = df[\"Memory\"].str.split(\"+\", n=1, expand=True)\n",
        "df[\"first\"] = new[0].str.strip()  # Remove leading/trailing spaces\n",
        "df[\"second\"] = new[1].str.strip() if new.shape[1] > 1 else None\n",
        "\n",
        "# Create features from the 'first' part\n",
        "df[\"Layer1HDD\"] = df[\"first\"].apply(lambda x: 1 if \"HDD\" in x else 0)\n",
        "df[\"Layer1SSD\"] = df[\"first\"].apply(lambda x: 1 if \"SSD\" in x else 0)\n",
        "df[\"Layer1Hybrid\"] = df[\"first\"].apply(lambda x: 1 if \"Hybrid\" in x else 0)\n",
        "df[\"Layer1Flash_Storage\"] = df[\"first\"].apply(lambda x: 1 if \"Flash Storage\" in x else 0)\n",
        "\n",
        "# Remove all non-digit characters from 'first'\n",
        "df[\"first\"] = df[\"first\"].str.replace(r'\\D', '', regex=True)\n",
        "\n",
        "# Replace missing values in 'second' and process similarly\n",
        "df[\"second\"] = df[\"second\"].fillna(\"0\")\n",
        "df[\"Layer2HDD\"] = df[\"second\"].apply(lambda x: 1 if \"HDD\" in x else 0)\n",
        "df[\"Layer2SSD\"] = df[\"second\"].apply(lambda x: 1 if \"SSD\" in x else 0)\n",
        "df[\"Layer2Hybrid\"] = df[\"second\"].apply(lambda x: 1 if \"Hybrid\" in x else 0)\n",
        "df[\"Layer2Flash_Storage\"] = df[\"second\"].apply(lambda x: 1 if \"Flash Storage\" in x else 0)\n",
        "df[\"second\"] = df[\"second\"].str.replace(r'\\D', '', regex=True)\n",
        "\n",
        "# Finally, convert these columns to integers\n",
        "df[\"first\"] = df[\"first\"].astype(int)\n",
        "df[\"second\"] = df[\"second\"].astype(int)\n"
      ]
    },
    {
      "cell_type": "code",
      "execution_count": 64,
      "id": "32b5NSa13fXw",
      "metadata": {
        "id": "32b5NSa13fXw"
      },
      "outputs": [],
      "source": [
        "df[\"HDD\"]=(df[\"first\"]*df[\"Layer1HDD\"]+df[\"second\"]*df[\"Layer2HDD\"])\n",
        "df[\"SSD\"]=(df[\"first\"]*df[\"Layer1SSD\"]+df[\"second\"]*df[\"Layer2SSD\"])\n",
        "df[\"Hybrid\"]=(df[\"first\"]*df[\"Layer1Hybrid\"]+df[\"second\"]*df[\"Layer2Hybrid\"])\n",
        "df[\"Flash_Storage\"]=(df[\"first\"]*df[\"Layer1Flash_Storage\"]+df[\"second\"]*df[\"Layer2Flash_Storage\"])\n",
        "\n",
        "df.drop(columns=['first', 'second', 'Layer1HDD', 'Layer1SSD', 'Layer1Hybrid',\n",
        "       'Layer1Flash_Storage', 'Layer2HDD', 'Layer2SSD', 'Layer2Hybrid',\n",
        "       'Layer2Flash_Storage'],inplace=True)"
      ]
    },
    {
      "cell_type": "code",
      "execution_count": 65,
      "id": "919f2130",
      "metadata": {
        "colab": {
          "base_uri": "https://localhost:8080/",
          "height": 434
        },
        "id": "919f2130",
        "outputId": "f61cf614-b920-4fc9-b607-cf22fbb6f1a3"
      },
      "outputs": [
        {
          "data": {
            "text/html": [
              "<div>\n",
              "<style scoped>\n",
              "    .dataframe tbody tr th:only-of-type {\n",
              "        vertical-align: middle;\n",
              "    }\n",
              "\n",
              "    .dataframe tbody tr th {\n",
              "        vertical-align: top;\n",
              "    }\n",
              "\n",
              "    .dataframe thead th {\n",
              "        text-align: right;\n",
              "    }\n",
              "</style>\n",
              "<table border=\"1\" class=\"dataframe\">\n",
              "  <thead>\n",
              "    <tr style=\"text-align: right;\">\n",
              "      <th></th>\n",
              "      <th>Company</th>\n",
              "      <th>TypeName</th>\n",
              "      <th>Ram</th>\n",
              "      <th>Memory</th>\n",
              "      <th>Gpu</th>\n",
              "      <th>OpSys</th>\n",
              "      <th>Weight</th>\n",
              "      <th>Price</th>\n",
              "      <th>Touchscreen</th>\n",
              "      <th>Ips</th>\n",
              "      <th>ppi</th>\n",
              "      <th>Cpu brand</th>\n",
              "      <th>HDD</th>\n",
              "      <th>SSD</th>\n",
              "      <th>Hybrid</th>\n",
              "      <th>Flash_Storage</th>\n",
              "    </tr>\n",
              "  </thead>\n",
              "  <tbody>\n",
              "    <tr>\n",
              "      <th>420</th>\n",
              "      <td>Lenovo</td>\n",
              "      <td>2 in 1 Convertible</td>\n",
              "      <td>16</td>\n",
              "      <td>512 SSD</td>\n",
              "      <td>Nvidia GeForce GTX 1050</td>\n",
              "      <td>Windows 10</td>\n",
              "      <td>2.0</td>\n",
              "      <td>101178.7200</td>\n",
              "      <td>1</td>\n",
              "      <td>1</td>\n",
              "      <td>282.423996</td>\n",
              "      <td>Intel Core i7</td>\n",
              "      <td>0</td>\n",
              "      <td>512</td>\n",
              "      <td>0</td>\n",
              "      <td>0</td>\n",
              "    </tr>\n",
              "    <tr>\n",
              "      <th>1279</th>\n",
              "      <td>Lenovo</td>\n",
              "      <td>Notebook</td>\n",
              "      <td>8</td>\n",
              "      <td>1000 HDD</td>\n",
              "      <td>Nvidia GeForce GTX 960M</td>\n",
              "      <td>Windows 10</td>\n",
              "      <td>2.6</td>\n",
              "      <td>47898.7200</td>\n",
              "      <td>0</td>\n",
              "      <td>1</td>\n",
              "      <td>141.211998</td>\n",
              "      <td>Intel Core i7</td>\n",
              "      <td>1000</td>\n",
              "      <td>0</td>\n",
              "      <td>0</td>\n",
              "      <td>0</td>\n",
              "    </tr>\n",
              "    <tr>\n",
              "      <th>1233</th>\n",
              "      <td>MSI</td>\n",
              "      <td>Gaming</td>\n",
              "      <td>16</td>\n",
              "      <td>256 SSD +  1000 HDD</td>\n",
              "      <td>Nvidia GeForce GTX 1060</td>\n",
              "      <td>Windows 10</td>\n",
              "      <td>2.7</td>\n",
              "      <td>85141.4400</td>\n",
              "      <td>0</td>\n",
              "      <td>0</td>\n",
              "      <td>127.335675</td>\n",
              "      <td>Intel Core i7</td>\n",
              "      <td>1000</td>\n",
              "      <td>256</td>\n",
              "      <td>0</td>\n",
              "      <td>0</td>\n",
              "    </tr>\n",
              "    <tr>\n",
              "      <th>601</th>\n",
              "      <td>HP</td>\n",
              "      <td>Notebook</td>\n",
              "      <td>4</td>\n",
              "      <td>500 HDD</td>\n",
              "      <td>Intel HD Graphics 620</td>\n",
              "      <td>Windows 10</td>\n",
              "      <td>2.1</td>\n",
              "      <td>35616.6144</td>\n",
              "      <td>0</td>\n",
              "      <td>0</td>\n",
              "      <td>100.454670</td>\n",
              "      <td>Intel Core i3</td>\n",
              "      <td>500</td>\n",
              "      <td>0</td>\n",
              "      <td>0</td>\n",
              "      <td>0</td>\n",
              "    </tr>\n",
              "    <tr>\n",
              "      <th>75</th>\n",
              "      <td>Asus</td>\n",
              "      <td>Gaming</td>\n",
              "      <td>8</td>\n",
              "      <td>1000 HDD</td>\n",
              "      <td>Nvidia GeForce GTX 1050</td>\n",
              "      <td>Windows 10</td>\n",
              "      <td>2.2</td>\n",
              "      <td>50562.7200</td>\n",
              "      <td>0</td>\n",
              "      <td>0</td>\n",
              "      <td>141.211998</td>\n",
              "      <td>Intel Core i7</td>\n",
              "      <td>1000</td>\n",
              "      <td>0</td>\n",
              "      <td>0</td>\n",
              "      <td>0</td>\n",
              "    </tr>\n",
              "  </tbody>\n",
              "</table>\n",
              "</div>"
            ],
            "text/plain": [
              "     Company            TypeName  Ram               Memory  \\\n",
              "420   Lenovo  2 in 1 Convertible   16              512 SSD   \n",
              "1279  Lenovo            Notebook    8             1000 HDD   \n",
              "1233     MSI              Gaming   16  256 SSD +  1000 HDD   \n",
              "601       HP            Notebook    4              500 HDD   \n",
              "75      Asus              Gaming    8             1000 HDD   \n",
              "\n",
              "                          Gpu       OpSys  Weight        Price  Touchscreen  \\\n",
              "420   Nvidia GeForce GTX 1050  Windows 10     2.0  101178.7200            1   \n",
              "1279  Nvidia GeForce GTX 960M  Windows 10     2.6   47898.7200            0   \n",
              "1233  Nvidia GeForce GTX 1060  Windows 10     2.7   85141.4400            0   \n",
              "601     Intel HD Graphics 620  Windows 10     2.1   35616.6144            0   \n",
              "75    Nvidia GeForce GTX 1050  Windows 10     2.2   50562.7200            0   \n",
              "\n",
              "      Ips         ppi      Cpu brand   HDD  SSD  Hybrid  Flash_Storage  \n",
              "420     1  282.423996  Intel Core i7     0  512       0              0  \n",
              "1279    1  141.211998  Intel Core i7  1000    0       0              0  \n",
              "1233    0  127.335675  Intel Core i7  1000  256       0              0  \n",
              "601     0  100.454670  Intel Core i3   500    0       0              0  \n",
              "75      0  141.211998  Intel Core i7  1000    0       0              0  "
            ]
          },
          "execution_count": 65,
          "metadata": {},
          "output_type": "execute_result"
        }
      ],
      "source": [
        "df.sample(5)"
      ]
    },
    {
      "cell_type": "code",
      "execution_count": 66,
      "id": "79b1c60f",
      "metadata": {
        "id": "79b1c60f"
      },
      "outputs": [],
      "source": [
        "df.drop(columns=['Memory'],inplace=True)"
      ]
    },
    {
      "cell_type": "code",
      "execution_count": 67,
      "id": "cf1a2da5",
      "metadata": {
        "colab": {
          "base_uri": "https://localhost:8080/",
          "height": 451
        },
        "id": "cf1a2da5",
        "outputId": "91ed517c-b7c4-4905-e20a-14c5feaeafb0"
      },
      "outputs": [
        {
          "data": {
            "text/html": [
              "<div>\n",
              "<style scoped>\n",
              "    .dataframe tbody tr th:only-of-type {\n",
              "        vertical-align: middle;\n",
              "    }\n",
              "\n",
              "    .dataframe tbody tr th {\n",
              "        vertical-align: top;\n",
              "    }\n",
              "\n",
              "    .dataframe thead th {\n",
              "        text-align: right;\n",
              "    }\n",
              "</style>\n",
              "<table border=\"1\" class=\"dataframe\">\n",
              "  <thead>\n",
              "    <tr style=\"text-align: right;\">\n",
              "      <th></th>\n",
              "      <th>Company</th>\n",
              "      <th>TypeName</th>\n",
              "      <th>Ram</th>\n",
              "      <th>Gpu</th>\n",
              "      <th>OpSys</th>\n",
              "      <th>Weight</th>\n",
              "      <th>Price</th>\n",
              "      <th>Touchscreen</th>\n",
              "      <th>Ips</th>\n",
              "      <th>ppi</th>\n",
              "      <th>Cpu brand</th>\n",
              "      <th>HDD</th>\n",
              "      <th>SSD</th>\n",
              "      <th>Hybrid</th>\n",
              "      <th>Flash_Storage</th>\n",
              "    </tr>\n",
              "  </thead>\n",
              "  <tbody>\n",
              "    <tr>\n",
              "      <th>0</th>\n",
              "      <td>Apple</td>\n",
              "      <td>Ultrabook</td>\n",
              "      <td>8</td>\n",
              "      <td>Intel Iris Plus Graphics 640</td>\n",
              "      <td>macOS</td>\n",
              "      <td>1.37</td>\n",
              "      <td>71378.6832</td>\n",
              "      <td>0</td>\n",
              "      <td>1</td>\n",
              "      <td>226.983005</td>\n",
              "      <td>Intel Core i5</td>\n",
              "      <td>0</td>\n",
              "      <td>128</td>\n",
              "      <td>0</td>\n",
              "      <td>0</td>\n",
              "    </tr>\n",
              "    <tr>\n",
              "      <th>1</th>\n",
              "      <td>Apple</td>\n",
              "      <td>Ultrabook</td>\n",
              "      <td>8</td>\n",
              "      <td>Intel HD Graphics 6000</td>\n",
              "      <td>macOS</td>\n",
              "      <td>1.34</td>\n",
              "      <td>47895.5232</td>\n",
              "      <td>0</td>\n",
              "      <td>0</td>\n",
              "      <td>127.677940</td>\n",
              "      <td>Intel Core i5</td>\n",
              "      <td>0</td>\n",
              "      <td>0</td>\n",
              "      <td>0</td>\n",
              "      <td>128</td>\n",
              "    </tr>\n",
              "    <tr>\n",
              "      <th>2</th>\n",
              "      <td>HP</td>\n",
              "      <td>Notebook</td>\n",
              "      <td>8</td>\n",
              "      <td>Intel HD Graphics 620</td>\n",
              "      <td>No OS</td>\n",
              "      <td>1.86</td>\n",
              "      <td>30636.0000</td>\n",
              "      <td>0</td>\n",
              "      <td>0</td>\n",
              "      <td>141.211998</td>\n",
              "      <td>Intel Core i5</td>\n",
              "      <td>0</td>\n",
              "      <td>256</td>\n",
              "      <td>0</td>\n",
              "      <td>0</td>\n",
              "    </tr>\n",
              "    <tr>\n",
              "      <th>3</th>\n",
              "      <td>Apple</td>\n",
              "      <td>Ultrabook</td>\n",
              "      <td>16</td>\n",
              "      <td>AMD Radeon Pro 455</td>\n",
              "      <td>macOS</td>\n",
              "      <td>1.83</td>\n",
              "      <td>135195.3360</td>\n",
              "      <td>0</td>\n",
              "      <td>1</td>\n",
              "      <td>220.534624</td>\n",
              "      <td>Intel Core i7</td>\n",
              "      <td>0</td>\n",
              "      <td>512</td>\n",
              "      <td>0</td>\n",
              "      <td>0</td>\n",
              "    </tr>\n",
              "    <tr>\n",
              "      <th>4</th>\n",
              "      <td>Apple</td>\n",
              "      <td>Ultrabook</td>\n",
              "      <td>8</td>\n",
              "      <td>Intel Iris Plus Graphics 650</td>\n",
              "      <td>macOS</td>\n",
              "      <td>1.37</td>\n",
              "      <td>96095.8080</td>\n",
              "      <td>0</td>\n",
              "      <td>1</td>\n",
              "      <td>226.983005</td>\n",
              "      <td>Intel Core i5</td>\n",
              "      <td>0</td>\n",
              "      <td>256</td>\n",
              "      <td>0</td>\n",
              "      <td>0</td>\n",
              "    </tr>\n",
              "  </tbody>\n",
              "</table>\n",
              "</div>"
            ],
            "text/plain": [
              "  Company   TypeName  Ram                           Gpu  OpSys  Weight  \\\n",
              "0   Apple  Ultrabook    8  Intel Iris Plus Graphics 640  macOS    1.37   \n",
              "1   Apple  Ultrabook    8        Intel HD Graphics 6000  macOS    1.34   \n",
              "2      HP   Notebook    8         Intel HD Graphics 620  No OS    1.86   \n",
              "3   Apple  Ultrabook   16            AMD Radeon Pro 455  macOS    1.83   \n",
              "4   Apple  Ultrabook    8  Intel Iris Plus Graphics 650  macOS    1.37   \n",
              "\n",
              "         Price  Touchscreen  Ips         ppi      Cpu brand  HDD  SSD  Hybrid  \\\n",
              "0   71378.6832            0    1  226.983005  Intel Core i5    0  128       0   \n",
              "1   47895.5232            0    0  127.677940  Intel Core i5    0    0       0   \n",
              "2   30636.0000            0    0  141.211998  Intel Core i5    0  256       0   \n",
              "3  135195.3360            0    1  220.534624  Intel Core i7    0  512       0   \n",
              "4   96095.8080            0    1  226.983005  Intel Core i5    0  256       0   \n",
              "\n",
              "   Flash_Storage  \n",
              "0              0  \n",
              "1            128  \n",
              "2              0  \n",
              "3              0  \n",
              "4              0  "
            ]
          },
          "execution_count": 67,
          "metadata": {},
          "output_type": "execute_result"
        }
      ],
      "source": [
        "df.head()"
      ]
    },
    {
      "cell_type": "code",
      "execution_count": 68,
      "id": "845e8723",
      "metadata": {
        "id": "845e8723"
      },
      "outputs": [],
      "source": [
        "df.drop(columns=['Hybrid','Flash_Storage'],inplace=True) #Dropping this because hybrid and flash_storage shows negative relation with price"
      ]
    },
    {
      "cell_type": "code",
      "execution_count": 69,
      "id": "5e069ba6",
      "metadata": {
        "colab": {
          "base_uri": "https://localhost:8080/",
          "height": 451
        },
        "id": "5e069ba6",
        "outputId": "07032f5d-e6ee-4379-e2fa-512f8da820df"
      },
      "outputs": [
        {
          "data": {
            "text/html": [
              "<div>\n",
              "<style scoped>\n",
              "    .dataframe tbody tr th:only-of-type {\n",
              "        vertical-align: middle;\n",
              "    }\n",
              "\n",
              "    .dataframe tbody tr th {\n",
              "        vertical-align: top;\n",
              "    }\n",
              "\n",
              "    .dataframe thead th {\n",
              "        text-align: right;\n",
              "    }\n",
              "</style>\n",
              "<table border=\"1\" class=\"dataframe\">\n",
              "  <thead>\n",
              "    <tr style=\"text-align: right;\">\n",
              "      <th></th>\n",
              "      <th>Company</th>\n",
              "      <th>TypeName</th>\n",
              "      <th>Ram</th>\n",
              "      <th>Gpu</th>\n",
              "      <th>OpSys</th>\n",
              "      <th>Weight</th>\n",
              "      <th>Price</th>\n",
              "      <th>Touchscreen</th>\n",
              "      <th>Ips</th>\n",
              "      <th>ppi</th>\n",
              "      <th>Cpu brand</th>\n",
              "      <th>HDD</th>\n",
              "      <th>SSD</th>\n",
              "    </tr>\n",
              "  </thead>\n",
              "  <tbody>\n",
              "    <tr>\n",
              "      <th>0</th>\n",
              "      <td>Apple</td>\n",
              "      <td>Ultrabook</td>\n",
              "      <td>8</td>\n",
              "      <td>Intel Iris Plus Graphics 640</td>\n",
              "      <td>macOS</td>\n",
              "      <td>1.37</td>\n",
              "      <td>71378.6832</td>\n",
              "      <td>0</td>\n",
              "      <td>1</td>\n",
              "      <td>226.983005</td>\n",
              "      <td>Intel Core i5</td>\n",
              "      <td>0</td>\n",
              "      <td>128</td>\n",
              "    </tr>\n",
              "    <tr>\n",
              "      <th>1</th>\n",
              "      <td>Apple</td>\n",
              "      <td>Ultrabook</td>\n",
              "      <td>8</td>\n",
              "      <td>Intel HD Graphics 6000</td>\n",
              "      <td>macOS</td>\n",
              "      <td>1.34</td>\n",
              "      <td>47895.5232</td>\n",
              "      <td>0</td>\n",
              "      <td>0</td>\n",
              "      <td>127.677940</td>\n",
              "      <td>Intel Core i5</td>\n",
              "      <td>0</td>\n",
              "      <td>0</td>\n",
              "    </tr>\n",
              "    <tr>\n",
              "      <th>2</th>\n",
              "      <td>HP</td>\n",
              "      <td>Notebook</td>\n",
              "      <td>8</td>\n",
              "      <td>Intel HD Graphics 620</td>\n",
              "      <td>No OS</td>\n",
              "      <td>1.86</td>\n",
              "      <td>30636.0000</td>\n",
              "      <td>0</td>\n",
              "      <td>0</td>\n",
              "      <td>141.211998</td>\n",
              "      <td>Intel Core i5</td>\n",
              "      <td>0</td>\n",
              "      <td>256</td>\n",
              "    </tr>\n",
              "    <tr>\n",
              "      <th>3</th>\n",
              "      <td>Apple</td>\n",
              "      <td>Ultrabook</td>\n",
              "      <td>16</td>\n",
              "      <td>AMD Radeon Pro 455</td>\n",
              "      <td>macOS</td>\n",
              "      <td>1.83</td>\n",
              "      <td>135195.3360</td>\n",
              "      <td>0</td>\n",
              "      <td>1</td>\n",
              "      <td>220.534624</td>\n",
              "      <td>Intel Core i7</td>\n",
              "      <td>0</td>\n",
              "      <td>512</td>\n",
              "    </tr>\n",
              "    <tr>\n",
              "      <th>4</th>\n",
              "      <td>Apple</td>\n",
              "      <td>Ultrabook</td>\n",
              "      <td>8</td>\n",
              "      <td>Intel Iris Plus Graphics 650</td>\n",
              "      <td>macOS</td>\n",
              "      <td>1.37</td>\n",
              "      <td>96095.8080</td>\n",
              "      <td>0</td>\n",
              "      <td>1</td>\n",
              "      <td>226.983005</td>\n",
              "      <td>Intel Core i5</td>\n",
              "      <td>0</td>\n",
              "      <td>256</td>\n",
              "    </tr>\n",
              "  </tbody>\n",
              "</table>\n",
              "</div>"
            ],
            "text/plain": [
              "  Company   TypeName  Ram                           Gpu  OpSys  Weight  \\\n",
              "0   Apple  Ultrabook    8  Intel Iris Plus Graphics 640  macOS    1.37   \n",
              "1   Apple  Ultrabook    8        Intel HD Graphics 6000  macOS    1.34   \n",
              "2      HP   Notebook    8         Intel HD Graphics 620  No OS    1.86   \n",
              "3   Apple  Ultrabook   16            AMD Radeon Pro 455  macOS    1.83   \n",
              "4   Apple  Ultrabook    8  Intel Iris Plus Graphics 650  macOS    1.37   \n",
              "\n",
              "         Price  Touchscreen  Ips         ppi      Cpu brand  HDD  SSD  \n",
              "0   71378.6832            0    1  226.983005  Intel Core i5    0  128  \n",
              "1   47895.5232            0    0  127.677940  Intel Core i5    0    0  \n",
              "2   30636.0000            0    0  141.211998  Intel Core i5    0  256  \n",
              "3  135195.3360            0    1  220.534624  Intel Core i7    0  512  \n",
              "4   96095.8080            0    1  226.983005  Intel Core i5    0  256  "
            ]
          },
          "execution_count": 69,
          "metadata": {},
          "output_type": "execute_result"
        }
      ],
      "source": [
        "df.head()"
      ]
    },
    {
      "cell_type": "code",
      "execution_count": 70,
      "id": "65722933",
      "metadata": {
        "colab": {
          "base_uri": "https://localhost:8080/",
          "height": 489
        },
        "id": "65722933",
        "outputId": "30fc16c8-956c-46db-dac2-c0d83a5e990c"
      },
      "outputs": [
        {
          "data": {
            "text/plain": [
              "Gpu\n",
              "Intel HD Graphics 620      281\n",
              "Intel HD Graphics 520      185\n",
              "Intel UHD Graphics 620      68\n",
              "Nvidia GeForce GTX 1050     66\n",
              "Nvidia GeForce GTX 1060     48\n",
              "                          ... \n",
              "Nvidia Quadro M500M          1\n",
              "AMD Radeon R7 M360           1\n",
              "Nvidia Quadro M3000M         1\n",
              "Nvidia GeForce 960M          1\n",
              "ARM Mali T860 MP4            1\n",
              "Name: count, Length: 110, dtype: int64"
            ]
          },
          "execution_count": 70,
          "metadata": {},
          "output_type": "execute_result"
        }
      ],
      "source": [
        "df['Gpu'].value_counts()"
      ]
    },
    {
      "cell_type": "code",
      "execution_count": 71,
      "id": "75b44cba",
      "metadata": {
        "id": "75b44cba"
      },
      "outputs": [],
      "source": [
        "df['Gpu brand'] = df['Gpu'].apply(lambda x:x.split()[0])"
      ]
    },
    {
      "cell_type": "code",
      "execution_count": 72,
      "id": "4ca7c61a",
      "metadata": {
        "colab": {
          "base_uri": "https://localhost:8080/",
          "height": 451
        },
        "id": "4ca7c61a",
        "outputId": "fefc08a1-afde-4216-d1bf-a9b81d56955f"
      },
      "outputs": [
        {
          "data": {
            "text/html": [
              "<div>\n",
              "<style scoped>\n",
              "    .dataframe tbody tr th:only-of-type {\n",
              "        vertical-align: middle;\n",
              "    }\n",
              "\n",
              "    .dataframe tbody tr th {\n",
              "        vertical-align: top;\n",
              "    }\n",
              "\n",
              "    .dataframe thead th {\n",
              "        text-align: right;\n",
              "    }\n",
              "</style>\n",
              "<table border=\"1\" class=\"dataframe\">\n",
              "  <thead>\n",
              "    <tr style=\"text-align: right;\">\n",
              "      <th></th>\n",
              "      <th>Company</th>\n",
              "      <th>TypeName</th>\n",
              "      <th>Ram</th>\n",
              "      <th>Gpu</th>\n",
              "      <th>OpSys</th>\n",
              "      <th>Weight</th>\n",
              "      <th>Price</th>\n",
              "      <th>Touchscreen</th>\n",
              "      <th>Ips</th>\n",
              "      <th>ppi</th>\n",
              "      <th>Cpu brand</th>\n",
              "      <th>HDD</th>\n",
              "      <th>SSD</th>\n",
              "      <th>Gpu brand</th>\n",
              "    </tr>\n",
              "  </thead>\n",
              "  <tbody>\n",
              "    <tr>\n",
              "      <th>0</th>\n",
              "      <td>Apple</td>\n",
              "      <td>Ultrabook</td>\n",
              "      <td>8</td>\n",
              "      <td>Intel Iris Plus Graphics 640</td>\n",
              "      <td>macOS</td>\n",
              "      <td>1.37</td>\n",
              "      <td>71378.6832</td>\n",
              "      <td>0</td>\n",
              "      <td>1</td>\n",
              "      <td>226.983005</td>\n",
              "      <td>Intel Core i5</td>\n",
              "      <td>0</td>\n",
              "      <td>128</td>\n",
              "      <td>Intel</td>\n",
              "    </tr>\n",
              "    <tr>\n",
              "      <th>1</th>\n",
              "      <td>Apple</td>\n",
              "      <td>Ultrabook</td>\n",
              "      <td>8</td>\n",
              "      <td>Intel HD Graphics 6000</td>\n",
              "      <td>macOS</td>\n",
              "      <td>1.34</td>\n",
              "      <td>47895.5232</td>\n",
              "      <td>0</td>\n",
              "      <td>0</td>\n",
              "      <td>127.677940</td>\n",
              "      <td>Intel Core i5</td>\n",
              "      <td>0</td>\n",
              "      <td>0</td>\n",
              "      <td>Intel</td>\n",
              "    </tr>\n",
              "    <tr>\n",
              "      <th>2</th>\n",
              "      <td>HP</td>\n",
              "      <td>Notebook</td>\n",
              "      <td>8</td>\n",
              "      <td>Intel HD Graphics 620</td>\n",
              "      <td>No OS</td>\n",
              "      <td>1.86</td>\n",
              "      <td>30636.0000</td>\n",
              "      <td>0</td>\n",
              "      <td>0</td>\n",
              "      <td>141.211998</td>\n",
              "      <td>Intel Core i5</td>\n",
              "      <td>0</td>\n",
              "      <td>256</td>\n",
              "      <td>Intel</td>\n",
              "    </tr>\n",
              "    <tr>\n",
              "      <th>3</th>\n",
              "      <td>Apple</td>\n",
              "      <td>Ultrabook</td>\n",
              "      <td>16</td>\n",
              "      <td>AMD Radeon Pro 455</td>\n",
              "      <td>macOS</td>\n",
              "      <td>1.83</td>\n",
              "      <td>135195.3360</td>\n",
              "      <td>0</td>\n",
              "      <td>1</td>\n",
              "      <td>220.534624</td>\n",
              "      <td>Intel Core i7</td>\n",
              "      <td>0</td>\n",
              "      <td>512</td>\n",
              "      <td>AMD</td>\n",
              "    </tr>\n",
              "    <tr>\n",
              "      <th>4</th>\n",
              "      <td>Apple</td>\n",
              "      <td>Ultrabook</td>\n",
              "      <td>8</td>\n",
              "      <td>Intel Iris Plus Graphics 650</td>\n",
              "      <td>macOS</td>\n",
              "      <td>1.37</td>\n",
              "      <td>96095.8080</td>\n",
              "      <td>0</td>\n",
              "      <td>1</td>\n",
              "      <td>226.983005</td>\n",
              "      <td>Intel Core i5</td>\n",
              "      <td>0</td>\n",
              "      <td>256</td>\n",
              "      <td>Intel</td>\n",
              "    </tr>\n",
              "  </tbody>\n",
              "</table>\n",
              "</div>"
            ],
            "text/plain": [
              "  Company   TypeName  Ram                           Gpu  OpSys  Weight  \\\n",
              "0   Apple  Ultrabook    8  Intel Iris Plus Graphics 640  macOS    1.37   \n",
              "1   Apple  Ultrabook    8        Intel HD Graphics 6000  macOS    1.34   \n",
              "2      HP   Notebook    8         Intel HD Graphics 620  No OS    1.86   \n",
              "3   Apple  Ultrabook   16            AMD Radeon Pro 455  macOS    1.83   \n",
              "4   Apple  Ultrabook    8  Intel Iris Plus Graphics 650  macOS    1.37   \n",
              "\n",
              "         Price  Touchscreen  Ips         ppi      Cpu brand  HDD  SSD  \\\n",
              "0   71378.6832            0    1  226.983005  Intel Core i5    0  128   \n",
              "1   47895.5232            0    0  127.677940  Intel Core i5    0    0   \n",
              "2   30636.0000            0    0  141.211998  Intel Core i5    0  256   \n",
              "3  135195.3360            0    1  220.534624  Intel Core i7    0  512   \n",
              "4   96095.8080            0    1  226.983005  Intel Core i5    0  256   \n",
              "\n",
              "  Gpu brand  \n",
              "0     Intel  \n",
              "1     Intel  \n",
              "2     Intel  \n",
              "3       AMD  \n",
              "4     Intel  "
            ]
          },
          "execution_count": 72,
          "metadata": {},
          "output_type": "execute_result"
        }
      ],
      "source": [
        "df.head()"
      ]
    },
    {
      "cell_type": "code",
      "execution_count": 73,
      "id": "558506dd",
      "metadata": {
        "colab": {
          "base_uri": "https://localhost:8080/",
          "height": 241
        },
        "id": "558506dd",
        "outputId": "e61af990-ed58-472a-bf6d-beebef763fcc"
      },
      "outputs": [
        {
          "data": {
            "text/plain": [
              "Gpu brand\n",
              "Intel     722\n",
              "Nvidia    400\n",
              "AMD       180\n",
              "ARM         1\n",
              "Name: count, dtype: int64"
            ]
          },
          "execution_count": 73,
          "metadata": {},
          "output_type": "execute_result"
        }
      ],
      "source": [
        "df['Gpu brand'].value_counts()"
      ]
    },
    {
      "cell_type": "code",
      "execution_count": 74,
      "id": "39d984fd",
      "metadata": {
        "id": "39d984fd"
      },
      "outputs": [],
      "source": [
        "df = df[df['Gpu brand'] != 'ARM']"
      ]
    },
    {
      "cell_type": "code",
      "execution_count": 75,
      "id": "7bd66b54",
      "metadata": {
        "colab": {
          "base_uri": "https://localhost:8080/",
          "height": 209
        },
        "id": "7bd66b54",
        "outputId": "82e90277-a8be-4cef-b1c0-cc3b7cef7bc7"
      },
      "outputs": [
        {
          "data": {
            "text/plain": [
              "Gpu brand\n",
              "Intel     722\n",
              "Nvidia    400\n",
              "AMD       180\n",
              "Name: count, dtype: int64"
            ]
          },
          "execution_count": 75,
          "metadata": {},
          "output_type": "execute_result"
        }
      ],
      "source": [
        "df['Gpu brand'].value_counts()"
      ]
    },
    {
      "cell_type": "code",
      "execution_count": 76,
      "id": "a102cfaa",
      "metadata": {
        "colab": {
          "base_uri": "https://localhost:8080/",
          "height": 479
        },
        "id": "a102cfaa",
        "outputId": "8adc1501-d32f-4773-eae7-a0fe8c2b2a6e"
      },
      "outputs": [
        {
          "data": {
            "image/png": "[encoded data removed]",
            "text/plain": [
              "<Figure size 640x480 with 1 Axes>"
            ]
          },
          "metadata": {},
          "output_type": "display_data"
        }
      ],
      "source": [
        "sns.barplot(x=df['Gpu brand'],y=df['Price'],estimator=np.median)\n",
        "plt.xticks(rotation='vertical')\n",
        "plt.show()"
      ]
    },
    {
      "cell_type": "code",
      "execution_count": 77,
      "id": "233a8672",
      "metadata": {
        "id": "233a8672"
      },
      "outputs": [],
      "source": [
        "df.drop(columns=['Gpu'],inplace=True)"
      ]
    },
    {
      "cell_type": "code",
      "execution_count": 78,
      "id": "995b12b3",
      "metadata": {
        "colab": {
          "base_uri": "https://localhost:8080/",
          "height": 417
        },
        "id": "995b12b3",
        "outputId": "2134c037-6268-4392-f508-30457f06c9b0"
      },
      "outputs": [
        {
          "data": {
            "text/html": [
              "<div>\n",
              "<style scoped>\n",
              "    .dataframe tbody tr th:only-of-type {\n",
              "        vertical-align: middle;\n",
              "    }\n",
              "\n",
              "    .dataframe tbody tr th {\n",
              "        vertical-align: top;\n",
              "    }\n",
              "\n",
              "    .dataframe thead th {\n",
              "        text-align: right;\n",
              "    }\n",
              "</style>\n",
              "<table border=\"1\" class=\"dataframe\">\n",
              "  <thead>\n",
              "    <tr style=\"text-align: right;\">\n",
              "      <th></th>\n",
              "      <th>Company</th>\n",
              "      <th>TypeName</th>\n",
              "      <th>Ram</th>\n",
              "      <th>OpSys</th>\n",
              "      <th>Weight</th>\n",
              "      <th>Price</th>\n",
              "      <th>Touchscreen</th>\n",
              "      <th>Ips</th>\n",
              "      <th>ppi</th>\n",
              "      <th>Cpu brand</th>\n",
              "      <th>HDD</th>\n",
              "      <th>SSD</th>\n",
              "      <th>Gpu brand</th>\n",
              "    </tr>\n",
              "  </thead>\n",
              "  <tbody>\n",
              "    <tr>\n",
              "      <th>0</th>\n",
              "      <td>Apple</td>\n",
              "      <td>Ultrabook</td>\n",
              "      <td>8</td>\n",
              "      <td>macOS</td>\n",
              "      <td>1.37</td>\n",
              "      <td>71378.6832</td>\n",
              "      <td>0</td>\n",
              "      <td>1</td>\n",
              "      <td>226.983005</td>\n",
              "      <td>Intel Core i5</td>\n",
              "      <td>0</td>\n",
              "      <td>128</td>\n",
              "      <td>Intel</td>\n",
              "    </tr>\n",
              "    <tr>\n",
              "      <th>1</th>\n",
              "      <td>Apple</td>\n",
              "      <td>Ultrabook</td>\n",
              "      <td>8</td>\n",
              "      <td>macOS</td>\n",
              "      <td>1.34</td>\n",
              "      <td>47895.5232</td>\n",
              "      <td>0</td>\n",
              "      <td>0</td>\n",
              "      <td>127.677940</td>\n",
              "      <td>Intel Core i5</td>\n",
              "      <td>0</td>\n",
              "      <td>0</td>\n",
              "      <td>Intel</td>\n",
              "    </tr>\n",
              "    <tr>\n",
              "      <th>2</th>\n",
              "      <td>HP</td>\n",
              "      <td>Notebook</td>\n",
              "      <td>8</td>\n",
              "      <td>No OS</td>\n",
              "      <td>1.86</td>\n",
              "      <td>30636.0000</td>\n",
              "      <td>0</td>\n",
              "      <td>0</td>\n",
              "      <td>141.211998</td>\n",
              "      <td>Intel Core i5</td>\n",
              "      <td>0</td>\n",
              "      <td>256</td>\n",
              "      <td>Intel</td>\n",
              "    </tr>\n",
              "    <tr>\n",
              "      <th>3</th>\n",
              "      <td>Apple</td>\n",
              "      <td>Ultrabook</td>\n",
              "      <td>16</td>\n",
              "      <td>macOS</td>\n",
              "      <td>1.83</td>\n",
              "      <td>135195.3360</td>\n",
              "      <td>0</td>\n",
              "      <td>1</td>\n",
              "      <td>220.534624</td>\n",
              "      <td>Intel Core i7</td>\n",
              "      <td>0</td>\n",
              "      <td>512</td>\n",
              "      <td>AMD</td>\n",
              "    </tr>\n",
              "    <tr>\n",
              "      <th>4</th>\n",
              "      <td>Apple</td>\n",
              "      <td>Ultrabook</td>\n",
              "      <td>8</td>\n",
              "      <td>macOS</td>\n",
              "      <td>1.37</td>\n",
              "      <td>96095.8080</td>\n",
              "      <td>0</td>\n",
              "      <td>1</td>\n",
              "      <td>226.983005</td>\n",
              "      <td>Intel Core i5</td>\n",
              "      <td>0</td>\n",
              "      <td>256</td>\n",
              "      <td>Intel</td>\n",
              "    </tr>\n",
              "  </tbody>\n",
              "</table>\n",
              "</div>"
            ],
            "text/plain": [
              "  Company   TypeName  Ram  OpSys  Weight        Price  Touchscreen  Ips  \\\n",
              "0   Apple  Ultrabook    8  macOS    1.37   71378.6832            0    1   \n",
              "1   Apple  Ultrabook    8  macOS    1.34   47895.5232            0    0   \n",
              "2      HP   Notebook    8  No OS    1.86   30636.0000            0    0   \n",
              "3   Apple  Ultrabook   16  macOS    1.83  135195.3360            0    1   \n",
              "4   Apple  Ultrabook    8  macOS    1.37   96095.8080            0    1   \n",
              "\n",
              "          ppi      Cpu brand  HDD  SSD Gpu brand  \n",
              "0  226.983005  Intel Core i5    0  128     Intel  \n",
              "1  127.677940  Intel Core i5    0    0     Intel  \n",
              "2  141.211998  Intel Core i5    0  256     Intel  \n",
              "3  220.534624  Intel Core i7    0  512       AMD  \n",
              "4  226.983005  Intel Core i5    0  256     Intel  "
            ]
          },
          "execution_count": 78,
          "metadata": {},
          "output_type": "execute_result"
        }
      ],
      "source": [
        "df.head()"
      ]
    },
    {
      "cell_type": "code",
      "execution_count": 79,
      "id": "87ea542b",
      "metadata": {
        "colab": {
          "base_uri": "https://localhost:8080/",
          "height": 397
        },
        "id": "87ea542b",
        "outputId": "4cb8c8f4-5d1a-4772-f7d5-5db5fe4c64d2"
      },
      "outputs": [
        {
          "data": {
            "text/plain": [
              "OpSys\n",
              "Windows 10      1072\n",
              "No OS             66\n",
              "Linux             62\n",
              "Windows 7         45\n",
              "Chrome OS         26\n",
              "macOS             13\n",
              "Mac OS X           8\n",
              "Windows 10 S       8\n",
              "Android            2\n",
              "Name: count, dtype: int64"
            ]
          },
          "execution_count": 79,
          "metadata": {},
          "output_type": "execute_result"
        }
      ],
      "source": [
        "df['OpSys'].value_counts()"
      ]
    },
    {
      "cell_type": "code",
      "execution_count": 80,
      "id": "14cbb277",
      "metadata": {
        "colab": {
          "base_uri": "https://localhost:8080/",
          "height": 533
        },
        "id": "14cbb277",
        "outputId": "d6fa0549-07ca-4718-87a9-459914e03d9a"
      },
      "outputs": [
        {
          "data": {
            "image/png": "[encoded data removed]",
            "text/plain": [
              "<Figure size 640x480 with 1 Axes>"
            ]
          },
          "metadata": {},
          "output_type": "display_data"
        }
      ],
      "source": [
        "sns.barplot(x=df['OpSys'],y=df['Price'])\n",
        "plt.xticks(rotation='vertical')\n",
        "plt.show()"
      ]
    },
    {
      "cell_type": "code",
      "execution_count": 81,
      "id": "14d789f5",
      "metadata": {
        "id": "14d789f5"
      },
      "outputs": [],
      "source": [
        "def cat_os(inp):\n",
        "    if inp == 'Windows 10' or inp == 'Windows 7' or inp == 'Windows 10 S':\n",
        "        return 'Windows'\n",
        "    elif inp == 'macOS' or inp == 'Mac OS X':\n",
        "        return 'Mac'\n",
        "    else:\n",
        "        return 'Others/No OS/Linux'"
      ]
    },
    {
      "cell_type": "code",
      "execution_count": 82,
      "id": "fc8e7750",
      "metadata": {
        "id": "fc8e7750"
      },
      "outputs": [],
      "source": [
        "df['os'] = df['OpSys'].apply(cat_os)"
      ]
    },
    {
      "cell_type": "code",
      "execution_count": 83,
      "id": "11c5a038",
      "metadata": {
        "colab": {
          "base_uri": "https://localhost:8080/",
          "height": 417
        },
        "id": "11c5a038",
        "outputId": "41eafa46-2ed7-422d-ea68-fd4d39ae6873"
      },
      "outputs": [
        {
          "data": {
            "text/html": [
              "<div>\n",
              "<style scoped>\n",
              "    .dataframe tbody tr th:only-of-type {\n",
              "        vertical-align: middle;\n",
              "    }\n",
              "\n",
              "    .dataframe tbody tr th {\n",
              "        vertical-align: top;\n",
              "    }\n",
              "\n",
              "    .dataframe thead th {\n",
              "        text-align: right;\n",
              "    }\n",
              "</style>\n",
              "<table border=\"1\" class=\"dataframe\">\n",
              "  <thead>\n",
              "    <tr style=\"text-align: right;\">\n",
              "      <th></th>\n",
              "      <th>Company</th>\n",
              "      <th>TypeName</th>\n",
              "      <th>Ram</th>\n",
              "      <th>OpSys</th>\n",
              "      <th>Weight</th>\n",
              "      <th>Price</th>\n",
              "      <th>Touchscreen</th>\n",
              "      <th>Ips</th>\n",
              "      <th>ppi</th>\n",
              "      <th>Cpu brand</th>\n",
              "      <th>HDD</th>\n",
              "      <th>SSD</th>\n",
              "      <th>Gpu brand</th>\n",
              "      <th>os</th>\n",
              "    </tr>\n",
              "  </thead>\n",
              "  <tbody>\n",
              "    <tr>\n",
              "      <th>0</th>\n",
              "      <td>Apple</td>\n",
              "      <td>Ultrabook</td>\n",
              "      <td>8</td>\n",
              "      <td>macOS</td>\n",
              "      <td>1.37</td>\n",
              "      <td>71378.6832</td>\n",
              "      <td>0</td>\n",
              "      <td>1</td>\n",
              "      <td>226.983005</td>\n",
              "      <td>Intel Core i5</td>\n",
              "      <td>0</td>\n",
              "      <td>128</td>\n",
              "      <td>Intel</td>\n",
              "      <td>Mac</td>\n",
              "    </tr>\n",
              "    <tr>\n",
              "      <th>1</th>\n",
              "      <td>Apple</td>\n",
              "      <td>Ultrabook</td>\n",
              "      <td>8</td>\n",
              "      <td>macOS</td>\n",
              "      <td>1.34</td>\n",
              "      <td>47895.5232</td>\n",
              "      <td>0</td>\n",
              "      <td>0</td>\n",
              "      <td>127.677940</td>\n",
              "      <td>Intel Core i5</td>\n",
              "      <td>0</td>\n",
              "      <td>0</td>\n",
              "      <td>Intel</td>\n",
              "      <td>Mac</td>\n",
              "    </tr>\n",
              "    <tr>\n",
              "      <th>2</th>\n",
              "      <td>HP</td>\n",
              "      <td>Notebook</td>\n",
              "      <td>8</td>\n",
              "      <td>No OS</td>\n",
              "      <td>1.86</td>\n",
              "      <td>30636.0000</td>\n",
              "      <td>0</td>\n",
              "      <td>0</td>\n",
              "      <td>141.211998</td>\n",
              "      <td>Intel Core i5</td>\n",
              "      <td>0</td>\n",
              "      <td>256</td>\n",
              "      <td>Intel</td>\n",
              "      <td>Others/No OS/Linux</td>\n",
              "    </tr>\n",
              "    <tr>\n",
              "      <th>3</th>\n",
              "      <td>Apple</td>\n",
              "      <td>Ultrabook</td>\n",
              "      <td>16</td>\n",
              "      <td>macOS</td>\n",
              "      <td>1.83</td>\n",
              "      <td>135195.3360</td>\n",
              "      <td>0</td>\n",
              "      <td>1</td>\n",
              "      <td>220.534624</td>\n",
              "      <td>Intel Core i7</td>\n",
              "      <td>0</td>\n",
              "      <td>512</td>\n",
              "      <td>AMD</td>\n",
              "      <td>Mac</td>\n",
              "    </tr>\n",
              "    <tr>\n",
              "      <th>4</th>\n",
              "      <td>Apple</td>\n",
              "      <td>Ultrabook</td>\n",
              "      <td>8</td>\n",
              "      <td>macOS</td>\n",
              "      <td>1.37</td>\n",
              "      <td>96095.8080</td>\n",
              "      <td>0</td>\n",
              "      <td>1</td>\n",
              "      <td>226.983005</td>\n",
              "      <td>Intel Core i5</td>\n",
              "      <td>0</td>\n",
              "      <td>256</td>\n",
              "      <td>Intel</td>\n",
              "      <td>Mac</td>\n",
              "    </tr>\n",
              "  </tbody>\n",
              "</table>\n",
              "</div>"
            ],
            "text/plain": [
              "  Company   TypeName  Ram  OpSys  Weight        Price  Touchscreen  Ips  \\\n",
              "0   Apple  Ultrabook    8  macOS    1.37   71378.6832            0    1   \n",
              "1   Apple  Ultrabook    8  macOS    1.34   47895.5232            0    0   \n",
              "2      HP   Notebook    8  No OS    1.86   30636.0000            0    0   \n",
              "3   Apple  Ultrabook   16  macOS    1.83  135195.3360            0    1   \n",
              "4   Apple  Ultrabook    8  macOS    1.37   96095.8080            0    1   \n",
              "\n",
              "          ppi      Cpu brand  HDD  SSD Gpu brand                  os  \n",
              "0  226.983005  Intel Core i5    0  128     Intel                 Mac  \n",
              "1  127.677940  Intel Core i5    0    0     Intel                 Mac  \n",
              "2  141.211998  Intel Core i5    0  256     Intel  Others/No OS/Linux  \n",
              "3  220.534624  Intel Core i7    0  512       AMD                 Mac  \n",
              "4  226.983005  Intel Core i5    0  256     Intel                 Mac  "
            ]
          },
          "execution_count": 83,
          "metadata": {},
          "output_type": "execute_result"
        }
      ],
      "source": [
        "df.head()"
      ]
    },
    {
      "cell_type": "code",
      "execution_count": 84,
      "id": "a283996d",
      "metadata": {
        "id": "a283996d"
      },
      "outputs": [],
      "source": [
        "df.drop(columns=['OpSys'],inplace=True)"
      ]
    },
    {
      "cell_type": "code",
      "execution_count": 85,
      "id": "9b43fbf7",
      "metadata": {
        "colab": {
          "base_uri": "https://localhost:8080/",
          "height": 571
        },
        "id": "9b43fbf7",
        "outputId": "18819089-b682-4098-ecb1-ce805b58c021"
      },
      "outputs": [
        {
          "data": {
            "image/png": "[encoded data removed]",
            "text/plain": [
              "<Figure size 640x480 with 1 Axes>"
            ]
          },
          "metadata": {},
          "output_type": "display_data"
        }
      ],
      "source": [
        "sns.barplot(x=df['os'],y=df['Price'])\n",
        "plt.xticks(rotation='vertical')\n",
        "plt.show()"
      ]
    },
    {
      "cell_type": "code",
      "execution_count": 86,
      "id": "1d2865dd",
      "metadata": {
        "colab": {
          "base_uri": "https://localhost:8080/",
          "height": 657
        },
        "id": "1d2865dd",
        "outputId": "2bfd4df1-9d61-4a27-d4c8-0ce272012f88"
      },
      "outputs": [
        {
          "name": "stderr",
          "output_type": "stream",
          "text": [
            "C:\\Users\\kavita.jain\\AppData\\Local\\Temp\\ipykernel_14168\\1125578356.py:1: UserWarning: \n",
            "\n",
            "`distplot` is a deprecated function and will be removed in seaborn v0.14.0.\n",
            "\n",
            "Please adapt your code to use either `displot` (a figure-level function with\n",
            "similar flexibility) or `histplot` (an axes-level function for histograms).\n",
            "\n",
            "For a guide to updating your code to use the new functions, please see\n",
            "https://gist.github.com/mwaskom/de44147ed2974457ad6372750bbe5751\n",
            "\n",
            "  sns.distplot(df['Weight'])\n"
          ]
        },
        {
          "data": {
            "text/plain": [
              "<Axes: xlabel='Weight', ylabel='Density'>"
            ]
          },
          "execution_count": 86,
          "metadata": {},
          "output_type": "execute_result"
        },
        {
          "data": {
            "image/png": "[encoded data removed]",
            "text/plain": [
              "<Figure size 640x480 with 1 Axes>"
            ]
          },
          "metadata": {},
          "output_type": "display_data"
        }
      ],
      "source": [
        "sns.distplot(df['Weight'])"
      ]
    },
    {
      "cell_type": "code",
      "execution_count": 87,
      "id": "5cb512c6",
      "metadata": {
        "colab": {
          "base_uri": "https://localhost:8080/",
          "height": 466
        },
        "id": "5cb512c6",
        "outputId": "1716116f-8c2b-46d5-9973-7a8f44f0cfb6"
      },
      "outputs": [
        {
          "data": {
            "text/plain": [
              "<Axes: xlabel='Weight', ylabel='Price'>"
            ]
          },
          "execution_count": 87,
          "metadata": {},
          "output_type": "execute_result"
        },
        {
          "data": {
            "image/png": "[encoded data removed]",
            "text/plain": [
              "<Figure size 640x480 with 1 Axes>"
            ]
          },
          "metadata": {},
          "output_type": "display_data"
        }
      ],
      "source": [
        "sns.scatterplot(x=df['Weight'],y=df['Price'])"
      ]
    },
    {
      "cell_type": "code",
      "execution_count": 88,
      "id": "3aaf8bc8",
      "metadata": {
        "colab": {
          "base_uri": "https://localhost:8080/",
          "height": 657
        },
        "id": "3aaf8bc8",
        "outputId": "8b497601-4949-4f70-a50e-c95afc768a13"
      },
      "outputs": [
        {
          "data": {
            "text/plain": [
              "<Axes: xlabel='Price', ylabel='Count'>"
            ]
          },
          "execution_count": 88,
          "metadata": {},
          "output_type": "execute_result"
        },
        {
          "data": {
            "image/png": "[encoded data removed]",
            "text/plain": [
              "<Figure size 640x480 with 1 Axes>"
            ]
          },
          "metadata": {},
          "output_type": "display_data"
        }
      ],
      "source": [
        "sns.histplot(np.log(df['Price']))"
      ]
    },
    {
      "cell_type": "code",
      "execution_count": 89,
      "id": "8f1293c0",
      "metadata": {
        "id": "8f1293c0"
      },
      "outputs": [],
      "source": [
        "X = df.drop(columns=['Price'])\n",
        "y = np.log(df['Price'])"
      ]
    },
    {
      "cell_type": "code",
      "execution_count": 90,
      "id": "8f7fb4b3",
      "metadata": {
        "colab": {
          "base_uri": "https://localhost:8080/",
          "height": 649
        },
        "id": "8f7fb4b3",
        "outputId": "954c3536-224e-43fe-c27a-4074f659c103"
      },
      "outputs": [
        {
          "data": {
            "text/html": [
              "<div>\n",
              "<style scoped>\n",
              "    .dataframe tbody tr th:only-of-type {\n",
              "        vertical-align: middle;\n",
              "    }\n",
              "\n",
              "    .dataframe tbody tr th {\n",
              "        vertical-align: top;\n",
              "    }\n",
              "\n",
              "    .dataframe thead th {\n",
              "        text-align: right;\n",
              "    }\n",
              "</style>\n",
              "<table border=\"1\" class=\"dataframe\">\n",
              "  <thead>\n",
              "    <tr style=\"text-align: right;\">\n",
              "      <th></th>\n",
              "      <th>Company</th>\n",
              "      <th>TypeName</th>\n",
              "      <th>Ram</th>\n",
              "      <th>Weight</th>\n",
              "      <th>Touchscreen</th>\n",
              "      <th>Ips</th>\n",
              "      <th>ppi</th>\n",
              "      <th>Cpu brand</th>\n",
              "      <th>HDD</th>\n",
              "      <th>SSD</th>\n",
              "      <th>Gpu brand</th>\n",
              "      <th>os</th>\n",
              "    </tr>\n",
              "  </thead>\n",
              "  <tbody>\n",
              "    <tr>\n",
              "      <th>0</th>\n",
              "      <td>Apple</td>\n",
              "      <td>Ultrabook</td>\n",
              "      <td>8</td>\n",
              "      <td>1.37</td>\n",
              "      <td>0</td>\n",
              "      <td>1</td>\n",
              "      <td>226.983005</td>\n",
              "      <td>Intel Core i5</td>\n",
              "      <td>0</td>\n",
              "      <td>128</td>\n",
              "      <td>Intel</td>\n",
              "      <td>Mac</td>\n",
              "    </tr>\n",
              "    <tr>\n",
              "      <th>1</th>\n",
              "      <td>Apple</td>\n",
              "      <td>Ultrabook</td>\n",
              "      <td>8</td>\n",
              "      <td>1.34</td>\n",
              "      <td>0</td>\n",
              "      <td>0</td>\n",
              "      <td>127.677940</td>\n",
              "      <td>Intel Core i5</td>\n",
              "      <td>0</td>\n",
              "      <td>0</td>\n",
              "      <td>Intel</td>\n",
              "      <td>Mac</td>\n",
              "    </tr>\n",
              "    <tr>\n",
              "      <th>2</th>\n",
              "      <td>HP</td>\n",
              "      <td>Notebook</td>\n",
              "      <td>8</td>\n",
              "      <td>1.86</td>\n",
              "      <td>0</td>\n",
              "      <td>0</td>\n",
              "      <td>141.211998</td>\n",
              "      <td>Intel Core i5</td>\n",
              "      <td>0</td>\n",
              "      <td>256</td>\n",
              "      <td>Intel</td>\n",
              "      <td>Others/No OS/Linux</td>\n",
              "    </tr>\n",
              "    <tr>\n",
              "      <th>3</th>\n",
              "      <td>Apple</td>\n",
              "      <td>Ultrabook</td>\n",
              "      <td>16</td>\n",
              "      <td>1.83</td>\n",
              "      <td>0</td>\n",
              "      <td>1</td>\n",
              "      <td>220.534624</td>\n",
              "      <td>Intel Core i7</td>\n",
              "      <td>0</td>\n",
              "      <td>512</td>\n",
              "      <td>AMD</td>\n",
              "      <td>Mac</td>\n",
              "    </tr>\n",
              "    <tr>\n",
              "      <th>4</th>\n",
              "      <td>Apple</td>\n",
              "      <td>Ultrabook</td>\n",
              "      <td>8</td>\n",
              "      <td>1.37</td>\n",
              "      <td>0</td>\n",
              "      <td>1</td>\n",
              "      <td>226.983005</td>\n",
              "      <td>Intel Core i5</td>\n",
              "      <td>0</td>\n",
              "      <td>256</td>\n",
              "      <td>Intel</td>\n",
              "      <td>Mac</td>\n",
              "    </tr>\n",
              "    <tr>\n",
              "      <th>...</th>\n",
              "      <td>...</td>\n",
              "      <td>...</td>\n",
              "      <td>...</td>\n",
              "      <td>...</td>\n",
              "      <td>...</td>\n",
              "      <td>...</td>\n",
              "      <td>...</td>\n",
              "      <td>...</td>\n",
              "      <td>...</td>\n",
              "      <td>...</td>\n",
              "      <td>...</td>\n",
              "      <td>...</td>\n",
              "    </tr>\n",
              "    <tr>\n",
              "      <th>1298</th>\n",
              "      <td>Lenovo</td>\n",
              "      <td>2 in 1 Convertible</td>\n",
              "      <td>4</td>\n",
              "      <td>1.80</td>\n",
              "      <td>1</td>\n",
              "      <td>1</td>\n",
              "      <td>157.350512</td>\n",
              "      <td>Intel Core i7</td>\n",
              "      <td>0</td>\n",
              "      <td>128</td>\n",
              "      <td>Intel</td>\n",
              "      <td>Windows</td>\n",
              "    </tr>\n",
              "    <tr>\n",
              "      <th>1299</th>\n",
              "      <td>Lenovo</td>\n",
              "      <td>2 in 1 Convertible</td>\n",
              "      <td>16</td>\n",
              "      <td>1.30</td>\n",
              "      <td>1</td>\n",
              "      <td>1</td>\n",
              "      <td>276.053530</td>\n",
              "      <td>Intel Core i7</td>\n",
              "      <td>0</td>\n",
              "      <td>512</td>\n",
              "      <td>Intel</td>\n",
              "      <td>Windows</td>\n",
              "    </tr>\n",
              "    <tr>\n",
              "      <th>1300</th>\n",
              "      <td>Lenovo</td>\n",
              "      <td>Notebook</td>\n",
              "      <td>2</td>\n",
              "      <td>1.50</td>\n",
              "      <td>0</td>\n",
              "      <td>0</td>\n",
              "      <td>111.935204</td>\n",
              "      <td>Other Intel Processor</td>\n",
              "      <td>0</td>\n",
              "      <td>0</td>\n",
              "      <td>Intel</td>\n",
              "      <td>Windows</td>\n",
              "    </tr>\n",
              "    <tr>\n",
              "      <th>1301</th>\n",
              "      <td>HP</td>\n",
              "      <td>Notebook</td>\n",
              "      <td>6</td>\n",
              "      <td>2.19</td>\n",
              "      <td>0</td>\n",
              "      <td>0</td>\n",
              "      <td>100.454670</td>\n",
              "      <td>Intel Core i7</td>\n",
              "      <td>1000</td>\n",
              "      <td>0</td>\n",
              "      <td>AMD</td>\n",
              "      <td>Windows</td>\n",
              "    </tr>\n",
              "    <tr>\n",
              "      <th>1302</th>\n",
              "      <td>Asus</td>\n",
              "      <td>Notebook</td>\n",
              "      <td>4</td>\n",
              "      <td>2.20</td>\n",
              "      <td>0</td>\n",
              "      <td>0</td>\n",
              "      <td>100.454670</td>\n",
              "      <td>Other Intel Processor</td>\n",
              "      <td>500</td>\n",
              "      <td>0</td>\n",
              "      <td>Intel</td>\n",
              "      <td>Windows</td>\n",
              "    </tr>\n",
              "  </tbody>\n",
              "</table>\n",
              "<p>1302 rows × 12 columns</p>\n",
              "</div>"
            ],
            "text/plain": [
              "     Company            TypeName  Ram  Weight  Touchscreen  Ips         ppi  \\\n",
              "0      Apple           Ultrabook    8    1.37            0    1  226.983005   \n",
              "1      Apple           Ultrabook    8    1.34            0    0  127.677940   \n",
              "2         HP            Notebook    8    1.86            0    0  141.211998   \n",
              "3      Apple           Ultrabook   16    1.83            0    1  220.534624   \n",
              "4      Apple           Ultrabook    8    1.37            0    1  226.983005   \n",
              "...      ...                 ...  ...     ...          ...  ...         ...   \n",
              "1298  Lenovo  2 in 1 Convertible    4    1.80            1    1  157.350512   \n",
              "1299  Lenovo  2 in 1 Convertible   16    1.30            1    1  276.053530   \n",
              "1300  Lenovo            Notebook    2    1.50            0    0  111.935204   \n",
              "1301      HP            Notebook    6    2.19            0    0  100.454670   \n",
              "1302    Asus            Notebook    4    2.20            0    0  100.454670   \n",
              "\n",
              "                  Cpu brand   HDD  SSD Gpu brand                  os  \n",
              "0             Intel Core i5     0  128     Intel                 Mac  \n",
              "1             Intel Core i5     0    0     Intel                 Mac  \n",
              "2             Intel Core i5     0  256     Intel  Others/No OS/Linux  \n",
              "3             Intel Core i7     0  512       AMD                 Mac  \n",
              "4             Intel Core i5     0  256     Intel                 Mac  \n",
              "...                     ...   ...  ...       ...                 ...  \n",
              "1298          Intel Core i7     0  128     Intel             Windows  \n",
              "1299          Intel Core i7     0  512     Intel             Windows  \n",
              "1300  Other Intel Processor     0    0     Intel             Windows  \n",
              "1301          Intel Core i7  1000    0       AMD             Windows  \n",
              "1302  Other Intel Processor   500    0     Intel             Windows  \n",
              "\n",
              "[1302 rows x 12 columns]"
            ]
          },
          "execution_count": 90,
          "metadata": {},
          "output_type": "execute_result"
        }
      ],
      "source": [
        "X"
      ]
    },
    {
      "cell_type": "code",
      "execution_count": 91,
      "id": "9f66cd48",
      "metadata": {
        "colab": {
          "base_uri": "https://localhost:8080/",
          "height": 458
        },
        "id": "9f66cd48",
        "outputId": "62a105b6-2088-433e-c234-2a37ea918920"
      },
      "outputs": [
        {
          "data": {
            "text/plain": [
              "0       11.175755\n",
              "1       10.776777\n",
              "2       10.329931\n",
              "3       11.814476\n",
              "4       11.473101\n",
              "          ...    \n",
              "1298    10.433899\n",
              "1299    11.288115\n",
              "1300     9.409283\n",
              "1301    10.614129\n",
              "1302     9.886358\n",
              "Name: Price, Length: 1302, dtype: float64"
            ]
          },
          "execution_count": 91,
          "metadata": {},
          "output_type": "execute_result"
        }
      ],
      "source": [
        "y"
      ]
    },
    {
      "cell_type": "code",
      "execution_count": 96,
      "id": "6454f7c2",
      "metadata": {},
      "outputs": [
        {
          "name": "stdout",
          "output_type": "stream",
          "text": [
            "Defaulting to user installation because normal site-packages is not writeable\n",
            "Collecting scikit-learn==1.3.2\n",
            "  Using cached scikit-learn-1.3.2.tar.gz (7.5 MB)\n",
            "  Installing build dependencies: started\n",
            "  Installing build dependencies: finished with status 'done'\n",
            "  Getting requirements to build wheel: started\n",
            "  Getting requirements to build wheel: finished with status 'done'\n",
            "  Preparing metadata (pyproject.toml): started\n",
            "  Preparing metadata (pyproject.toml): still running...\n",
            "  Preparing metadata (pyproject.toml): still running...\n",
            "  Preparing metadata (pyproject.toml): finished with status 'error'\n"
          ]
        },
        {
          "name": "stderr",
          "output_type": "stream",
          "text": [
            "  error: subprocess-exited-with-error\n",
            "  \n",
            "  × Preparing metadata (pyproject.toml) did not run successfully.\n",
            "  │ exit code: 1\n",
            "  ╰─> [649 lines of output]\n",
            "      Partial import of sklearn during the build process.\n",
            "      test_program.c\n",
            "      Generating code\n",
            "      Finished generating code\n",
            "      test_program.c\n",
            "      LINK : warning LNK4044: unrecognized option '/openmp'; ignored\n",
            "      Generating code\n",
            "      Finished generating code\n",
            "      Compiling sklearn\\__check_build\\_check_build.pyx because it changed.\n",
            "      Compiling sklearn\\_isotonic.pyx because it changed.\n",
            "      Compiling sklearn\\_loss\\_loss.pyx because it changed.\n",
            "      Compiling sklearn\\cluster\\_dbscan_inner.pyx because it changed.\n",
            "      Compiling sklearn\\cluster\\_hierarchical_fast.pyx because it changed.\n",
            "      Compiling sklearn\\cluster\\_k_means_common.pyx because it changed.\n",
            "      Compiling sklearn\\cluster\\_k_means_lloyd.pyx because it changed.\n",
            "      Compiling sklearn\\cluster\\_k_means_elkan.pyx because it changed.\n",
            "      Compiling sklearn\\cluster\\_k_means_minibatch.pyx because it changed.\n",
            "      Compiling sklearn\\cluster\\_hdbscan\\_linkage.pyx because it changed.\n",
            "      Compiling sklearn\\cluster\\_hdbscan\\_reachability.pyx because it changed.\n",
            "      Compiling sklearn\\cluster\\_hdbscan\\_tree.pyx because it changed.\n",
            "      Compiling sklearn\\datasets\\_svmlight_format_fast.pyx because it changed.\n",
            "      Compiling sklearn\\decomposition\\_online_lda_fast.pyx because it changed.\n",
            "      Compiling sklearn\\decomposition\\_cdnmf_fast.pyx because it changed.\n",
            "      Compiling sklearn\\ensemble\\_gradient_boosting.pyx because it changed.\n",
            "      Compiling sklearn\\ensemble\\_hist_gradient_boosting\\_gradient_boosting.pyx because it changed.\n",
            "      Compiling sklearn\\ensemble\\_hist_gradient_boosting\\histogram.pyx because it changed.\n",
            "      Compiling sklearn\\ensemble\\_hist_gradient_boosting\\splitting.pyx because it changed.\n",
            "      Compiling sklearn\\ensemble\\_hist_gradient_boosting\\_binning.pyx because it changed.\n",
            "      Compiling sklearn\\ensemble\\_hist_gradient_boosting\\_predictor.pyx because it changed.\n",
            "      Compiling sklearn\\ensemble\\_hist_gradient_boosting\\_bitset.pyx because it changed.\n",
            "      Compiling sklearn\\ensemble\\_hist_gradient_boosting\\common.pyx because it changed.\n",
            "      Compiling sklearn\\ensemble\\_hist_gradient_boosting\\utils.pyx because it changed.\n",
            "      Compiling sklearn\\feature_extraction\\_hashing_fast.pyx because it changed.\n",
            "      Compiling sklearn\\linear_model\\_cd_fast.pyx because it changed.\n",
            "      Compiling sklearn\\linear_model\\_sgd_fast.pyx because it changed.\n",
            "      Compiling sklearn\\linear_model\\_sag_fast.pyx because it changed.\n",
            "      Compiling sklearn\\manifold\\_utils.pyx because it changed.\n",
            "      Compiling sklearn\\manifold\\_barnes_hut_tsne.pyx because it changed.\n",
            "      Compiling sklearn\\metrics\\_pairwise_fast.pyx because it changed.\n",
            "      Compiling sklearn\\metrics\\_dist_metrics.pyx because it changed.\n",
            "      Compiling sklearn\\metrics\\cluster\\_expected_mutual_info_fast.pyx because it changed.\n",
            "      Compiling sklearn\\metrics\\_pairwise_distances_reduction\\_datasets_pair.pyx because it changed.\n",
            "      Compiling sklearn\\metrics\\_pairwise_distances_reduction\\_middle_term_computer.pyx because it changed.\n",
            "      Compiling sklearn\\metrics\\_pairwise_distances_reduction\\_base.pyx because it changed.\n",
            "      Compiling sklearn\\metrics\\_pairwise_distances_reduction\\_argkmin.pyx because it changed.\n",
            "      Compiling sklearn\\metrics\\_pairwise_distances_reduction\\_argkmin_classmode.pyx because it changed.\n",
            "      Compiling sklearn\\metrics\\_pairwise_distances_reduction\\_radius_neighbors.pyx because it changed.\n",
            "      Compiling sklearn\\preprocessing\\_csr_polynomial_expansion.pyx because it changed.\n",
            "      Compiling sklearn\\preprocessing\\_target_encoder_fast.pyx because it changed.\n",
            "      Compiling sklearn\\neighbors\\_ball_tree.pyx because it changed.\n",
            "      Compiling sklearn\\neighbors\\_kd_tree.pyx because it changed.\n",
            "      Compiling sklearn\\neighbors\\_partition_nodes.pyx because it changed.\n",
            "      Compiling sklearn\\neighbors\\_quad_tree.pyx because it changed.\n",
            "      Compiling sklearn\\svm\\_newrand.pyx because it changed.\n",
            "      Compiling sklearn\\svm\\_libsvm.pyx because it changed.\n",
            "      Compiling sklearn\\svm\\_liblinear.pyx because it changed.\n",
            "      Compiling sklearn\\svm\\_libsvm_sparse.pyx because it changed.\n",
            "      Compiling sklearn\\tree\\_tree.pyx because it changed.\n",
            "      Compiling sklearn\\tree\\_splitter.pyx because it changed.\n",
            "      Compiling sklearn\\tree\\_criterion.pyx because it changed.\n",
            "      Compiling sklearn\\tree\\_utils.pyx because it changed.\n",
            "      Compiling sklearn\\utils\\sparsefuncs_fast.pyx because it changed.\n",
            "      Compiling sklearn\\utils\\_cython_blas.pyx because it changed.\n",
            "      Compiling sklearn\\utils\\arrayfuncs.pyx because it changed.\n",
            "      Compiling sklearn\\utils\\murmurhash.pyx because it changed.\n",
            "      Compiling sklearn\\utils\\_fast_dict.pyx because it changed.\n",
            "      Compiling sklearn\\utils\\_openmp_helpers.pyx because it changed.\n",
            "      Compiling sklearn\\utils\\_seq_dataset.pyx because it changed.\n",
            "      Compiling sklearn\\utils\\_weight_vector.pyx because it changed.\n",
            "      Compiling sklearn\\utils\\_random.pyx because it changed.\n",
            "      Compiling sklearn\\utils\\_logistic_sigmoid.pyx because it changed.\n",
            "      Compiling sklearn\\utils\\_typedefs.pyx because it changed.\n",
            "      Compiling sklearn\\utils\\_heap.pyx because it changed.\n",
            "      Compiling sklearn\\utils\\_sorting.pyx because it changed.\n",
            "      Compiling sklearn\\utils\\_vector_sentinel.pyx because it changed.\n",
            "      Compiling sklearn\\utils\\_isfinite.pyx because it changed.\n",
            "      [ 1/68] Cythonizing sklearn\\__check_build\\_check_build.pyx\n",
            "      [ 2/68] Cythonizing sklearn\\_isotonic.pyx\n",
            "      [ 3/68] Cythonizing sklearn\\_loss\\_loss.pyx\n",
            "      [ 4/68] Cythonizing sklearn\\cluster\\_dbscan_inner.pyx\n",
            "      [ 5/68] Cythonizing sklearn\\cluster\\_hdbscan\\_linkage.pyx\n",
            "      [ 6/68] Cythonizing sklearn\\cluster\\_hdbscan\\_reachability.pyx\n",
            "      [ 7/68] Cythonizing sklearn\\cluster\\_hdbscan\\_tree.pyx\n",
            "      [ 8/68] Cythonizing sklearn\\cluster\\_hierarchical_fast.pyx\n",
            "      [ 9/68] Cythonizing sklearn\\cluster\\_k_means_common.pyx\n",
            "      [10/68] Cythonizing sklearn\\cluster\\_k_means_elkan.pyx\n",
            "      [11/68] Cythonizing sklearn\\cluster\\_k_means_lloyd.pyx\n",
            "      [12/68] Cythonizing sklearn\\cluster\\_k_means_minibatch.pyx\n",
            "      [13/68] Cythonizing sklearn\\datasets\\_svmlight_format_fast.pyx\n",
            "      [14/68] Cythonizing sklearn\\decomposition\\_cdnmf_fast.pyx\n",
            "      [15/68] Cythonizing sklearn\\decomposition\\_online_lda_fast.pyx\n",
            "      [16/68] Cythonizing sklearn\\ensemble\\_gradient_boosting.pyx\n",
            "      [17/68] Cythonizing sklearn\\ensemble\\_hist_gradient_boosting\\_binning.pyx\n",
            "      [18/68] Cythonizing sklearn\\ensemble\\_hist_gradient_boosting\\_bitset.pyx\n",
            "      [19/68] Cythonizing sklearn\\ensemble\\_hist_gradient_boosting\\_gradient_boosting.pyx\n",
            "      [20/68] Cythonizing sklearn\\ensemble\\_hist_gradient_boosting\\_predictor.pyx\n",
            "      [21/68] Cythonizing sklearn\\ensemble\\_hist_gradient_boosting\\common.pyx\n",
            "      [22/68] Cythonizing sklearn\\ensemble\\_hist_gradient_boosting\\histogram.pyx\n",
            "      [23/68] Cythonizing sklearn\\ensemble\\_hist_gradient_boosting\\splitting.pyx\n",
            "      [24/68] Cythonizing sklearn\\ensemble\\_hist_gradient_boosting\\utils.pyx\n",
            "      [25/68] Cythonizing sklearn\\feature_extraction\\_hashing_fast.pyx\n",
            "      [26/68] Cythonizing sklearn\\linear_model\\_cd_fast.pyx\n",
            "      \n",
            "      Error compiling Cython file:\n",
            "      ------------------------------------------------------------\n",
            "      ...\n",
            "          # particularly tiny on Windows/MSVC.\n",
            "          # It corresponds to the maximum representable value for\n",
            "          # 32-bit signed integers (i.e. 2^31 - 1).\n",
            "          RAND_R_MAX = 2147483647\n",
            "      \n",
            "      cpdef sample_without_replacement(cnp.int_t n_population,\n",
            "                                      ^\n",
            "      ------------------------------------------------------------\n",
            "      \n",
            "      sklearn\\utils\\_random.pxd:19:33: 'int_t' is not a type identifier\n",
            "      \n",
            "      Error compiling Cython file:\n",
            "      ------------------------------------------------------------\n",
            "      ...\n",
            "          # It corresponds to the maximum representable value for\n",
            "          # 32-bit signed integers (i.e. 2^31 - 1).\n",
            "          RAND_R_MAX = 2147483647\n",
            "      \n",
            "      cpdef sample_without_replacement(cnp.int_t n_population,\n",
            "                                       cnp.int_t n_samples,\n",
            "                                      ^\n",
            "      ------------------------------------------------------------\n",
            "      \n",
            "      sklearn\\utils\\_random.pxd:20:33: 'int_t' is not a type identifier\n",
            "      Traceback (most recent call last):\n",
            "        File \"C:\\Users\\kavita.jain\\AppData\\Local\\Temp\\pip-build-env-p9muoaf8\\overlay\\Lib\\site-packages\\Cython\\Build\\Dependencies.py\", line 1262, in cythonize_one_helper\n",
            "          return cythonize_one(*m)\n",
            "        File \"C:\\Users\\kavita.jain\\AppData\\Local\\Temp\\pip-build-env-p9muoaf8\\overlay\\Lib\\site-packages\\Cython\\Build\\Dependencies.py\", line 1238, in cythonize_one\n",
            "          raise CompileError(None, pyx_file)\n",
            "      Cython.Compiler.Errors.CompileError: sklearn\\linear_model\\_cd_fast.pyx\n",
            "      [27/68] Cythonizing sklearn\\linear_model\\_sag_fast.pyx\n",
            "      [28/68] Cythonizing sklearn\\linear_model\\_sgd_fast.pyx\n",
            "      [29/68] Cythonizing sklearn\\manifold\\_barnes_hut_tsne.pyx\n",
            "      [30/68] Cythonizing sklearn\\manifold\\_utils.pyx\n",
            "      [31/68] Cythonizing sklearn\\metrics\\_dist_metrics.pyx\n",
            "      [32/68] Cythonizing sklearn\\metrics\\_pairwise_distances_reduction\\_argkmin.pyx\n",
            "      [33/68] Cythonizing sklearn\\metrics\\_pairwise_distances_reduction\\_argkmin_classmode.pyx\n",
            "      [34/68] Cythonizing sklearn\\metrics\\_pairwise_distances_reduction\\_base.pyx\n",
            "      [35/68] Cythonizing sklearn\\metrics\\_pairwise_distances_reduction\\_datasets_pair.pyx\n",
            "      [36/68] Cythonizing sklearn\\metrics\\_pairwise_distances_reduction\\_middle_term_computer.pyx\n",
            "      [37/68] Cythonizing sklearn\\metrics\\_pairwise_distances_reduction\\_radius_neighbors.pyx\n",
            "      [38/68] Cythonizing sklearn\\metrics\\_pairwise_fast.pyx\n",
            "      [39/68] Cythonizing sklearn\\metrics\\cluster\\_expected_mutual_info_fast.pyx\n",
            "      [40/68] Cythonizing sklearn\\neighbors\\_ball_tree.pyx\n",
            "      [41/68] Cythonizing sklearn\\neighbors\\_kd_tree.pyx\n",
            "      [42/68] Cythonizing sklearn\\neighbors\\_partition_nodes.pyx\n",
            "      [43/68] Cythonizing sklearn\\neighbors\\_quad_tree.pyx\n",
            "      [44/68] Cythonizing sklearn\\preprocessing\\_csr_polynomial_expansion.pyx\n",
            "      [45/68] Cythonizing sklearn\\preprocessing\\_target_encoder_fast.pyx\n",
            "      [46/68] Cythonizing sklearn\\svm\\_liblinear.pyx\n",
            "      [47/68] Cythonizing sklearn\\svm\\_libsvm.pyx\n",
            "      [48/68] Cythonizing sklearn\\svm\\_libsvm_sparse.pyx\n",
            "      [49/68] Cythonizing sklearn\\svm\\_newrand.pyx\n",
            "      [50/68] Cythonizing sklearn\\tree\\_criterion.pyx\n",
            "      [51/68] Cythonizing sklearn\\tree\\_splitter.pyx\n",
            "      [52/68] Cythonizing sklearn\\tree\\_tree.pyx\n",
            "      [53/68] Cythonizing sklearn\\tree\\_utils.pyx\n",
            "      \n",
            "      Error compiling Cython file:\n",
            "      ------------------------------------------------------------\n",
            "      ...\n",
            "          # particularly tiny on Windows/MSVC.\n",
            "          # It corresponds to the maximum representable value for\n",
            "          # 32-bit signed integers (i.e. 2^31 - 1).\n",
            "          RAND_R_MAX = 2147483647\n",
            "      \n",
            "      cpdef sample_without_replacement(cnp.int_t n_population,\n",
            "                                      ^\n",
            "      ------------------------------------------------------------\n",
            "      \n",
            "      sklearn\\utils\\_random.pxd:19:33: 'int_t' is not a type identifier\n",
            "      \n",
            "      Error compiling Cython file:\n",
            "      ------------------------------------------------------------\n",
            "      ...\n",
            "          # It corresponds to the maximum representable value for\n",
            "          # 32-bit signed integers (i.e. 2^31 - 1).\n",
            "          RAND_R_MAX = 2147483647\n",
            "      \n",
            "      cpdef sample_without_replacement(cnp.int_t n_population,\n",
            "                                       cnp.int_t n_samples,\n",
            "                                      ^\n",
            "      ------------------------------------------------------------\n",
            "      \n",
            "      sklearn\\utils\\_random.pxd:20:33: 'int_t' is not a type identifier\n",
            "      Traceback (most recent call last):\n",
            "        File \"C:\\Users\\kavita.jain\\AppData\\Local\\Temp\\pip-build-env-p9muoaf8\\overlay\\Lib\\site-packages\\Cython\\Build\\Dependencies.py\", line 1262, in cythonize_one_helper\n",
            "          return cythonize_one(*m)\n",
            "        File \"C:\\Users\\kavita.jain\\AppData\\Local\\Temp\\pip-build-env-p9muoaf8\\overlay\\Lib\\site-packages\\Cython\\Build\\Dependencies.py\", line 1238, in cythonize_one\n",
            "          raise CompileError(None, pyx_file)\n",
            "      Cython.Compiler.Errors.CompileError: sklearn\\tree\\_utils.pyx\n",
            "      [54/68] Cythonizing sklearn\\utils\\_cython_blas.pyx\n",
            "      [55/68] Cythonizing sklearn\\utils\\_fast_dict.pyx\n",
            "      [56/68] Cythonizing sklearn\\utils\\_heap.pyx\n",
            "      [57/68] Cythonizing sklearn\\utils\\_isfinite.pyx\n",
            "      [58/68] Cythonizing sklearn\\utils\\_logistic_sigmoid.pyx\n",
            "      [59/68] Cythonizing sklearn\\utils\\_openmp_helpers.pyx\n",
            "      [60/68] Cythonizing sklearn\\utils\\_random.pyx\n",
            "      \n",
            "      Error compiling Cython file:\n",
            "      ------------------------------------------------------------\n",
            "      ...\n",
            "          # particularly tiny on Windows/MSVC.\n",
            "          # It corresponds to the maximum representable value for\n",
            "          # 32-bit signed integers (i.e. 2^31 - 1).\n",
            "          RAND_R_MAX = 2147483647\n",
            "      \n",
            "      cpdef sample_without_replacement(cnp.int_t n_population,\n",
            "                                      ^\n",
            "      ------------------------------------------------------------\n",
            "      \n",
            "      sklearn\\utils\\_random.pxd:19:33: 'int_t' is not a type identifier\n",
            "      \n",
            "      Error compiling Cython file:\n",
            "      ------------------------------------------------------------\n",
            "      ...\n",
            "          # It corresponds to the maximum representable value for\n",
            "          # 32-bit signed integers (i.e. 2^31 - 1).\n",
            "          RAND_R_MAX = 2147483647\n",
            "      \n",
            "      cpdef sample_without_replacement(cnp.int_t n_population,\n",
            "                                       cnp.int_t n_samples,\n",
            "                                      ^\n",
            "      ------------------------------------------------------------\n",
            "      \n",
            "      sklearn\\utils\\_random.pxd:20:33: 'int_t' is not a type identifier\n",
            "      \n",
            "      Error compiling Cython file:\n",
            "      ------------------------------------------------------------\n",
            "      ...\n",
            "      from . import check_random_state\n",
            "      \n",
            "      cdef UINT32_t DEFAULT_SEED = 1\n",
            "      \n",
            "      \n",
            "      cpdef _sample_without_replacement_check_input(cnp.int_t n_population,\n",
            "                                                   ^\n",
            "      ------------------------------------------------------------\n",
            "      \n",
            "      sklearn\\utils\\_random.pyx:22:46: 'int_t' is not a type identifier\n",
            "      \n",
            "      Error compiling Cython file:\n",
            "      ------------------------------------------------------------\n",
            "      ...\n",
            "      \n",
            "      cdef UINT32_t DEFAULT_SEED = 1\n",
            "      \n",
            "      \n",
            "      cpdef _sample_without_replacement_check_input(cnp.int_t n_population,\n",
            "                                                    cnp.int_t n_samples):\n",
            "                                                   ^\n",
            "      ------------------------------------------------------------\n",
            "      \n",
            "      sklearn\\utils\\_random.pyx:23:46: 'int_t' is not a type identifier\n",
            "      \n",
            "      Error compiling Cython file:\n",
            "      ------------------------------------------------------------\n",
            "      ...\n",
            "                               'n_samples, got n_samples > n_population (%s > %s)'\n",
            "                               % (n_samples, n_population))\n",
            "      \n",
            "      \n",
            "      cpdef _sample_without_replacement_with_tracking_selection(\n",
            "              cnp.int_t n_population,\n",
            "             ^\n",
            "      ------------------------------------------------------------\n",
            "      \n",
            "      sklearn\\utils\\_random.pyx:36:8: 'int_t' is not a type identifier\n",
            "      \n",
            "      Error compiling Cython file:\n",
            "      ------------------------------------------------------------\n",
            "      ...\n",
            "                               % (n_samples, n_population))\n",
            "      \n",
            "      \n",
            "      cpdef _sample_without_replacement_with_tracking_selection(\n",
            "              cnp.int_t n_population,\n",
            "              cnp.int_t n_samples,\n",
            "             ^\n",
            "      ------------------------------------------------------------\n",
            "      \n",
            "      sklearn\\utils\\_random.pyx:37:8: 'int_t' is not a type identifier\n",
            "      \n",
            "      Error compiling Cython file:\n",
            "      ------------------------------------------------------------\n",
            "      ...\n",
            "              out[i] = j\n",
            "      \n",
            "          return np.asarray(out)\n",
            "      \n",
            "      \n",
            "      cpdef _sample_without_replacement_with_pool(cnp.int_t n_population,\n",
            "                                                 ^\n",
            "      ------------------------------------------------------------\n",
            "      \n",
            "      sklearn\\utils\\_random.pyx:100:44: 'int_t' is not a type identifier\n",
            "      \n",
            "      Error compiling Cython file:\n",
            "      ------------------------------------------------------------\n",
            "      ...\n",
            "      \n",
            "          return np.asarray(out)\n",
            "      \n",
            "      \n",
            "      cpdef _sample_without_replacement_with_pool(cnp.int_t n_population,\n",
            "                                                  cnp.int_t n_samples,\n",
            "                                                 ^\n",
            "      ------------------------------------------------------------\n",
            "      \n",
            "      sklearn\\utils\\_random.pyx:101:44: 'int_t' is not a type identifier\n",
            "      \n",
            "      Error compiling Cython file:\n",
            "      ------------------------------------------------------------\n",
            "      ...\n",
            "      \n",
            "          return np.asarray(out)\n",
            "      \n",
            "      \n",
            "      cpdef _sample_without_replacement_with_reservoir_sampling(\n",
            "          cnp.int_t n_population,\n",
            "         ^\n",
            "      ------------------------------------------------------------\n",
            "      \n",
            "      sklearn\\utils\\_random.pyx:157:4: 'int_t' is not a type identifier\n",
            "      \n",
            "      Error compiling Cython file:\n",
            "      ------------------------------------------------------------\n",
            "      ...\n",
            "          return np.asarray(out)\n",
            "      \n",
            "      \n",
            "      cpdef _sample_without_replacement_with_reservoir_sampling(\n",
            "          cnp.int_t n_population,\n",
            "          cnp.int_t n_samples,\n",
            "         ^\n",
            "      ------------------------------------------------------------\n",
            "      \n",
            "      sklearn\\utils\\_random.pyx:158:4: 'int_t' is not a type identifier\n",
            "      \n",
            "      Error compiling Cython file:\n",
            "      ------------------------------------------------------------\n",
            "      ...\n",
            "                  out[j] = i\n",
            "      \n",
            "          return np.asarray(out)\n",
            "      \n",
            "      \n",
            "      cpdef sample_without_replacement(cnp.int_t n_population,\n",
            "                                      ^\n",
            "      ------------------------------------------------------------\n",
            "      \n",
            "      sklearn\\utils\\_random.pyx:216:33: 'int_t' is not a type identifier\n",
            "      \n",
            "      Error compiling Cython file:\n",
            "      ------------------------------------------------------------\n",
            "      ...\n",
            "      \n",
            "          return np.asarray(out)\n",
            "      \n",
            "      \n",
            "      cpdef sample_without_replacement(cnp.int_t n_population,\n",
            "                                       cnp.int_t n_samples,\n",
            "                                      ^\n",
            "      ------------------------------------------------------------\n",
            "      \n",
            "      sklearn\\utils\\_random.pyx:217:33: 'int_t' is not a type identifier\n",
            "      \n",
            "      Error compiling Cython file:\n",
            "      ------------------------------------------------------------\n",
            "      ...\n",
            "          out : ndarray of shape (n_samples,)\n",
            "              The sampled subsets of integer.\n",
            "          \"\"\"\n",
            "          _sample_without_replacement_check_input(n_population, n_samples)\n",
            "      \n",
            "          cdef cnp.int_t i\n",
            "              ^\n",
            "      ------------------------------------------------------------\n",
            "      \n",
            "      sklearn\\utils\\_random.pyx:79:9: 'int_t' is not a type identifier\n",
            "      \n",
            "      Error compiling Cython file:\n",
            "      ------------------------------------------------------------\n",
            "      ...\n",
            "              The sampled subsets of integer.\n",
            "          \"\"\"\n",
            "          _sample_without_replacement_check_input(n_population, n_samples)\n",
            "      \n",
            "          cdef cnp.int_t i\n",
            "          cdef cnp.int_t j\n",
            "              ^\n",
            "      ------------------------------------------------------------\n",
            "      \n",
            "      sklearn\\utils\\_random.pyx:80:9: 'int_t' is not a type identifier\n",
            "      \n",
            "      Error compiling Cython file:\n",
            "      ------------------------------------------------------------\n",
            "      ...\n",
            "          \"\"\"\n",
            "          _sample_without_replacement_check_input(n_population, n_samples)\n",
            "      \n",
            "          cdef cnp.int_t i\n",
            "          cdef cnp.int_t j\n",
            "          cdef cnp.int_t[::1] out = np.empty((n_samples, ), dtype=int)\n",
            "              ^\n",
            "      ------------------------------------------------------------\n",
            "      \n",
            "      sklearn\\utils\\_random.pyx:81:9: 'int_t' is not a type identifier\n",
            "      \n",
            "      Error compiling Cython file:\n",
            "      ------------------------------------------------------------\n",
            "      ...\n",
            "          out : ndarray of shape (n_samples,)\n",
            "              The sampled subsets of integer.\n",
            "          \"\"\"\n",
            "          _sample_without_replacement_check_input(n_population, n_samples)\n",
            "      \n",
            "          cdef cnp.int_t i\n",
            "              ^\n",
            "      ------------------------------------------------------------\n",
            "      \n",
            "      sklearn\\utils\\_random.pyx:134:9: 'int_t' is not a type identifier\n",
            "      \n",
            "      Error compiling Cython file:\n",
            "      ------------------------------------------------------------\n",
            "      ...\n",
            "              The sampled subsets of integer.\n",
            "          \"\"\"\n",
            "          _sample_without_replacement_check_input(n_population, n_samples)\n",
            "      \n",
            "          cdef cnp.int_t i\n",
            "          cdef cnp.int_t j\n",
            "              ^\n",
            "      ------------------------------------------------------------\n",
            "      \n",
            "      sklearn\\utils\\_random.pyx:135:9: 'int_t' is not a type identifier\n",
            "      \n",
            "      Error compiling Cython file:\n",
            "      ------------------------------------------------------------\n",
            "      ...\n",
            "          \"\"\"\n",
            "          _sample_without_replacement_check_input(n_population, n_samples)\n",
            "      \n",
            "          cdef cnp.int_t i\n",
            "          cdef cnp.int_t j\n",
            "          cdef cnp.int_t[::1] out = np.empty((n_samples,), dtype=int)\n",
            "              ^\n",
            "      ------------------------------------------------------------\n",
            "      \n",
            "      sklearn\\utils\\_random.pyx:136:9: 'int_t' is not a type identifier\n",
            "      \n",
            "      Error compiling Cython file:\n",
            "      ------------------------------------------------------------\n",
            "      ...\n",
            "          _sample_without_replacement_check_input(n_population, n_samples)\n",
            "      \n",
            "          cdef cnp.int_t i\n",
            "          cdef cnp.int_t j\n",
            "          cdef cnp.int_t[::1] out = np.empty((n_samples,), dtype=int)\n",
            "          cdef cnp.int_t[::1] pool = np.empty((n_population,), dtype=int)\n",
            "              ^\n",
            "      ------------------------------------------------------------\n",
            "      \n",
            "      sklearn\\utils\\_random.pyx:137:9: 'int_t' is not a type identifier\n",
            "      \n",
            "      Error compiling Cython file:\n",
            "      ------------------------------------------------------------\n",
            "      ...\n",
            "              necessarily random. Use a random permutation of the array if the order\n",
            "              of the items has to be randomized.\n",
            "          \"\"\"\n",
            "          _sample_without_replacement_check_input(n_population, n_samples)\n",
            "      \n",
            "          cdef cnp.int_t i\n",
            "              ^\n",
            "      ------------------------------------------------------------\n",
            "      \n",
            "      sklearn\\utils\\_random.pyx:194:9: 'int_t' is not a type identifier\n",
            "      \n",
            "      Error compiling Cython file:\n",
            "      ------------------------------------------------------------\n",
            "      ...\n",
            "              of the items has to be randomized.\n",
            "          \"\"\"\n",
            "          _sample_without_replacement_check_input(n_population, n_samples)\n",
            "      \n",
            "          cdef cnp.int_t i\n",
            "          cdef cnp.int_t j\n",
            "              ^\n",
            "      ------------------------------------------------------------\n",
            "      \n",
            "      sklearn\\utils\\_random.pyx:195:9: 'int_t' is not a type identifier\n",
            "      \n",
            "      Error compiling Cython file:\n",
            "      ------------------------------------------------------------\n",
            "      ...\n",
            "          \"\"\"\n",
            "          _sample_without_replacement_check_input(n_population, n_samples)\n",
            "      \n",
            "          cdef cnp.int_t i\n",
            "          cdef cnp.int_t j\n",
            "          cdef cnp.int_t[::1] out = np.empty((n_samples, ), dtype=int)\n",
            "              ^\n",
            "      ------------------------------------------------------------\n",
            "      \n",
            "      sklearn\\utils\\_random.pyx:196:9: 'int_t' is not a type identifier\n",
            "      \n",
            "      Error compiling Cython file:\n",
            "      ------------------------------------------------------------\n",
            "      ...\n",
            "          # 054289.html\n",
            "          #\n",
            "          for i in range(n_samples):\n",
            "              out[i] = i\n",
            "      \n",
            "          for i from n_samples <= i < n_population:\n",
            "         ^\n",
            "      ------------------------------------------------------------\n",
            "      \n",
            "      sklearn\\utils\\_random.pyx:208:4: Compiler crash in AnalyseExpressionsTransform\n",
            "      \n",
            "      ModuleNode.body = StatListNode(_random.pyx:13:0)\n",
            "      StatListNode.stats[8] = StatListNode(_random.pyx:156:6)\n",
            "      StatListNode.stats[0] = CFuncDefNode(_random.pyx:156:6,\n",
            "          args = [...]/3,\n",
            "          doc = 'Sample integers without replacement.\\n\\n    Select n_samples integers from the set [0, n_population) without\\n    replacement.\\n\\n    Time complexity of\\n        O((n_population - n_samples) * O(np.random.randint) + n_samples)\\n    Space complexity of O(n_samples)\\n\\n\\n    Parameters\\n    ----------\\n    n_population : int\\n        The size of the set to sample from.\\n\\n    n_samples : int\\n         The number of integer to sample.\\n\\n    random_state : int, RandomState instance or None, default=None\\n        If int, random_state is the seed used by the random number generator;\\n        If RandomState instance, random_state is the random number generator;\\n        If None, the random number generator is the RandomState instance used\\n        by `np.random`.\\n\\n    Returns\\n    -------\\n    out : ndarray of shape (n_samples,)\\n        The sampled subsets of integer. The order of the items is not\\n        necessarily random. Use a random permutation of the array if the order\\n        of the items has to be randomized.\\n    ',\n",
            "          modifiers = [...]/0,\n",
            "          overridable = 1,\n",
            "          visibility = 'private')\n",
            "      File 'Nodes.py', line 435, in analyse_expressions: StatListNode(_random.pyx:161:4,\n",
            "          is_terminator = True)\n",
            "      File 'Nodes.py', line 6853, in analyse_expressions: ForFromStatNode(_random.pyx:208:4,\n",
            "          relation1 = '<=',\n",
            "          relation2 = '<')\n",
            "      File 'Nodes.py', line 6875, in set_up_loop: ForFromStatNode(_random.pyx:208:4,\n",
            "          relation1 = '<=',\n",
            "          relation2 = '<')\n",
            "      \n",
            "      Compiler crash traceback from this point on:\n",
            "        File \"C:\\Users\\kavita.jain\\AppData\\Local\\Temp\\pip-build-env-p9muoaf8\\overlay\\Lib\\site-packages\\Cython\\Compiler\\Nodes.py\", line 6875, in set_up_loop\n",
            "          loop_type = PyrexTypes.widest_numeric_type(loop_type, self.bound1.type)\n",
            "        File \"C:\\Users\\kavita.jain\\AppData\\Local\\Temp\\pip-build-env-p9muoaf8\\overlay\\Lib\\site-packages\\Cython\\Compiler\\PyrexTypes.py\", line 4481, in widest_numeric_type\n",
            "          elif type1.rank < type2.rank:\n",
            "                            ^^^^^^^^^^\n",
            "      AttributeError: 'ErrorType' object has no attribute 'rank'\n",
            "      Traceback (most recent call last):\n",
            "        File \"C:\\Users\\kavita.jain\\AppData\\Local\\Temp\\pip-build-env-p9muoaf8\\overlay\\Lib\\site-packages\\Cython\\Build\\Dependencies.py\", line 1262, in cythonize_one_helper\n",
            "          return cythonize_one(*m)\n",
            "        File \"C:\\Users\\kavita.jain\\AppData\\Local\\Temp\\pip-build-env-p9muoaf8\\overlay\\Lib\\site-packages\\Cython\\Build\\Dependencies.py\", line 1238, in cythonize_one\n",
            "          raise CompileError(None, pyx_file)\n",
            "      Cython.Compiler.Errors.CompileError: sklearn\\utils\\_random.pyx\n",
            "      [61/68] Cythonizing sklearn\\utils\\_seq_dataset.pyx\n",
            "      \n",
            "      Error compiling Cython file:\n",
            "      ------------------------------------------------------------\n",
            "      ...\n",
            "          # particularly tiny on Windows/MSVC.\n",
            "          # It corresponds to the maximum representable value for\n",
            "          # 32-bit signed integers (i.e. 2^31 - 1).\n",
            "          RAND_R_MAX = 2147483647\n",
            "      \n",
            "      cpdef sample_without_replacement(cnp.int_t n_population,\n",
            "                                      ^\n",
            "      ------------------------------------------------------------\n",
            "      \n",
            "      sklearn\\utils\\_random.pxd:19:33: 'int_t' is not a type identifier\n",
            "      \n",
            "      Error compiling Cython file:\n",
            "      ------------------------------------------------------------\n",
            "      ...\n",
            "          # It corresponds to the maximum representable value for\n",
            "          # 32-bit signed integers (i.e. 2^31 - 1).\n",
            "          RAND_R_MAX = 2147483647\n",
            "      \n",
            "      cpdef sample_without_replacement(cnp.int_t n_population,\n",
            "                                       cnp.int_t n_samples,\n",
            "                                      ^\n",
            "      ------------------------------------------------------------\n",
            "      \n",
            "      sklearn\\utils\\_random.pxd:20:33: 'int_t' is not a type identifier\n",
            "      Traceback (most recent call last):\n",
            "        File \"C:\\Users\\kavita.jain\\AppData\\Local\\Temp\\pip-build-env-p9muoaf8\\overlay\\Lib\\site-packages\\Cython\\Build\\Dependencies.py\", line 1262, in cythonize_one_helper\n",
            "          return cythonize_one(*m)\n",
            "        File \"C:\\Users\\kavita.jain\\AppData\\Local\\Temp\\pip-build-env-p9muoaf8\\overlay\\Lib\\site-packages\\Cython\\Build\\Dependencies.py\", line 1238, in cythonize_one\n",
            "          raise CompileError(None, pyx_file)\n",
            "      Cython.Compiler.Errors.CompileError: sklearn\\utils\\_seq_dataset.pyx\n",
            "      [62/68] Cythonizing sklearn\\utils\\_sorting.pyx\n",
            "      [63/68] Cythonizing sklearn\\utils\\_typedefs.pyx\n",
            "      [64/68] Cythonizing sklearn\\utils\\_vector_sentinel.pyx\n",
            "      [65/68] Cythonizing sklearn\\utils\\_weight_vector.pyx\n",
            "      [66/68] Cythonizing sklearn\\utils\\arrayfuncs.pyx\n",
            "      [67/68] Cythonizing sklearn\\utils\\murmurhash.pyx\n",
            "      [68/68] Cythonizing sklearn\\utils\\sparsefuncs_fast.pyx\n",
            "      \u001b[1;35mmultiprocessing.pool.RemoteTraceback\u001b[0m: \u001b[35m\n",
            "      \"\"\"\n",
            "      Traceback (most recent call last):\n",
            "        File \"C:\\Python313\\Lib\\multiprocessing\\pool.py\", line 125, in worker\n",
            "          result = (True, func(*args, **kwds))\n",
            "                          ~~~~^^^^^^^^^^^^^^^\n",
            "        File \"C:\\Python313\\Lib\\multiprocessing\\pool.py\", line 48, in mapstar\n",
            "          return list(map(*args))\n",
            "        File \"C:\\Users\\kavita.jain\\AppData\\Local\\Temp\\pip-build-env-p9muoaf8\\overlay\\Lib\\site-packages\\Cython\\Build\\Dependencies.py\", line 1262, in cythonize_one_helper\n",
            "          return cythonize_one(*m)\n",
            "        File \"C:\\Users\\kavita.jain\\AppData\\Local\\Temp\\pip-build-env-p9muoaf8\\overlay\\Lib\\site-packages\\Cython\\Build\\Dependencies.py\", line 1238, in cythonize_one\n",
            "          raise CompileError(None, pyx_file)\n",
            "      Cython.Compiler.Errors.CompileError: sklearn\\linear_model\\_cd_fast.pyx\n",
            "      \"\"\"\u001b[0m\n",
            "      \n",
            "      The above exception was the direct cause of the following exception:\n",
            "      \n",
            "      Traceback (most recent call last):\n",
            "        File \u001b[35m\"C:\\Python313\\Lib\\site-packages\\pip\\_vendor\\pyproject_hooks\\_in_process\\_in_process.py\"\u001b[0m, line \u001b[35m389\u001b[0m, in \u001b[35m<module>\u001b[0m\n",
            "          \u001b[31mmain\u001b[0m\u001b[1;31m()\u001b[0m\n",
            "          \u001b[31m~~~~\u001b[0m\u001b[1;31m^^\u001b[0m\n",
            "        File \u001b[35m\"C:\\Python313\\Lib\\site-packages\\pip\\_vendor\\pyproject_hooks\\_in_process\\_in_process.py\"\u001b[0m, line \u001b[35m373\u001b[0m, in \u001b[35mmain\u001b[0m\n",
            "          json_out[\"return_val\"] = \u001b[31mhook\u001b[0m\u001b[1;31m(**hook_input[\"kwargs\"])\u001b[0m\n",
            "                                   \u001b[31m~~~~\u001b[0m\u001b[1;31m^^^^^^^^^^^^^^^^^^^^^^^^\u001b[0m\n",
            "        File \u001b[35m\"C:\\Python313\\Lib\\site-packages\\pip\\_vendor\\pyproject_hooks\\_in_process\\_in_process.py\"\u001b[0m, line \u001b[35m175\u001b[0m, in \u001b[35mprepare_metadata_for_build_wheel\u001b[0m\n",
            "          return hook(metadata_directory, config_settings)\n",
            "        File \u001b[35m\"C:\\Users\\kavita.jain\\AppData\\Local\\Temp\\pip-build-env-p9muoaf8\\overlay\\Lib\\site-packages\\setuptools\\build_meta.py\"\u001b[0m, line \u001b[35m374\u001b[0m, in \u001b[35mprepare_metadata_for_build_wheel\u001b[0m\n",
            "          \u001b[31mself.run_setup\u001b[0m\u001b[1;31m()\u001b[0m\n",
            "          \u001b[31m~~~~~~~~~~~~~~\u001b[0m\u001b[1;31m^^\u001b[0m\n",
            "        File \u001b[35m\"C:\\Users\\kavita.jain\\AppData\\Local\\Temp\\pip-build-env-p9muoaf8\\overlay\\Lib\\site-packages\\setuptools\\build_meta.py\"\u001b[0m, line \u001b[35m512\u001b[0m, in \u001b[35mrun_setup\u001b[0m\n",
            "          \u001b[31msuper().run_setup\u001b[0m\u001b[1;31m(setup_script=setup_script)\u001b[0m\n",
            "          \u001b[31m~~~~~~~~~~~~~~~~~\u001b[0m\u001b[1;31m^^^^^^^^^^^^^^^^^^^^^^^^^^^\u001b[0m\n",
            "        File \u001b[35m\"C:\\Users\\kavita.jain\\AppData\\Local\\Temp\\pip-build-env-p9muoaf8\\overlay\\Lib\\site-packages\\setuptools\\build_meta.py\"\u001b[0m, line \u001b[35m317\u001b[0m, in \u001b[35mrun_setup\u001b[0m\n",
            "          \u001b[31mexec\u001b[0m\u001b[1;31m(code, locals())\u001b[0m\n",
            "          \u001b[31m~~~~\u001b[0m\u001b[1;31m^^^^^^^^^^^^^^^^\u001b[0m\n",
            "        File \u001b[35m\"<string>\"\u001b[0m, line \u001b[35m633\u001b[0m, in \u001b[35m<module>\u001b[0m\n",
            "        File \u001b[35m\"<string>\"\u001b[0m, line \u001b[35m627\u001b[0m, in \u001b[35msetup_package\u001b[0m\n",
            "        File \u001b[35m\"<string>\"\u001b[0m, line \u001b[35m554\u001b[0m, in \u001b[35mconfigure_extension_modules\u001b[0m\n",
            "        File \u001b[35m\"C:\\Users\\kavita.jain\\AppData\\Local\\Temp\\pip-install-3acrjw57\\scikit-learn_a14e5d3a0c604ded9e7db768009519d5\\sklearn\\_build_utils\\__init__.py\"\u001b[0m, line \u001b[35m80\u001b[0m, in \u001b[35mcythonize_extensions\u001b[0m\n",
            "          return cythonize(\n",
            "              extension,\n",
            "              nthreads=n_jobs,\n",
            "              compiler_directives=compiler_directives,\n",
            "          )\n",
            "        File \u001b[35m\"C:\\Users\\kavita.jain\\AppData\\Local\\Temp\\pip-build-env-p9muoaf8\\overlay\\Lib\\site-packages\\Cython\\Build\\Dependencies.py\"\u001b[0m, line \u001b[35m1106\u001b[0m, in \u001b[35mcythonize\u001b[0m\n",
            "          \u001b[31mresult.get\u001b[0m\u001b[1;31m(99999)\u001b[0m  # seconds\n",
            "          \u001b[31m~~~~~~~~~~\u001b[0m\u001b[1;31m^^^^^^^\u001b[0m\n",
            "        File \u001b[35m\"C:\\Python313\\Lib\\multiprocessing\\pool.py\"\u001b[0m, line \u001b[35m774\u001b[0m, in \u001b[35mget\u001b[0m\n",
            "          raise self._value\n",
            "      \u001b[1;35mCython.Compiler.Errors.CompileError\u001b[0m: \u001b[35msklearn\\linear_model\\_cd_fast.pyx\u001b[0m\n",
            "      [end of output]\n",
            "  \n",
            "  note: This error originates from a subprocess, and is likely not a problem with pip.\n",
            "\n",
            "[notice] A new release of pip is available: 25.1.1 -> 25.2\n",
            "[notice] To update, run: python.exe -m pip install --upgrade pip\n",
            "error: metadata-generation-failed\n",
            "\n",
            "× Encountered error while generating package metadata.\n",
            "╰─> See above for output.\n",
            "\n",
            "note: This is an issue with the package mentioned above, not pip.\n",
            "hint: See above for details.\n"
          ]
        }
      ],
      "source": [
        "!pip install scikit-learn==1.3.2"
      ]
    },
    {
      "cell_type": "code",
      "execution_count": 92,
      "id": "60a0aaf0",
      "metadata": {
        "id": "60a0aaf0"
      },
      "outputs": [
        {
          "ename": "ModuleNotFoundError",
          "evalue": "No module named 'sklearn'",
          "output_type": "error",
          "traceback": [
            "\u001b[31m---------------------------------------------------------------------------\u001b[39m",
            "\u001b[31mModuleNotFoundError\u001b[39m                       Traceback (most recent call last)",
            "\u001b[36mCell\u001b[39m\u001b[36m \u001b[39m\u001b[32mIn[92]\u001b[39m\u001b[32m, line 1\u001b[39m\n\u001b[32m----> \u001b[39m\u001b[32m1\u001b[39m \u001b[38;5;28;01mfrom\u001b[39;00m\u001b[38;5;250m \u001b[39m\u001b[34;01msklearn\u001b[39;00m\u001b[34;01m.\u001b[39;00m\u001b[34;01mmodel_selection\u001b[39;00m\u001b[38;5;250m \u001b[39m\u001b[38;5;28;01mimport\u001b[39;00m train_test_split\n\u001b[32m      2\u001b[39m X_train,X_test,y_train,y_test = train_test_split(X,y,test_size=\u001b[32m0.15\u001b[39m,random_state=\u001b[32m2\u001b[39m)\n",
            "\u001b[31mModuleNotFoundError\u001b[39m: No module named 'sklearn'"
          ]
        }
      ],
      "source": [
        "from sklearn.model_selection import train_test_split\n",
        "X_train,X_test,y_train,y_test = train_test_split(X,y,test_size=0.15,random_state=2)"
      ]
    },
    {
      "cell_type": "code",
      "execution_count": 93,
      "id": "3e665d44",
      "metadata": {
        "colab": {
          "base_uri": "https://localhost:8080/",
          "height": 649
        },
        "id": "3e665d44",
        "outputId": "9eb35524-e7cb-4ee3-d82b-415497612444"
      },
      "outputs": [
        {
          "ename": "NameError",
          "evalue": "name 'X_train' is not defined",
          "output_type": "error",
          "traceback": [
            "\u001b[31m---------------------------------------------------------------------------\u001b[39m",
            "\u001b[31mNameError\u001b[39m                                 Traceback (most recent call last)",
            "\u001b[36mCell\u001b[39m\u001b[36m \u001b[39m\u001b[32mIn[93]\u001b[39m\u001b[32m, line 1\u001b[39m\n\u001b[32m----> \u001b[39m\u001b[32m1\u001b[39m \u001b[43mX_train\u001b[49m\n",
            "\u001b[31mNameError\u001b[39m: name 'X_train' is not defined"
          ]
        }
      ],
      "source": [
        "X_train"
      ]
    },
    {
      "cell_type": "code",
      "execution_count": 94,
      "id": "87288c45",
      "metadata": {
        "id": "87288c45"
      },
      "outputs": [
        {
          "ename": "ModuleNotFoundError",
          "evalue": "No module named 'sklearn'",
          "output_type": "error",
          "traceback": [
            "\u001b[31m---------------------------------------------------------------------------\u001b[39m",
            "\u001b[31mModuleNotFoundError\u001b[39m                       Traceback (most recent call last)",
            "\u001b[36mCell\u001b[39m\u001b[36m \u001b[39m\u001b[32mIn[94]\u001b[39m\u001b[32m, line 1\u001b[39m\n\u001b[32m----> \u001b[39m\u001b[32m1\u001b[39m \u001b[38;5;28;01mfrom\u001b[39;00m\u001b[38;5;250m \u001b[39m\u001b[34;01msklearn\u001b[39;00m\u001b[34;01m.\u001b[39;00m\u001b[34;01mcompose\u001b[39;00m\u001b[38;5;250m \u001b[39m\u001b[38;5;28;01mimport\u001b[39;00m ColumnTransformer\n\u001b[32m      2\u001b[39m \u001b[38;5;28;01mfrom\u001b[39;00m\u001b[38;5;250m \u001b[39m\u001b[34;01msklearn\u001b[39;00m\u001b[34;01m.\u001b[39;00m\u001b[34;01mpipeline\u001b[39;00m\u001b[38;5;250m \u001b[39m\u001b[38;5;28;01mimport\u001b[39;00m Pipeline\n\u001b[32m      3\u001b[39m \u001b[38;5;28;01mfrom\u001b[39;00m\u001b[38;5;250m \u001b[39m\u001b[34;01msklearn\u001b[39;00m\u001b[34;01m.\u001b[39;00m\u001b[34;01mpreprocessing\u001b[39;00m\u001b[38;5;250m \u001b[39m\u001b[38;5;28;01mimport\u001b[39;00m OneHotEncoder\n",
            "\u001b[31mModuleNotFoundError\u001b[39m: No module named 'sklearn'"
          ]
        }
      ],
      "source": [
        "from sklearn.compose import ColumnTransformer\n",
        "from sklearn.pipeline import Pipeline\n",
        "from sklearn.preprocessing import OneHotEncoder\n",
        "from sklearn.metrics import r2_score,mean_absolute_error"
      ]
    },
    {
      "cell_type": "code",
      "execution_count": 95,
      "id": "e83816b2",
      "metadata": {
        "id": "e83816b2"
      },
      "outputs": [
        {
          "ename": "ModuleNotFoundError",
          "evalue": "No module named 'sklearn'",
          "output_type": "error",
          "traceback": [
            "\u001b[31m---------------------------------------------------------------------------\u001b[39m",
            "\u001b[31mModuleNotFoundError\u001b[39m                       Traceback (most recent call last)",
            "\u001b[36mCell\u001b[39m\u001b[36m \u001b[39m\u001b[32mIn[95]\u001b[39m\u001b[32m, line 1\u001b[39m\n\u001b[32m----> \u001b[39m\u001b[32m1\u001b[39m \u001b[38;5;28;01mfrom\u001b[39;00m\u001b[38;5;250m \u001b[39m\u001b[34;01msklearn\u001b[39;00m\u001b[34;01m.\u001b[39;00m\u001b[34;01mlinear_model\u001b[39;00m\u001b[38;5;250m \u001b[39m\u001b[38;5;28;01mimport\u001b[39;00m LinearRegression,Ridge,Lasso\n\u001b[32m      2\u001b[39m \u001b[38;5;28;01mfrom\u001b[39;00m\u001b[38;5;250m \u001b[39m\u001b[34;01msklearn\u001b[39;00m\u001b[34;01m.\u001b[39;00m\u001b[34;01mneighbors\u001b[39;00m\u001b[38;5;250m \u001b[39m\u001b[38;5;28;01mimport\u001b[39;00m KNeighborsRegressor\n\u001b[32m      3\u001b[39m \u001b[38;5;28;01mfrom\u001b[39;00m\u001b[38;5;250m \u001b[39m\u001b[34;01msklearn\u001b[39;00m\u001b[34;01m.\u001b[39;00m\u001b[34;01mtree\u001b[39;00m\u001b[38;5;250m \u001b[39m\u001b[38;5;28;01mimport\u001b[39;00m DecisionTreeRegressor\n",
            "\u001b[31mModuleNotFoundError\u001b[39m: No module named 'sklearn'"
          ]
        }
      ],
      "source": [
        "from sklearn.linear_model import LinearRegression,Ridge,Lasso\n",
        "from sklearn.neighbors import KNeighborsRegressor\n",
        "from sklearn.tree import DecisionTreeRegressor\n",
        "from sklearn.ensemble import RandomForestRegressor,GradientBoostingRegressor,AdaBoostRegressor,ExtraTreesRegressor\n",
        "from sklearn.svm import SVR\n",
        "from xgboost import XGBRegressor"
      ]
    },
    {
      "cell_type": "markdown",
      "id": "a9b9b064",
      "metadata": {
        "id": "a9b9b064"
      },
      "source": [
        "### Linear regression"
      ]
    },
    {
      "cell_type": "code",
      "execution_count": null,
      "id": "62d1c597",
      "metadata": {
        "colab": {
          "base_uri": "https://localhost:8080/"
        },
        "id": "62d1c597",
        "outputId": "6e0df72d-3356-43a4-b0c8-edde5601e157"
      },
      "outputs": [
        {
          "name": "stdout",
          "output_type": "stream",
          "text": [
            "R2 score 0.807327744841867\n",
            "MAE 0.2101782797642868\n"
          ]
        }
      ],
      "source": [
        "step1 = ColumnTransformer(transformers=[\n",
        "    ('col_tnf',OneHotEncoder(sparse_output=False,drop='first'),[0,1,7,10,11])\n",
        "],remainder='passthrough')\n",
        "\n",
        "step2 = LinearRegression()\n",
        "\n",
        "pipe = Pipeline([\n",
        "    ('step1',step1),\n",
        "    ('step2',step2)\n",
        "])\n",
        "\n",
        "pipe.fit(X_train,y_train)\n",
        "\n",
        "y_pred = pipe.predict(X_test)\n",
        "\n",
        "print('R2 score',r2_score(y_test,y_pred))\n",
        "print('MAE',mean_absolute_error(y_test,y_pred))"
      ]
    },
    {
      "cell_type": "markdown",
      "id": "a2792084",
      "metadata": {
        "id": "a2792084"
      },
      "source": [
        "### Ridge Regression"
      ]
    },
    {
      "cell_type": "code",
      "execution_count": null,
      "id": "b0636174",
      "metadata": {
        "colab": {
          "base_uri": "https://localhost:8080/"
        },
        "id": "b0636174",
        "outputId": "730eb902-2364-4a35-8a7b-257dd5d81ca0"
      },
      "outputs": [
        {
          "name": "stdout",
          "output_type": "stream",
          "text": [
            "R2 score 0.8127331031311809\n",
            "MAE 0.20926802242582973\n"
          ]
        }
      ],
      "source": [
        "step1 = ColumnTransformer(transformers=[\n",
        "    ('col_tnf',OneHotEncoder(sparse_output=False,drop='first'),[0,1,7,10,11])\n",
        "],remainder='passthrough')\n",
        "\n",
        "step2 = Ridge(alpha=10)\n",
        "\n",
        "pipe = Pipeline([\n",
        "    ('step1',step1),\n",
        "    ('step2',step2)\n",
        "])\n",
        "\n",
        "pipe.fit(X_train,y_train)\n",
        "\n",
        "y_pred = pipe.predict(X_test)\n",
        "\n",
        "print('R2 score',r2_score(y_test,y_pred))\n",
        "print('MAE',mean_absolute_error(y_test,y_pred))"
      ]
    },
    {
      "cell_type": "markdown",
      "id": "f962da33",
      "metadata": {
        "id": "f962da33"
      },
      "source": [
        "### Lasso Regression"
      ]
    },
    {
      "cell_type": "code",
      "execution_count": null,
      "id": "7569a253",
      "metadata": {
        "colab": {
          "base_uri": "https://localhost:8080/"
        },
        "id": "7569a253",
        "outputId": "d5290d19-f31e-4f6b-f510-a392a2e67496"
      },
      "outputs": [
        {
          "name": "stdout",
          "output_type": "stream",
          "text": [
            "R2 score 0.8071853945317105\n",
            "MAE 0.21114361613472565\n"
          ]
        }
      ],
      "source": [
        "step1 = ColumnTransformer(transformers=[\n",
        "    ('col_tnf',OneHotEncoder(sparse_output=False,drop='first'),[0,1,7,10,11])\n",
        "],remainder='passthrough')\n",
        "\n",
        "step2 = Lasso(alpha=0.001)\n",
        "\n",
        "pipe = Pipeline([\n",
        "    ('step1',step1),\n",
        "    ('step2',step2)\n",
        "])\n",
        "\n",
        "pipe.fit(X_train,y_train)\n",
        "\n",
        "y_pred = pipe.predict(X_test)\n",
        "\n",
        "print('R2 score',r2_score(y_test,y_pred))\n",
        "print('MAE',mean_absolute_error(y_test,y_pred))"
      ]
    },
    {
      "cell_type": "markdown",
      "id": "ecd73f96",
      "metadata": {
        "id": "ecd73f96"
      },
      "source": [
        "### KNN"
      ]
    },
    {
      "cell_type": "code",
      "execution_count": null,
      "id": "387fb985",
      "metadata": {
        "colab": {
          "base_uri": "https://localhost:8080/"
        },
        "id": "387fb985",
        "outputId": "114e67db-aa7e-471b-f3f6-fef94b507c33"
      },
      "outputs": [
        {
          "name": "stdout",
          "output_type": "stream",
          "text": [
            "R2 score 0.803148868705085\n",
            "MAE 0.19264883332948868\n"
          ]
        }
      ],
      "source": [
        "step1 = ColumnTransformer(transformers=[\n",
        "    ('col_tnf',OneHotEncoder(sparse_output=False,drop='first'),[0,1,7,10,11])\n",
        "],remainder='passthrough')\n",
        "\n",
        "step2 = KNeighborsRegressor(n_neighbors=3)\n",
        "\n",
        "pipe = Pipeline([\n",
        "    ('step1',step1),\n",
        "    ('step2',step2)\n",
        "])\n",
        "\n",
        "pipe.fit(X_train,y_train)\n",
        "\n",
        "y_pred = pipe.predict(X_test)\n",
        "\n",
        "print('R2 score',r2_score(y_test,y_pred))\n",
        "print('MAE',mean_absolute_error(y_test,y_pred))"
      ]
    },
    {
      "cell_type": "markdown",
      "id": "5401e577",
      "metadata": {
        "id": "5401e577"
      },
      "source": [
        "### Decision Tree"
      ]
    },
    {
      "cell_type": "code",
      "execution_count": null,
      "id": "767f57d9",
      "metadata": {
        "colab": {
          "base_uri": "https://localhost:8080/"
        },
        "id": "767f57d9",
        "outputId": "17d8b97b-da02-4f46-d108-ca41dbbd9a67"
      },
      "outputs": [
        {
          "name": "stdout",
          "output_type": "stream",
          "text": [
            "R2 score 0.8429629254664361\n",
            "MAE 0.1806920784781667\n"
          ]
        }
      ],
      "source": [
        "step1 = ColumnTransformer(transformers=[\n",
        "    ('col_tnf',OneHotEncoder(sparse_output=False,drop='first'),[0,1,7,10,11])\n",
        "],remainder='passthrough')\n",
        "\n",
        "step2 = DecisionTreeRegressor(max_depth=8)\n",
        "\n",
        "pipe = Pipeline([\n",
        "    ('step1',step1),\n",
        "    ('step2',step2)\n",
        "])\n",
        "\n",
        "pipe.fit(X_train,y_train)\n",
        "\n",
        "y_pred = pipe.predict(X_test)\n",
        "\n",
        "print('R2 score',r2_score(y_test,y_pred))\n",
        "print('MAE',mean_absolute_error(y_test,y_pred))"
      ]
    },
    {
      "cell_type": "markdown",
      "id": "68197776",
      "metadata": {
        "id": "68197776"
      },
      "source": [
        "### SVM"
      ]
    },
    {
      "cell_type": "code",
      "execution_count": null,
      "id": "da16c784",
      "metadata": {
        "colab": {
          "base_uri": "https://localhost:8080/"
        },
        "id": "da16c784",
        "outputId": "582c77cf-fefb-43da-c228-6ad989423d9d"
      },
      "outputs": [
        {
          "name": "stdout",
          "output_type": "stream",
          "text": [
            "R2 score 0.8083180902283282\n",
            "MAE 0.2023905942725167\n"
          ]
        }
      ],
      "source": [
        "step1 = ColumnTransformer(transformers=[\n",
        "    ('col_tnf',OneHotEncoder(sparse_output=False,drop='first'),[0,1,7,10,11])\n",
        "],remainder='passthrough')\n",
        "\n",
        "step2 = SVR(kernel='rbf',C=10000,epsilon=0.1)\n",
        "\n",
        "pipe = Pipeline([\n",
        "    ('step1',step1),\n",
        "    ('step2',step2)\n",
        "])\n",
        "\n",
        "pipe.fit(X_train,y_train)\n",
        "\n",
        "y_pred = pipe.predict(X_test)\n",
        "\n",
        "print('R2 score',r2_score(y_test,y_pred))\n",
        "print('MAE',mean_absolute_error(y_test,y_pred))"
      ]
    },
    {
      "cell_type": "markdown",
      "id": "896ba19b",
      "metadata": {
        "id": "896ba19b"
      },
      "source": [
        "### Random Forest"
      ]
    },
    {
      "cell_type": "code",
      "execution_count": null,
      "id": "18175591",
      "metadata": {
        "colab": {
          "base_uri": "https://localhost:8080/"
        },
        "id": "18175591",
        "outputId": "a7a58ea3-c108-4f26-b319-f6d54f0d769c"
      },
      "outputs": [
        {
          "name": "stdout",
          "output_type": "stream",
          "text": [
            "R2 score 0.8873402378382488\n",
            "MAE 0.15860130110457718\n"
          ]
        }
      ],
      "source": [
        "step1 = ColumnTransformer(transformers=[\n",
        "    ('col_tnf',OneHotEncoder(sparse_output=False,drop='first'),[0,1,7,10,11])\n",
        "],remainder='passthrough')\n",
        "\n",
        "step2 = RandomForestRegressor(n_estimators=100,\n",
        "                              random_state=3,\n",
        "                              max_samples=0.5,\n",
        "                              max_features=0.75,\n",
        "                              max_depth=15)\n",
        "\n",
        "pipe = Pipeline([\n",
        "    ('step1',step1),\n",
        "    ('step2',step2)\n",
        "])\n",
        "\n",
        "pipe.fit(X_train,y_train)\n",
        "\n",
        "y_pred = pipe.predict(X_test)\n",
        "\n",
        "print('R2 score',r2_score(y_test,y_pred))\n",
        "print('MAE',mean_absolute_error(y_test,y_pred))"
      ]
    },
    {
      "cell_type": "markdown",
      "id": "f0e21fc7",
      "metadata": {
        "id": "f0e21fc7"
      },
      "source": [
        "### AdaBoost"
      ]
    },
    {
      "cell_type": "code",
      "execution_count": null,
      "id": "ec362923",
      "metadata": {
        "colab": {
          "base_uri": "https://localhost:8080/"
        },
        "id": "ec362923",
        "outputId": "4a93b70d-96a3-47c4-d28c-c1952d46d4cb"
      },
      "outputs": [
        {
          "name": "stdout",
          "output_type": "stream",
          "text": [
            "R2 score 0.7977195616940533\n",
            "MAE 0.23065299774838832\n"
          ]
        }
      ],
      "source": [
        "step1 = ColumnTransformer(transformers=[\n",
        "    ('col_tnf',OneHotEncoder(sparse_output=False,drop='first'),[0,1,7,10,11])\n",
        "],remainder='passthrough')\n",
        "\n",
        "step2 = AdaBoostRegressor(n_estimators=15,learning_rate=1.0)\n",
        "\n",
        "pipe = Pipeline([\n",
        "    ('step1',step1),\n",
        "    ('step2',step2)\n",
        "])\n",
        "\n",
        "pipe.fit(X_train,y_train)\n",
        "\n",
        "y_pred = pipe.predict(X_test)\n",
        "\n",
        "print('R2 score',r2_score(y_test,y_pred))\n",
        "print('MAE',mean_absolute_error(y_test,y_pred))"
      ]
    },
    {
      "cell_type": "markdown",
      "id": "5803b293",
      "metadata": {
        "id": "5803b293"
      },
      "source": [
        "### Gradient Boost"
      ]
    },
    {
      "cell_type": "code",
      "execution_count": null,
      "id": "c1c75c73",
      "metadata": {
        "colab": {
          "base_uri": "https://localhost:8080/"
        },
        "id": "c1c75c73",
        "outputId": "cc1dd7df-81ff-4110-ce74-17c607fd59d8"
      },
      "outputs": [
        {
          "name": "stdout",
          "output_type": "stream",
          "text": [
            "R2 score 0.8814402034929415\n",
            "MAE 0.15941936196108655\n"
          ]
        }
      ],
      "source": [
        "step1 = ColumnTransformer(transformers=[\n",
        "    ('col_tnf',OneHotEncoder(sparse_output=False,drop='first'),[0,1,7,10,11])\n",
        "],remainder='passthrough')\n",
        "\n",
        "step2 = GradientBoostingRegressor(n_estimators=500)\n",
        "\n",
        "pipe = Pipeline([\n",
        "    ('step1',step1),\n",
        "    ('step2',step2)\n",
        "])\n",
        "\n",
        "pipe.fit(X_train,y_train)\n",
        "\n",
        "y_pred = pipe.predict(X_test)\n",
        "\n",
        "print('R2 score',r2_score(y_test,y_pred))\n",
        "print('MAE',mean_absolute_error(y_test,y_pred))"
      ]
    },
    {
      "cell_type": "code",
      "execution_count": null,
      "id": "3RGnWbaJ6UkA",
      "metadata": {
        "id": "3RGnWbaJ6UkA"
      },
      "outputs": [],
      "source": [
        "#XgBoost"
      ]
    },
    {
      "cell_type": "code",
      "execution_count": null,
      "id": "k1ZnGC9B6squ",
      "metadata": {
        "colab": {
          "base_uri": "https://localhost:8080/"
        },
        "id": "k1ZnGC9B6squ",
        "outputId": "8c402020-60dc-4101-bbf4-60941441dbe1"
      },
      "outputs": [
        {
          "name": "stdout",
          "output_type": "stream",
          "text": [
            "scikit-learn version: 1.3.2\n",
            "XGBoost version: 3.0.0\n"
          ]
        }
      ],
      "source": [
        "import sklearn\n",
        "import xgboost\n",
        "\n",
        "print(\"scikit-learn version:\", sklearn.__version__)\n",
        "print(\"XGBoost version:\", xgboost.__version__)\n"
      ]
    },
    {
      "cell_type": "code",
      "execution_count": null,
      "id": "Pt3UbBwJ7OFV",
      "metadata": {
        "colab": {
          "base_uri": "https://localhost:8080/"
        },
        "id": "Pt3UbBwJ7OFV",
        "outputId": "51d471ec-0def-4f26-8296-97caed62381d"
      },
      "outputs": [
        {
          "name": "stdout",
          "output_type": "stream",
          "text": [
            "Requirement already satisfied: scikit-learn==1.3.2 in c:\\data_science\\laptop-project\\laptopenv\\lib\\site-packages (1.3.2)\n",
            "Requirement already satisfied: numpy<2.0,>=1.17.3 in c:\\data_science\\laptop-project\\laptopenv\\lib\\site-packages (from scikit-learn==1.3.2) (1.26.4)\n",
            "Requirement already satisfied: scipy>=1.5.0 in c:\\data_science\\laptop-project\\laptopenv\\lib\\site-packages (from scikit-learn==1.3.2) (1.15.2)\n",
            "Requirement already satisfied: joblib>=1.1.1 in c:\\data_science\\laptop-project\\laptopenv\\lib\\site-packages (from scikit-learn==1.3.2) (1.4.2)\n",
            "Requirement already satisfied: threadpoolctl>=2.0.0 in c:\\data_science\\laptop-project\\laptopenv\\lib\\site-packages (from scikit-learn==1.3.2) (3.6.0)\n"
          ]
        },
        {
          "name": "stderr",
          "output_type": "stream",
          "text": [
            "\n",
            "[notice] A new release of pip is available: 24.3.1 -> 25.1.1\n",
            "[notice] To update, run: python.exe -m pip install --upgrade pip\n"
          ]
        }
      ],
      "source": [
        "!pip install -U scikit-learn==1.3.2\n"
      ]
    },
    {
      "cell_type": "code",
      "execution_count": null,
      "id": "yUgv0aVg6Ys0",
      "metadata": {
        "colab": {
          "base_uri": "https://localhost:8080/"
        },
        "id": "yUgv0aVg6Ys0",
        "outputId": "e566b828-bdf6-4980-fb45-2e7ea2dc4cd1"
      },
      "outputs": [
        {
          "name": "stdout",
          "output_type": "stream",
          "text": [
            "R2 score 0.8771404806375557\n",
            "MAE 0.16262936288951352\n"
          ]
        }
      ],
      "source": [
        "step1 = ColumnTransformer(transformers=[\n",
        "    ('col_tnf',OneHotEncoder(sparse_output=False,drop='first'),[0,1,7,10,11])\n",
        "],remainder='passthrough')\n",
        "\n",
        "step2 = XGBRegressor(n_estimators=45,max_depth=5,learning_rate=0.5)\n",
        "\n",
        "pipe = Pipeline([\n",
        "    ('step1',step1),\n",
        "    ('step2',step2)\n",
        "])\n",
        "\n",
        "pipe.fit(X_train,y_train)\n",
        "\n",
        "y_pred = pipe.predict(X_test)\n",
        "\n",
        "print('R2 score',r2_score(y_test,y_pred))\n",
        "print('MAE',mean_absolute_error(y_test,y_pred))"
      ]
    },
    {
      "cell_type": "markdown",
      "id": "7814b634",
      "metadata": {
        "id": "7814b634"
      },
      "source": [
        "### Voting Regressor"
      ]
    },
    {
      "cell_type": "code",
      "execution_count": null,
      "id": "e69ed5dc",
      "metadata": {
        "colab": {
          "base_uri": "https://localhost:8080/"
        },
        "id": "e69ed5dc",
        "outputId": "bab6ef79-8a4b-4097-b9b1-6610034155c5"
      },
      "outputs": [
        {
          "name": "stdout",
          "output_type": "stream",
          "text": [
            "R2 score 0.8892969432204892\n",
            "MAE 0.1586247163990439\n"
          ]
        }
      ],
      "source": [
        "from sklearn.ensemble import VotingRegressor,StackingRegressor\n",
        "\n",
        "step1 = ColumnTransformer(transformers=[\n",
        "    ('col_tnf',OneHotEncoder(sparse_output=False,drop='first'),[0,1,7,10,11])\n",
        "],remainder='passthrough')\n",
        "\n",
        "\n",
        "rf = RandomForestRegressor(n_estimators=350,random_state=3,max_samples=0.5,max_features=0.75,max_depth=15)\n",
        "gbdt = GradientBoostingRegressor(n_estimators=100,max_features=0.5)\n",
        "xgb = XGBRegressor(n_estimators=25,learning_rate=0.3,max_depth=5)\n",
        "et = ExtraTreesRegressor(n_estimators=100,random_state=3,max_samples=0.5,max_features=0.75,max_depth=10,bootstrap=True)\n",
        "\n",
        "step2 = VotingRegressor([('rf', rf), ('gbdt', gbdt), ('xgb',xgb), ('et',et)],weights=[5,1,1,1])\n",
        "\n",
        "pipe = Pipeline([\n",
        "    ('step1',step1),\n",
        "    ('step2',step2)\n",
        "])\n",
        "\n",
        "pipe.fit(X_train,y_train)\n",
        "\n",
        "y_pred = pipe.predict(X_test)\n",
        "\n",
        "print('R2 score',r2_score(y_test,y_pred))\n",
        "print('MAE',mean_absolute_error(y_test,y_pred))"
      ]
    },
    {
      "cell_type": "markdown",
      "id": "27e01d9f",
      "metadata": {
        "id": "27e01d9f"
      },
      "source": [
        "### Stacking"
      ]
    },
    {
      "cell_type": "code",
      "execution_count": null,
      "id": "6a5f1f62",
      "metadata": {
        "colab": {
          "base_uri": "https://localhost:8080/"
        },
        "id": "6a5f1f62",
        "outputId": "b5b039ab-c1fa-4ef8-9e49-3d0805726fd0"
      },
      "outputs": [
        {
          "name": "stdout",
          "output_type": "stream",
          "text": [
            "R2 score 0.8796090582486965\n",
            "MAE 0.1661711214326038\n"
          ]
        }
      ],
      "source": [
        "from sklearn.ensemble import VotingRegressor,StackingRegressor\n",
        "\n",
        "step1 = ColumnTransformer(transformers=[\n",
        "    ('col_tnf',OneHotEncoder(sparse_output=False,drop='first'),[0,1,7,10,11])\n",
        "],remainder='passthrough')\n",
        "\n",
        "\n",
        "estimators = [\n",
        "    ('rf', RandomForestRegressor(n_estimators=350,random_state=3,max_samples=0.5,max_features=0.75,max_depth=15)),\n",
        "    ('gbdt',GradientBoostingRegressor(n_estimators=100,max_features=0.5)),\n",
        "    ('xgb', XGBRegressor(n_estimators=25,learning_rate=0.3,max_depth=5))\n",
        "]\n",
        "\n",
        "step2 = StackingRegressor(estimators=estimators, final_estimator=Ridge(alpha=100))\n",
        "\n",
        "pipe = Pipeline([\n",
        "    ('step1',step1),\n",
        "    ('step2',step2)\n",
        "])\n",
        "\n",
        "pipe.fit(X_train,y_train)\n",
        "\n",
        "y_pred = pipe.predict(X_test)\n",
        "\n",
        "print('R2 score',r2_score(y_test,y_pred))\n",
        "print('MAE',mean_absolute_error(y_test,y_pred))"
      ]
    },
    {
      "cell_type": "markdown",
      "id": "d4e6d7be",
      "metadata": {
        "id": "d4e6d7be"
      },
      "source": [
        "### Exporting the Model"
      ]
    },
    {
      "cell_type": "code",
      "execution_count": null,
      "id": "d35eb7b6",
      "metadata": {
        "id": "d35eb7b6"
      },
      "outputs": [],
      "source": [
        "import pickle\n",
        "\n",
        "pickle.dump(df,open('df.pkl','wb'))\n",
        "pickle.dump(pipe,open('pipe.pkl','wb'))"
      ]
    },
    {
      "cell_type": "code",
      "execution_count": null,
      "id": "2bd94cb7",
      "metadata": {
        "id": "2bd94cb7"
      },
      "outputs": [
        {
          "data": {
            "text/html": [
              "<div>\n",
              "<style scoped>\n",
              "    .dataframe tbody tr th:only-of-type {\n",
              "        vertical-align: middle;\n",
              "    }\n",
              "\n",
              "    .dataframe tbody tr th {\n",
              "        vertical-align: top;\n",
              "    }\n",
              "\n",
              "    .dataframe thead th {\n",
              "        text-align: right;\n",
              "    }\n",
              "</style>\n",
              "<table border=\"1\" class=\"dataframe\">\n",
              "  <thead>\n",
              "    <tr style=\"text-align: right;\">\n",
              "      <th></th>\n",
              "      <th>Company</th>\n",
              "      <th>TypeName</th>\n",
              "      <th>Ram</th>\n",
              "      <th>Weight</th>\n",
              "      <th>Price</th>\n",
              "      <th>Touchscreen</th>\n",
              "      <th>Ips</th>\n",
              "      <th>ppi</th>\n",
              "      <th>Cpu brand</th>\n",
              "      <th>HDD</th>\n",
              "      <th>SSD</th>\n",
              "      <th>Gpu brand</th>\n",
              "      <th>os</th>\n",
              "    </tr>\n",
              "  </thead>\n",
              "  <tbody>\n",
              "    <tr>\n",
              "      <th>0</th>\n",
              "      <td>Apple</td>\n",
              "      <td>Ultrabook</td>\n",
              "      <td>8</td>\n",
              "      <td>1.37</td>\n",
              "      <td>71378.6832</td>\n",
              "      <td>0</td>\n",
              "      <td>1</td>\n",
              "      <td>226.983005</td>\n",
              "      <td>Intel Core i5</td>\n",
              "      <td>0</td>\n",
              "      <td>128</td>\n",
              "      <td>Intel</td>\n",
              "      <td>Mac</td>\n",
              "    </tr>\n",
              "    <tr>\n",
              "      <th>1</th>\n",
              "      <td>Apple</td>\n",
              "      <td>Ultrabook</td>\n",
              "      <td>8</td>\n",
              "      <td>1.34</td>\n",
              "      <td>47895.5232</td>\n",
              "      <td>0</td>\n",
              "      <td>0</td>\n",
              "      <td>127.677940</td>\n",
              "      <td>Intel Core i5</td>\n",
              "      <td>0</td>\n",
              "      <td>0</td>\n",
              "      <td>Intel</td>\n",
              "      <td>Mac</td>\n",
              "    </tr>\n",
              "    <tr>\n",
              "      <th>2</th>\n",
              "      <td>HP</td>\n",
              "      <td>Notebook</td>\n",
              "      <td>8</td>\n",
              "      <td>1.86</td>\n",
              "      <td>30636.0000</td>\n",
              "      <td>0</td>\n",
              "      <td>0</td>\n",
              "      <td>141.211998</td>\n",
              "      <td>Intel Core i5</td>\n",
              "      <td>0</td>\n",
              "      <td>256</td>\n",
              "      <td>Intel</td>\n",
              "      <td>Others/No OS/Linux</td>\n",
              "    </tr>\n",
              "    <tr>\n",
              "      <th>3</th>\n",
              "      <td>Apple</td>\n",
              "      <td>Ultrabook</td>\n",
              "      <td>16</td>\n",
              "      <td>1.83</td>\n",
              "      <td>135195.3360</td>\n",
              "      <td>0</td>\n",
              "      <td>1</td>\n",
              "      <td>220.534624</td>\n",
              "      <td>Intel Core i7</td>\n",
              "      <td>0</td>\n",
              "      <td>512</td>\n",
              "      <td>AMD</td>\n",
              "      <td>Mac</td>\n",
              "    </tr>\n",
              "    <tr>\n",
              "      <th>4</th>\n",
              "      <td>Apple</td>\n",
              "      <td>Ultrabook</td>\n",
              "      <td>8</td>\n",
              "      <td>1.37</td>\n",
              "      <td>96095.8080</td>\n",
              "      <td>0</td>\n",
              "      <td>1</td>\n",
              "      <td>226.983005</td>\n",
              "      <td>Intel Core i5</td>\n",
              "      <td>0</td>\n",
              "      <td>256</td>\n",
              "      <td>Intel</td>\n",
              "      <td>Mac</td>\n",
              "    </tr>\n",
              "    <tr>\n",
              "      <th>...</th>\n",
              "      <td>...</td>\n",
              "      <td>...</td>\n",
              "      <td>...</td>\n",
              "      <td>...</td>\n",
              "      <td>...</td>\n",
              "      <td>...</td>\n",
              "      <td>...</td>\n",
              "      <td>...</td>\n",
              "      <td>...</td>\n",
              "      <td>...</td>\n",
              "      <td>...</td>\n",
              "      <td>...</td>\n",
              "      <td>...</td>\n",
              "    </tr>\n",
              "    <tr>\n",
              "      <th>1298</th>\n",
              "      <td>Lenovo</td>\n",
              "      <td>2 in 1 Convertible</td>\n",
              "      <td>4</td>\n",
              "      <td>1.80</td>\n",
              "      <td>33992.6400</td>\n",
              "      <td>1</td>\n",
              "      <td>1</td>\n",
              "      <td>157.350512</td>\n",
              "      <td>Intel Core i7</td>\n",
              "      <td>0</td>\n",
              "      <td>128</td>\n",
              "      <td>Intel</td>\n",
              "      <td>Windows</td>\n",
              "    </tr>\n",
              "    <tr>\n",
              "      <th>1299</th>\n",
              "      <td>Lenovo</td>\n",
              "      <td>2 in 1 Convertible</td>\n",
              "      <td>16</td>\n",
              "      <td>1.30</td>\n",
              "      <td>79866.7200</td>\n",
              "      <td>1</td>\n",
              "      <td>1</td>\n",
              "      <td>276.053530</td>\n",
              "      <td>Intel Core i7</td>\n",
              "      <td>0</td>\n",
              "      <td>512</td>\n",
              "      <td>Intel</td>\n",
              "      <td>Windows</td>\n",
              "    </tr>\n",
              "    <tr>\n",
              "      <th>1300</th>\n",
              "      <td>Lenovo</td>\n",
              "      <td>Notebook</td>\n",
              "      <td>2</td>\n",
              "      <td>1.50</td>\n",
              "      <td>12201.1200</td>\n",
              "      <td>0</td>\n",
              "      <td>0</td>\n",
              "      <td>111.935204</td>\n",
              "      <td>Other Intel Processor</td>\n",
              "      <td>0</td>\n",
              "      <td>0</td>\n",
              "      <td>Intel</td>\n",
              "      <td>Windows</td>\n",
              "    </tr>\n",
              "    <tr>\n",
              "      <th>1301</th>\n",
              "      <td>HP</td>\n",
              "      <td>Notebook</td>\n",
              "      <td>6</td>\n",
              "      <td>2.19</td>\n",
              "      <td>40705.9200</td>\n",
              "      <td>0</td>\n",
              "      <td>0</td>\n",
              "      <td>100.454670</td>\n",
              "      <td>Intel Core i7</td>\n",
              "      <td>1000</td>\n",
              "      <td>0</td>\n",
              "      <td>AMD</td>\n",
              "      <td>Windows</td>\n",
              "    </tr>\n",
              "    <tr>\n",
              "      <th>1302</th>\n",
              "      <td>Asus</td>\n",
              "      <td>Notebook</td>\n",
              "      <td>4</td>\n",
              "      <td>2.20</td>\n",
              "      <td>19660.3200</td>\n",
              "      <td>0</td>\n",
              "      <td>0</td>\n",
              "      <td>100.454670</td>\n",
              "      <td>Other Intel Processor</td>\n",
              "      <td>500</td>\n",
              "      <td>0</td>\n",
              "      <td>Intel</td>\n",
              "      <td>Windows</td>\n",
              "    </tr>\n",
              "  </tbody>\n",
              "</table>\n",
              "<p>1302 rows × 13 columns</p>\n",
              "</div>"
            ],
            "text/plain": [
              "     Company            TypeName  Ram  Weight        Price  Touchscreen  Ips  \\\n",
              "0      Apple           Ultrabook    8    1.37   71378.6832            0    1   \n",
              "1      Apple           Ultrabook    8    1.34   47895.5232            0    0   \n",
              "2         HP            Notebook    8    1.86   30636.0000            0    0   \n",
              "3      Apple           Ultrabook   16    1.83  135195.3360            0    1   \n",
              "4      Apple           Ultrabook    8    1.37   96095.8080            0    1   \n",
              "...      ...                 ...  ...     ...          ...          ...  ...   \n",
              "1298  Lenovo  2 in 1 Convertible    4    1.80   33992.6400            1    1   \n",
              "1299  Lenovo  2 in 1 Convertible   16    1.30   79866.7200            1    1   \n",
              "1300  Lenovo            Notebook    2    1.50   12201.1200            0    0   \n",
              "1301      HP            Notebook    6    2.19   40705.9200            0    0   \n",
              "1302    Asus            Notebook    4    2.20   19660.3200            0    0   \n",
              "\n",
              "             ppi              Cpu brand   HDD  SSD Gpu brand  \\\n",
              "0     226.983005          Intel Core i5     0  128     Intel   \n",
              "1     127.677940          Intel Core i5     0    0     Intel   \n",
              "2     141.211998          Intel Core i5     0  256     Intel   \n",
              "3     220.534624          Intel Core i7     0  512       AMD   \n",
              "4     226.983005          Intel Core i5     0  256     Intel   \n",
              "...          ...                    ...   ...  ...       ...   \n",
              "1298  157.350512          Intel Core i7     0  128     Intel   \n",
              "1299  276.053530          Intel Core i7     0  512     Intel   \n",
              "1300  111.935204  Other Intel Processor     0    0     Intel   \n",
              "1301  100.454670          Intel Core i7  1000    0       AMD   \n",
              "1302  100.454670  Other Intel Processor   500    0     Intel   \n",
              "\n",
              "                      os  \n",
              "0                    Mac  \n",
              "1                    Mac  \n",
              "2     Others/No OS/Linux  \n",
              "3                    Mac  \n",
              "4                    Mac  \n",
              "...                  ...  \n",
              "1298             Windows  \n",
              "1299             Windows  \n",
              "1300             Windows  \n",
              "1301             Windows  \n",
              "1302             Windows  \n",
              "\n",
              "[1302 rows x 13 columns]"
            ]
          },
          "execution_count": 107,
          "metadata": {},
          "output_type": "execute_result"
        }
      ],
      "source": [
        "df"
      ]
    },
    {
      "cell_type": "code",
      "execution_count": null,
      "id": "64618e65",
      "metadata": {
        "id": "64618e65"
      },
      "outputs": [
        {
          "data": {
            "text/html": [
              "<div>\n",
              "<style scoped>\n",
              "    .dataframe tbody tr th:only-of-type {\n",
              "        vertical-align: middle;\n",
              "    }\n",
              "\n",
              "    .dataframe tbody tr th {\n",
              "        vertical-align: top;\n",
              "    }\n",
              "\n",
              "    .dataframe thead th {\n",
              "        text-align: right;\n",
              "    }\n",
              "</style>\n",
              "<table border=\"1\" class=\"dataframe\">\n",
              "  <thead>\n",
              "    <tr style=\"text-align: right;\">\n",
              "      <th></th>\n",
              "      <th>Company</th>\n",
              "      <th>TypeName</th>\n",
              "      <th>Ram</th>\n",
              "      <th>Weight</th>\n",
              "      <th>Touchscreen</th>\n",
              "      <th>Ips</th>\n",
              "      <th>ppi</th>\n",
              "      <th>Cpu brand</th>\n",
              "      <th>HDD</th>\n",
              "      <th>SSD</th>\n",
              "      <th>Gpu brand</th>\n",
              "      <th>os</th>\n",
              "    </tr>\n",
              "  </thead>\n",
              "  <tbody>\n",
              "    <tr>\n",
              "      <th>183</th>\n",
              "      <td>Toshiba</td>\n",
              "      <td>Notebook</td>\n",
              "      <td>8</td>\n",
              "      <td>2.00</td>\n",
              "      <td>0</td>\n",
              "      <td>0</td>\n",
              "      <td>100.454670</td>\n",
              "      <td>Intel Core i5</td>\n",
              "      <td>0</td>\n",
              "      <td>128</td>\n",
              "      <td>Intel</td>\n",
              "      <td>Windows</td>\n",
              "    </tr>\n",
              "    <tr>\n",
              "      <th>1141</th>\n",
              "      <td>MSI</td>\n",
              "      <td>Gaming</td>\n",
              "      <td>8</td>\n",
              "      <td>2.40</td>\n",
              "      <td>0</td>\n",
              "      <td>0</td>\n",
              "      <td>141.211998</td>\n",
              "      <td>Intel Core i7</td>\n",
              "      <td>1000</td>\n",
              "      <td>128</td>\n",
              "      <td>Nvidia</td>\n",
              "      <td>Windows</td>\n",
              "    </tr>\n",
              "    <tr>\n",
              "      <th>1049</th>\n",
              "      <td>Asus</td>\n",
              "      <td>Netbook</td>\n",
              "      <td>4</td>\n",
              "      <td>1.20</td>\n",
              "      <td>0</td>\n",
              "      <td>0</td>\n",
              "      <td>135.094211</td>\n",
              "      <td>Other Intel Processor</td>\n",
              "      <td>0</td>\n",
              "      <td>0</td>\n",
              "      <td>Intel</td>\n",
              "      <td>Others/No OS/Linux</td>\n",
              "    </tr>\n",
              "    <tr>\n",
              "      <th>1020</th>\n",
              "      <td>Dell</td>\n",
              "      <td>2 in 1 Convertible</td>\n",
              "      <td>4</td>\n",
              "      <td>2.08</td>\n",
              "      <td>1</td>\n",
              "      <td>1</td>\n",
              "      <td>141.211998</td>\n",
              "      <td>Intel Core i3</td>\n",
              "      <td>1000</td>\n",
              "      <td>0</td>\n",
              "      <td>Intel</td>\n",
              "      <td>Windows</td>\n",
              "    </tr>\n",
              "    <tr>\n",
              "      <th>878</th>\n",
              "      <td>Dell</td>\n",
              "      <td>Notebook</td>\n",
              "      <td>4</td>\n",
              "      <td>2.18</td>\n",
              "      <td>0</td>\n",
              "      <td>0</td>\n",
              "      <td>141.211998</td>\n",
              "      <td>Intel Core i5</td>\n",
              "      <td>1000</td>\n",
              "      <td>128</td>\n",
              "      <td>Nvidia</td>\n",
              "      <td>Windows</td>\n",
              "    </tr>\n",
              "    <tr>\n",
              "      <th>...</th>\n",
              "      <td>...</td>\n",
              "      <td>...</td>\n",
              "      <td>...</td>\n",
              "      <td>...</td>\n",
              "      <td>...</td>\n",
              "      <td>...</td>\n",
              "      <td>...</td>\n",
              "      <td>...</td>\n",
              "      <td>...</td>\n",
              "      <td>...</td>\n",
              "      <td>...</td>\n",
              "      <td>...</td>\n",
              "    </tr>\n",
              "    <tr>\n",
              "      <th>466</th>\n",
              "      <td>Acer</td>\n",
              "      <td>Notebook</td>\n",
              "      <td>4</td>\n",
              "      <td>2.20</td>\n",
              "      <td>0</td>\n",
              "      <td>0</td>\n",
              "      <td>100.454670</td>\n",
              "      <td>Intel Core i3</td>\n",
              "      <td>500</td>\n",
              "      <td>0</td>\n",
              "      <td>Nvidia</td>\n",
              "      <td>Windows</td>\n",
              "    </tr>\n",
              "    <tr>\n",
              "      <th>299</th>\n",
              "      <td>Asus</td>\n",
              "      <td>Ultrabook</td>\n",
              "      <td>16</td>\n",
              "      <td>1.63</td>\n",
              "      <td>0</td>\n",
              "      <td>0</td>\n",
              "      <td>141.211998</td>\n",
              "      <td>Intel Core i7</td>\n",
              "      <td>0</td>\n",
              "      <td>512</td>\n",
              "      <td>Nvidia</td>\n",
              "      <td>Windows</td>\n",
              "    </tr>\n",
              "    <tr>\n",
              "      <th>493</th>\n",
              "      <td>Acer</td>\n",
              "      <td>Notebook</td>\n",
              "      <td>8</td>\n",
              "      <td>2.20</td>\n",
              "      <td>0</td>\n",
              "      <td>0</td>\n",
              "      <td>100.454670</td>\n",
              "      <td>AMD Processor</td>\n",
              "      <td>1000</td>\n",
              "      <td>0</td>\n",
              "      <td>AMD</td>\n",
              "      <td>Windows</td>\n",
              "    </tr>\n",
              "    <tr>\n",
              "      <th>527</th>\n",
              "      <td>Lenovo</td>\n",
              "      <td>Notebook</td>\n",
              "      <td>8</td>\n",
              "      <td>2.20</td>\n",
              "      <td>0</td>\n",
              "      <td>0</td>\n",
              "      <td>100.454670</td>\n",
              "      <td>Intel Core i3</td>\n",
              "      <td>2000</td>\n",
              "      <td>0</td>\n",
              "      <td>Nvidia</td>\n",
              "      <td>Others/No OS/Linux</td>\n",
              "    </tr>\n",
              "    <tr>\n",
              "      <th>1193</th>\n",
              "      <td>Apple</td>\n",
              "      <td>Ultrabook</td>\n",
              "      <td>8</td>\n",
              "      <td>0.92</td>\n",
              "      <td>0</td>\n",
              "      <td>1</td>\n",
              "      <td>226.415547</td>\n",
              "      <td>Other Intel Processor</td>\n",
              "      <td>0</td>\n",
              "      <td>0</td>\n",
              "      <td>Intel</td>\n",
              "      <td>Mac</td>\n",
              "    </tr>\n",
              "  </tbody>\n",
              "</table>\n",
              "<p>1106 rows × 12 columns</p>\n",
              "</div>"
            ],
            "text/plain": [
              "      Company            TypeName  Ram  Weight  Touchscreen  Ips         ppi  \\\n",
              "183   Toshiba            Notebook    8    2.00            0    0  100.454670   \n",
              "1141      MSI              Gaming    8    2.40            0    0  141.211998   \n",
              "1049     Asus             Netbook    4    1.20            0    0  135.094211   \n",
              "1020     Dell  2 in 1 Convertible    4    2.08            1    1  141.211998   \n",
              "878      Dell            Notebook    4    2.18            0    0  141.211998   \n",
              "...       ...                 ...  ...     ...          ...  ...         ...   \n",
              "466      Acer            Notebook    4    2.20            0    0  100.454670   \n",
              "299      Asus           Ultrabook   16    1.63            0    0  141.211998   \n",
              "493      Acer            Notebook    8    2.20            0    0  100.454670   \n",
              "527    Lenovo            Notebook    8    2.20            0    0  100.454670   \n",
              "1193    Apple           Ultrabook    8    0.92            0    1  226.415547   \n",
              "\n",
              "                  Cpu brand   HDD  SSD Gpu brand                  os  \n",
              "183           Intel Core i5     0  128     Intel             Windows  \n",
              "1141          Intel Core i7  1000  128    Nvidia             Windows  \n",
              "1049  Other Intel Processor     0    0     Intel  Others/No OS/Linux  \n",
              "1020          Intel Core i3  1000    0     Intel             Windows  \n",
              "878           Intel Core i5  1000  128    Nvidia             Windows  \n",
              "...                     ...   ...  ...       ...                 ...  \n",
              "466           Intel Core i3   500    0    Nvidia             Windows  \n",
              "299           Intel Core i7     0  512    Nvidia             Windows  \n",
              "493           AMD Processor  1000    0       AMD             Windows  \n",
              "527           Intel Core i3  2000    0    Nvidia  Others/No OS/Linux  \n",
              "1193  Other Intel Processor     0    0     Intel                 Mac  \n",
              "\n",
              "[1106 rows x 12 columns]"
            ]
          },
          "execution_count": 108,
          "metadata": {},
          "output_type": "execute_result"
        }
      ],
      "source": [
        "X_train"
      ]
    },
    {
      "cell_type": "code",
      "execution_count": null,
      "id": "55367c9e",
      "metadata": {
        "id": "55367c9e"
      },
      "outputs": [],
      "source": [
        "#git commands\n",
        "# git init \n",
        "# git remote add origin https://github.com/Temari-nara/LaptopPriceprediction.git\n",
        "# git status\n",
        "# git add .\n",
        "# git commit -m \"message\"\n",
        "# git branch -M main\n",
        "# git push -u origin main"
      ]
    },
    {
      "cell_type": "code",
      "execution_count": null,
      "id": "fadf8b78",
      "metadata": {},
      "outputs": [],
      "source": []
    }
  ],
  "metadata": {
    "colab": {
      "provenance": []
    },
    "kernelspec": {
      "display_name": "Python 3",
      "language": "python",
      "name": "python3"
    },
    "language_info": {
      "codemirror_mode": {
        "name": "ipython",
        "version": 3
      },
      "file_extension": ".py",
      "mimetype": "text/x-python",
      "name": "python",
      "nbconvert_exporter": "python",
      "pygments_lexer": "ipython3",
      "version": "3.13.5"
    }
  },
  "nbformat": 4,
  "nbformat_minor": 5
}
